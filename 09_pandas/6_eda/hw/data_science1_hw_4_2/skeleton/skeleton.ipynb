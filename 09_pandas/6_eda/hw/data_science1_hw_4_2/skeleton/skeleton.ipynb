{
 "cells": [
  {
   "cell_type": "code",
   "execution_count": 1,
   "id": "fa726e9c",
   "metadata": {},
   "outputs": [],
   "source": [
    "# 포함 기술스택: python, pandas\n",
    "import pandas as pd"
   ]
  },
  {
   "cell_type": "code",
   "execution_count": 3,
   "id": "194e3380",
   "metadata": {},
   "outputs": [],
   "source": [
    "# 데이터 로드\n",
    "file_path = \"../data/movie_data.csv\"\n",
    "movies = pd.read_csv(file_path)"
   ]
  },
  {
   "cell_type": "code",
   "execution_count": 4,
   "id": "cf7511ab",
   "metadata": {},
   "outputs": [],
   "source": [
    "# 사용자로부터 감독 이름 입력 받기\n",
    "director_name = input(\"감독의 이름을 입력하세요: \")"
   ]
  },
  {
   "cell_type": "code",
   "execution_count": 8,
   "id": "9874b771",
   "metadata": {},
   "outputs": [],
   "source": [
    "# 특정 감독의 영화 필터링\n",
    "director_movies = movies.loc[movies[\"Director\"] == director_name]"
   ]
  },
  {
   "cell_type": "code",
   "execution_count": 12,
   "id": "e8f82df4",
   "metadata": {},
   "outputs": [
    {
     "name": "stdout",
     "output_type": "stream",
     "text": [
      "James Cameron 감독 영화의 평균 평점: 7.87\n"
     ]
    }
   ],
   "source": [
    "# 평균 평점 계산\n",
    "average_rating = director_movies['Rating'].mean()\n",
    "print(f\"{director_name} 감독 영화의 평균 평점: {average_rating:.2f}\")"
   ]
  },
  {
   "cell_type": "code",
   "execution_count": 13,
   "id": "c4f8b08a",
   "metadata": {},
   "outputs": [
    {
     "name": "stdout",
     "output_type": "stream",
     "text": [
      "가장 높은 평점을 받은 영화: Saving Private Ryan (9.2)\n"
     ]
    }
   ],
   "source": [
    "# 가장 높은 평점을 받은 영화 찾기\n",
    "best_movie = director_movies.loc[director_movies['Rating'].idxmax()]\n",
    "print(f\"가장 높은 평점을 받은 영화: {best_movie['Title']} ({best_movie['Rating']})\")"
   ]
  }
 ],
 "metadata": {
  "kernelspec": {
   "display_name": "Python 3",
   "language": "python",
   "name": "python3"
  },
  "language_info": {
   "codemirror_mode": {
    "name": "ipython",
    "version": 3
   },
   "file_extension": ".py",
   "mimetype": "text/x-python",
   "name": "python",
   "nbconvert_exporter": "python",
   "pygments_lexer": "ipython3",
   "version": "3.11.9"
  }
 },
 "nbformat": 4,
 "nbformat_minor": 5
}
