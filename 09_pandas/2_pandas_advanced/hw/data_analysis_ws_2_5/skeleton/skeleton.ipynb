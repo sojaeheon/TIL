{
 "cells": [
  {
   "cell_type": "code",
   "execution_count": 2,
   "id": "ae7b99ef",
   "metadata": {},
   "outputs": [],
   "source": [
    "# 필요한 라이브러리 불러오기\n",
    "import pandas as pd"
   ]
  },
  {
   "cell_type": "code",
   "execution_count": 15,
   "id": "2722dfb4",
   "metadata": {},
   "outputs": [],
   "source": [
    "# ===================== 1. 데이터 로드 =====================\n",
    "# 각 데이터 파일 경로 설정\n",
    "purchase_file_path = \"../data/purchase_history.csv\"\n",
    "survey_file_path = \"../data/satisfaction_survey.csv\"\n",
    "\n",
    "# CSV 파일을 데이터프레임으로 로드\n",
    "df_purchase = pd.read_csv(purchase_file_path)\n",
    "df_survey = pd.read_csv(survey_file_path)"
   ]
  },
  {
   "cell_type": "code",
   "execution_count": 16,
   "id": "7d8c4082",
   "metadata": {},
   "outputs": [
    {
     "name": "stdout",
     "output_type": "stream",
     "text": [
      "=== 구매 이력 데이터 정보 ===\n",
      "<class 'pandas.core.frame.DataFrame'>\n",
      "RangeIndex: 99441 entries, 0 to 99440\n",
      "Data columns (total 3 columns):\n",
      " #   Column           Non-Null Count  Dtype  \n",
      "---  ------           --------------  -----  \n",
      " 0   CustomerID       99441 non-null  object \n",
      " 1   PurchaseHistory  99441 non-null  int64  \n",
      " 2   TotalSpent       99441 non-null  float64\n",
      "dtypes: float64(1), int64(1), object(1)\n",
      "memory usage: 2.3+ MB\n",
      "None\n",
      "\n",
      "=== 고객 만족도 설문 데이터 정보 ===\n",
      "<class 'pandas.core.frame.DataFrame'>\n",
      "RangeIndex: 99441 entries, 0 to 99440\n",
      "Data columns (total 2 columns):\n",
      " #   Column        Non-Null Count  Dtype  \n",
      "---  ------        --------------  -----  \n",
      " 0   CustomerID    99441 non-null  object \n",
      " 1   Satisfaction  98673 non-null  float64\n",
      "dtypes: float64(1), object(1)\n",
      "memory usage: 1.5+ MB\n",
      "None\n"
     ]
    }
   ],
   "source": [
    "# ===================== 2. 데이터 확인 =====================\n",
    "# 데이터프레임 기본 정보 출력\n",
    "print(\"=== 구매 이력 데이터 정보 ===\")\n",
    "print(df_purchase.info())  # 컬럼 정보 및 데이터 타입 확인\n",
    "\n",
    "print(\"\\n=== 고객 만족도 설문 데이터 정보 ===\")\n",
    "print(df_survey.info())  # 컬럼 정보 및 데이터 타입 확인"
   ]
  },
  {
   "cell_type": "code",
   "execution_count": 17,
   "id": "1d124ec6",
   "metadata": {},
   "outputs": [
    {
     "name": "stdout",
     "output_type": "stream",
     "text": [
      "\n",
      "=== 구매 이력 데이터 샘플 ===\n",
      "                         CustomerID  PurchaseHistory  TotalSpent\n",
      "0  00012a2ce6f8dcda20d059ce98491703                1      114.74\n",
      "1  000161a058600d5901f007fab4c27140                1       67.41\n",
      "2  0001fd6190edaaf884bcaf3d49edf079                1      195.42\n",
      "3  0002414f95344307404f0ace7a26f1d5                1      179.35\n",
      "4  000379cdec625522490c315e70c7a9fb                1      107.01\n",
      "\n",
      "=== 고객 만족도 설문 데이터 샘플 ===\n",
      "                         CustomerID  Satisfaction\n",
      "0  00012a2ce6f8dcda20d059ce98491703           1.0\n",
      "1  000161a058600d5901f007fab4c27140           4.0\n",
      "2  0001fd6190edaaf884bcaf3d49edf079           5.0\n",
      "3  0002414f95344307404f0ace7a26f1d5           5.0\n",
      "4  000379cdec625522490c315e70c7a9fb           4.0\n"
     ]
    }
   ],
   "source": [
    "# 데이터의 상위 5개 행 출력\n",
    "print(\"\\n=== 구매 이력 데이터 샘플 ===\")\n",
    "print(df_purchase.head())\n",
    "\n",
    "print(\"\\n=== 고객 만족도 설문 데이터 샘플 ===\")\n",
    "print(df_survey.head())"
   ]
  },
  {
   "cell_type": "code",
   "execution_count": 18,
   "id": "58f3d1c4",
   "metadata": {},
   "outputs": [
    {
     "name": "stdout",
     "output_type": "stream",
     "text": [
      "\n",
      "=== 병합된 데이터 확인 ===\n",
      "                         CustomerID  PurchaseHistory  TotalSpent  Satisfaction\n",
      "0  00012a2ce6f8dcda20d059ce98491703                1      114.74           1.0\n",
      "1  000161a058600d5901f007fab4c27140                1       67.41           4.0\n",
      "2  0001fd6190edaaf884bcaf3d49edf079                1      195.42           5.0\n",
      "3  0002414f95344307404f0ace7a26f1d5                1      179.35           5.0\n",
      "4  000379cdec625522490c315e70c7a9fb                1      107.01           4.0\n"
     ]
    }
   ],
   "source": [
    "# ===================== 3. 데이터 병합 =====================\n",
    "# 두 데이터셋을 CustomerID를 기준으로 병합\n",
    "df_merged = pd.merge(df_purchase, df_survey, on=\"CustomerID\")\n",
    "\n",
    "# 병합된 데이터 확인\n",
    "print(\"\\n=== 병합된 데이터 확인 ===\")\n",
    "print(df_merged.head())"
   ]
  },
  {
   "cell_type": "code",
   "execution_count": 20,
   "id": "3eed570f",
   "metadata": {},
   "outputs": [
    {
     "name": "stdout",
     "output_type": "stream",
     "text": [
      "\n",
      "=== 결측치 개수 확인 ===\n",
      "CustomerID           0\n",
      "PurchaseHistory      0\n",
      "TotalSpent           0\n",
      "Satisfaction       768\n",
      "dtype: int64\n",
      "\n",
      "=== 결측치 처리 후 데이터 크기 ===\n",
      "(99441, 4)\n"
     ]
    }
   ],
   "source": [
    "# ===================== 4. 결측치 처리 =====================\n",
    "# 각 컬럼별 결측치 개수 확인\n",
    "print(\"\\n=== 결측치 개수 확인 ===\")\n",
    "print(df_merged.isna().sum())  # 결측치 개수 출력\n",
    "\n",
    "# # 결측치가 없는 경우 그대로 사용, 결측치가 있다면 제거 또는 적절한 값으로 대체\n",
    "df_merged = df_merged.fillna(df_merged['Satisfaction'].median())\n",
    "\n",
    "# 결측치 처리 후 데이터 확인\n",
    "print(\"\\n=== 결측치 처리 후 데이터 크기 ===\")\n",
    "print(df_merged.shape)  # 데이터 크기 확인"
   ]
  },
  {
   "cell_type": "code",
   "execution_count": 21,
   "id": "befc513f",
   "metadata": {},
   "outputs": [
    {
     "name": "stdout",
     "output_type": "stream",
     "text": [
      "\n",
      "=== 구매 횟수 기반 고객 세분화 결과 ===\n",
      "PurchaseCategory\n",
      "Low    99441\n",
      "Name: count, dtype: int64\n"
     ]
    }
   ],
   "source": [
    "# ===================== 5. 고객 세분화 (구매 이력 기반) =====================\n",
    "# 구매 횟수(PurchaseHistory)를 기준으로 고객을 세 그룹으로 나누기\n",
    "# 구매 횟수가 10 이하: 'Low'\n",
    "# 구매 횟수가 11~30: 'Medium'\n",
    "# 구매 횟수가 31 이상: 'High'\n",
    "def categorize_purchase_history(purchase_count):\n",
    "    if purchase_count<=10:\n",
    "        return 'Low'\n",
    "    elif purchase_count<=30:\n",
    "        return 'Medium'\n",
    "    else:\n",
    "        return 'High'\n",
    "\n",
    "df_merged[\"PurchaseCategory\"] = df_merged[\"PurchaseHistory\"].apply(categorize_purchase_history)\n",
    "\n",
    "# 고객 세분화 결과 확인\n",
    "print(\"\\n=== 구매 횟수 기반 고객 세분화 결과 ===\")\n",
    "print(df_merged[\"PurchaseCategory\"].value_counts())  # 각 그룹별 고객 수 확인"
   ]
  },
  {
   "cell_type": "code",
   "execution_count": 22,
   "id": "92a86a07",
   "metadata": {},
   "outputs": [
    {
     "name": "stdout",
     "output_type": "stream",
     "text": [
      "\n",
      "=== 고객 만족도 기반 세분화 결과 ===\n",
      "SatisfactionCategory\n",
      "Medium    76796\n",
      "Low       22619\n",
      "High         26\n",
      "Name: count, dtype: int64\n"
     ]
    }
   ],
   "source": [
    "# ===================== 6. 고객 만족도 기반 세분화 =====================\n",
    "# 만족도 점수(Satisfaction)를 기준으로 고객을 세 그룹으로 나누기\n",
    "# 만족도 1~3: 'Low'\n",
    "# 만족도 4~7: 'Medium'\n",
    "# 만족도 8~10: 'High'\n",
    "def categorize_satisfaction(satisfaction_score):\n",
    "    if 1<=satisfaction_score<=3:\n",
    "        return 'Low'\n",
    "    elif 4<=satisfaction_score<=7:\n",
    "        return 'Medium'\n",
    "    else:\n",
    "        return 'High'\n",
    "\n",
    "df_merged[\"SatisfactionCategory\"] = df_merged[\"Satisfaction\"].apply(categorize_satisfaction)\n",
    "\n",
    "# 고객 만족도 세분화 결과 확인\n",
    "print(\"\\n=== 고객 만족도 기반 세분화 결과 ===\")\n",
    "print(df_merged[\"SatisfactionCategory\"].value_counts())  # 각 그룹별 고객 수 확인"
   ]
  },
  {
   "cell_type": "code",
   "execution_count": 24,
   "id": "96c136be",
   "metadata": {},
   "outputs": [
    {
     "name": "stdout",
     "output_type": "stream",
     "text": [
      "\n",
      "=== 구매 카테고리별 평균 지출 금액 분석 ===\n",
      "  PurchaseCategory    AvgSpent\n",
      "0              Low  160.988648\n",
      "\n",
      "=== 만족도 카테고리별 평균 지출 금액 분석 ===\n",
      "  SatisfactionCategory    AvgSpent\n",
      "0                 High  139.740385\n",
      "1                  Low  176.667751\n",
      "2               Medium  156.377819\n"
     ]
    }
   ],
   "source": [
    "# ===================== 7. 각 그룹별 평균 구매 금액 분석 =====================\n",
    "# 구매 카테고리별 평균 총 지출 금액 분석\n",
    "df_purchase_analysis = df_merged.groupby(\"PurchaseCategory\")[\"TotalSpent\"].mean().reset_index()\n",
    "df_purchase_analysis.rename(columns={\"TotalSpent\": \"AvgSpent\"}, inplace=True)\n",
    "\n",
    "# 구매 카테고리별 평균 지출 금액 출력\n",
    "print(\"\\n=== 구매 카테고리별 평균 지출 금액 분석 ===\")\n",
    "print(df_purchase_analysis)\n",
    "\n",
    "# 만족도 카테고리별 평균 총 지출 금액 분석\n",
    "df_satisfaction_analysis = df_merged.groupby(\"SatisfactionCategory\")[\"TotalSpent\"].mean().reset_index()\n",
    "df_satisfaction_analysis.rename(columns={\"TotalSpent\": \"AvgSpent\"}, inplace=True)\n",
    "\n",
    "# 만족도 카테고리별 평균 지출 금액 출력\n",
    "print(\"\\n=== 만족도 카테고리별 평균 지출 금액 분석 ===\")\n",
    "print(df_satisfaction_analysis)\n"
   ]
  },
  {
   "cell_type": "code",
   "execution_count": 25,
   "id": "04ad9e46",
   "metadata": {},
   "outputs": [
    {
     "name": "stdout",
     "output_type": "stream",
     "text": [
      "\n",
      "=== 구매 카테고리와 만족도 카테고리 간의 관계 분석 ===\n",
      "  PurchaseCategory SatisfactionCategory  CustomerCount\n",
      "0              Low                 High             26\n",
      "1              Low                  Low          22619\n",
      "2              Low               Medium          76796\n"
     ]
    }
   ],
   "source": [
    "# ===================== 8. 구매 카테고리와 만족도 카테고리 간의 관계 분석 =====================\n",
    "# 구매 카테고리별 고객 만족도 분포 확인\n",
    "df_category_relation = df_merged.groupby([\"PurchaseCategory\", \"SatisfactionCategory\"])[\"CustomerID\"].count().reset_index()\n",
    "df_category_relation.rename(columns={\"CustomerID\": \"CustomerCount\"}, inplace=True)\n",
    "\n",
    "# 관계 분석 결과 출력\n",
    "print(\"\\n=== 구매 카테고리와 만족도 카테고리 간의 관계 분석 ===\")\n",
    "print(df_category_relation)"
   ]
  },
  {
   "cell_type": "code",
   "execution_count": 26,
   "id": "a78c7446",
   "metadata": {},
   "outputs": [
    {
     "name": "stdout",
     "output_type": "stream",
     "text": [
      "\n",
      "=== 분석된 데이터 저장 완료 ===\n"
     ]
    }
   ],
   "source": [
    "# ===================== 9. 데이터 저장 =====================\n",
    "# 분석된 데이터를 CSV 파일로 저장\n",
    "df_merged.to_csv(\"../data/segmented_customer_data.csv\", index=False)\n",
    "df_purchase_analysis.to_csv(\"../data/purchase_category_analysis.csv\", index=False)\n",
    "df_satisfaction_analysis.to_csv(\"../data/satisfaction_category_analysis.csv\", index=False)\n",
    "df_category_relation.to_csv(\"../data/category_relation_analysis.csv\", index=False)\n",
    "\n",
    "print(\"\\n=== 분석된 데이터 저장 완료 ===\")\n"
   ]
  }
 ],
 "metadata": {
  "kernelspec": {
   "display_name": "Python 3",
   "language": "python",
   "name": "python3"
  },
  "language_info": {
   "codemirror_mode": {
    "name": "ipython",
    "version": 3
   },
   "file_extension": ".py",
   "mimetype": "text/x-python",
   "name": "python",
   "nbconvert_exporter": "python",
   "pygments_lexer": "ipython3",
   "version": "3.11.9"
  }
 },
 "nbformat": 4,
 "nbformat_minor": 5
}
