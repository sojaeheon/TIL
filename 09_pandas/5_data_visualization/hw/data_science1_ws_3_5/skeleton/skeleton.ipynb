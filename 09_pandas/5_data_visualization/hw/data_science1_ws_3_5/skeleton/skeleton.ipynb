{
 "cells": [
  {
   "cell_type": "code",
   "execution_count": 1,
   "id": "2aaea775",
   "metadata": {},
   "outputs": [],
   "source": [
    "import pandas as pd\n",
    "import plotly.express as px\n"
   ]
  },
  {
   "cell_type": "code",
   "execution_count": 2,
   "id": "6354ab9b",
   "metadata": {},
   "outputs": [],
   "source": [
    "# 1. 데이터 로드\n",
    "data = pd.read_csv('../data/world_data.csv')"
   ]
  },
  {
   "cell_type": "code",
   "execution_count": 3,
   "id": "d3bb00a3",
   "metadata": {},
   "outputs": [
    {
     "data": {
      "text/html": [
       "<div>\n",
       "<style scoped>\n",
       "    .dataframe tbody tr th:only-of-type {\n",
       "        vertical-align: middle;\n",
       "    }\n",
       "\n",
       "    .dataframe tbody tr th {\n",
       "        vertical-align: top;\n",
       "    }\n",
       "\n",
       "    .dataframe thead th {\n",
       "        text-align: right;\n",
       "    }\n",
       "</style>\n",
       "<table border=\"1\" class=\"dataframe\">\n",
       "  <thead>\n",
       "    <tr style=\"text-align: right;\">\n",
       "      <th></th>\n",
       "      <th>Country</th>\n",
       "      <th>Year</th>\n",
       "      <th>Population</th>\n",
       "      <th>GDP</th>\n",
       "      <th>LifeExpectancy</th>\n",
       "    </tr>\n",
       "  </thead>\n",
       "  <tbody>\n",
       "    <tr>\n",
       "      <th>0</th>\n",
       "      <td>USA</td>\n",
       "      <td>2000</td>\n",
       "      <td>1283642419</td>\n",
       "      <td>3794459720974</td>\n",
       "      <td>74.64</td>\n",
       "    </tr>\n",
       "    <tr>\n",
       "      <th>1</th>\n",
       "      <td>USA</td>\n",
       "      <td>2001</td>\n",
       "      <td>1291179009</td>\n",
       "      <td>3968949030285</td>\n",
       "      <td>74.89</td>\n",
       "    </tr>\n",
       "    <tr>\n",
       "      <th>2</th>\n",
       "      <td>USA</td>\n",
       "      <td>2002</td>\n",
       "      <td>1324059435</td>\n",
       "      <td>3952537491226</td>\n",
       "      <td>75.37</td>\n",
       "    </tr>\n",
       "    <tr>\n",
       "      <th>3</th>\n",
       "      <td>USA</td>\n",
       "      <td>2003</td>\n",
       "      <td>1352166606</td>\n",
       "      <td>4102626826157</td>\n",
       "      <td>75.03</td>\n",
       "    </tr>\n",
       "    <tr>\n",
       "      <th>4</th>\n",
       "      <td>USA</td>\n",
       "      <td>2004</td>\n",
       "      <td>1323905931</td>\n",
       "      <td>4256241754841</td>\n",
       "      <td>75.57</td>\n",
       "    </tr>\n",
       "  </tbody>\n",
       "</table>\n",
       "</div>"
      ],
      "text/plain": [
       "  Country  Year  Population            GDP  LifeExpectancy\n",
       "0     USA  2000  1283642419  3794459720974           74.64\n",
       "1     USA  2001  1291179009  3968949030285           74.89\n",
       "2     USA  2002  1324059435  3952537491226           75.37\n",
       "3     USA  2003  1352166606  4102626826157           75.03\n",
       "4     USA  2004  1323905931  4256241754841           75.57"
      ]
     },
     "execution_count": 3,
     "metadata": {},
     "output_type": "execute_result"
    }
   ],
   "source": [
    "# 데이터 확인\n",
    "data.head()  # 상위 5개 행"
   ]
  },
  {
   "cell_type": "code",
   "execution_count": 4,
   "id": "1f595991",
   "metadata": {},
   "outputs": [
    {
     "name": "stdout",
     "output_type": "stream",
     "text": [
      "Requirement already satisfied: nbformat in c:\\users\\ssafy\\appdata\\local\\programs\\python\\python311\\lib\\site-packages (5.10.4)\n",
      "Requirement already satisfied: fastjsonschema>=2.15 in c:\\users\\ssafy\\appdata\\local\\programs\\python\\python311\\lib\\site-packages (from nbformat) (2.21.2)\n",
      "Requirement already satisfied: jsonschema>=2.6 in c:\\users\\ssafy\\appdata\\local\\programs\\python\\python311\\lib\\site-packages (from nbformat) (4.25.1)\n",
      "Requirement already satisfied: jupyter-core!=5.0.*,>=4.12 in c:\\users\\ssafy\\appdata\\roaming\\python\\python311\\site-packages (from nbformat) (5.8.1)\n",
      "Requirement already satisfied: traitlets>=5.1 in c:\\users\\ssafy\\appdata\\roaming\\python\\python311\\site-packages (from nbformat) (5.14.3)\n",
      "Requirement already satisfied: attrs>=22.2.0 in c:\\users\\ssafy\\appdata\\local\\programs\\python\\python311\\lib\\site-packages (from jsonschema>=2.6->nbformat) (25.3.0)\n",
      "Requirement already satisfied: jsonschema-specifications>=2023.03.6 in c:\\users\\ssafy\\appdata\\local\\programs\\python\\python311\\lib\\site-packages (from jsonschema>=2.6->nbformat) (2025.9.1)\n",
      "Requirement already satisfied: referencing>=0.28.4 in c:\\users\\ssafy\\appdata\\local\\programs\\python\\python311\\lib\\site-packages (from jsonschema>=2.6->nbformat) (0.36.2)\n",
      "Requirement already satisfied: rpds-py>=0.7.1 in c:\\users\\ssafy\\appdata\\local\\programs\\python\\python311\\lib\\site-packages (from jsonschema>=2.6->nbformat) (0.27.1)\n",
      "Requirement already satisfied: platformdirs>=2.5 in c:\\users\\ssafy\\appdata\\roaming\\python\\python311\\site-packages (from jupyter-core!=5.0.*,>=4.12->nbformat) (4.4.0)\n",
      "Requirement already satisfied: pywin32>=300 in c:\\users\\ssafy\\appdata\\roaming\\python\\python311\\site-packages (from jupyter-core!=5.0.*,>=4.12->nbformat) (311)\n",
      "Requirement already satisfied: typing-extensions>=4.4.0 in c:\\users\\ssafy\\appdata\\roaming\\python\\python311\\site-packages (from referencing>=0.28.4->jsonschema>=2.6->nbformat) (4.15.0)\n",
      "Note: you may need to restart the kernel to use updated packages.\n"
     ]
    },
    {
     "name": "stderr",
     "output_type": "stream",
     "text": [
      "\n",
      "[notice] A new release of pip is available: 24.0 -> 25.2\n",
      "[notice] To update, run: python.exe -m pip install --upgrade pip\n"
     ]
    }
   ],
   "source": [
    "pip install --upgrade nbformat"
   ]
  },
  {
   "cell_type": "code",
   "execution_count": 5,
   "id": "fcf9c890",
   "metadata": {},
   "outputs": [
    {
     "data": {
      "application/vnd.plotly.v1+json": {
       "config": {
        "plotlyServerURL": "https://plot.ly"
       },
       "data": [
        {
         "hovertemplate": "<b>%{hovertext}</b><br><br>Country=USA<br>Population=%{marker.size}<br>GDP=%{y}<br>LifeExpectancy=%{z}<extra></extra>",
         "hovertext": [
          "USA",
          "USA",
          "USA",
          "USA",
          "USA",
          "USA",
          "USA",
          "USA",
          "USA",
          "USA",
          "USA",
          "USA",
          "USA",
          "USA",
          "USA",
          "USA",
          "USA",
          "USA",
          "USA",
          "USA",
          "USA"
         ],
         "legendgroup": "USA",
         "marker": {
          "color": "#636efa",
          "size": {
           "bdata": "M9SCTAHU9Uwri+tOzmyYUIsz6U7TIwFRSEHTTx0nFVNZ56VUYOTLVglekVyXGPZU1sfeV4bALlKAgileF+4kXUyYnGNI6NtgOz83WNVP413ddQJe",
           "dtype": "i4"
          },
          "sizemode": "area",
          "sizeref": 5018178.29,
          "symbol": "circle"
         },
         "mode": "markers",
         "name": "USA",
         "scene": "scene",
         "showlegend": true,
         "type": "scatter3d",
         "x": {
          "bdata": "M9SCTAHU9Uwri+tOzmyYUIsz6U7TIwFRSEHTTx0nFVNZ56VUYOTLVglekVyXGPZU1sfeV4bALlKAgileF+4kXUyYnGNI6NtgOz83WNVP413ddQJe",
          "dtype": "i4"
         },
         "y": [
          3794459720974,
          3968949030285,
          3952537491226,
          4102626826157,
          4256241754841,
          4371912710194,
          4498268317931,
          5113969837331,
          5104662120631,
          4743577516227,
          6120350909675,
          4869179462782,
          5023710297983,
          6917742366275,
          5689063490014,
          5539553943713,
          8056692420283,
          8372777007710,
          5550662409725,
          6429046795735,
          6647036903714
         ],
         "z": {
          "bdata": "KVyPwvWoUkApXI/C9bhSQEjhehSu11JAUrgehevBUkAUrkfheuRSQFyPwvUo/FJAAAAAAADwUkCF61G4HuVSQGZmZmZm1lJAj8L1KFzfUkDXo3A9CndTQOF6FK5HcVNAZmZmZmZWU0ApXI/C9ShTQHsUrkfhelNAw/UoXI8SVEAzMzMzMxNUQLgehetRGFNAw/UoXI9yU0AAAAAAAEBUQOF6FK5H4VNA",
          "dtype": "f8"
         }
        },
        {
         "hovertemplate": "<b>%{hovertext}</b><br><br>Country=China<br>Population=%{marker.size}<br>GDP=%{y}<br>LifeExpectancy=%{z}<extra></extra>",
         "hovertext": [
          "China",
          "China",
          "China",
          "China",
          "China",
          "China",
          "China",
          "China",
          "China",
          "China",
          "China",
          "China",
          "China",
          "China",
          "China",
          "China",
          "China",
          "China",
          "China",
          "China",
          "China"
         ],
         "legendgroup": "China",
         "marker": {
          "color": "#EF553B",
          "size": {
           "bdata": "qDKsJCIf3STCS+sleUBSJvT1bCZwYYMnONO5Jm65ACqAFUEndFktKl56uSdsXHoqkWldKwef7C6JIjYvWht3KIgB3CsSJCwpT1snK9aviyzFLH4v",
           "dtype": "i4"
          },
          "sizemode": "area",
          "sizeref": 5018178.29,
          "symbol": "circle"
         },
         "mode": "markers",
         "name": "China",
         "scene": "scene",
         "showlegend": true,
         "type": "scatter3d",
         "x": {
          "bdata": "qDKsJCIf3STCS+sleUBSJvT1bCZwYYMnONO5Jm65ACqAFUEndFktKl56uSdsXHoqkWldKwef7C6JIjYvWht3KIgB3CsSJCwpT1snK9aviyzFLH4v",
          "dtype": "i4"
         },
         "y": [
          16781973170240,
          17217721670360,
          18087866091066,
          19285967074420,
          18370108280069,
          20415644555731,
          20850030958817,
          22909548537763,
          20879168026219,
          20652463677751,
          26532772326729,
          26072561174035,
          25712369530475,
          27241027738432,
          28568280925584,
          27588989394517,
          34726432741131,
          28055141025438,
          33663771082782,
          28965784560498,
          33100145082959
         ],
         "z": {
          "bdata": "SOF6FK4nTkCF61G4HkVOQHE9CtejcE5ArkfhehSOTkAUrkfhenROQArXo3A9qk5APQrXo3CdTkBcj8L1KPxOQHE9CtejcE5ACtejcD3qTkDsUbgehQtPQM3MzMzMrE5AUrgehevRTkDsUbgehatPQNejcD0KF09ApHA9CtcDT0ApXI/C9UhPQI/C9ShcT1BAFK5H4Xq0TkAfhetRuB5PQFK4HoXrQVBA",
          "dtype": "f8"
         }
        },
        {
         "hovertemplate": "<b>%{hovertext}</b><br><br>Country=India<br>Population=%{marker.size}<br>GDP=%{y}<br>LifeExpectancy=%{z}<extra></extra>",
         "hovertext": [
          "India",
          "India",
          "India",
          "India",
          "India",
          "India",
          "India",
          "India",
          "India",
          "India",
          "India",
          "India",
          "India",
          "India",
          "India",
          "India",
          "India",
          "India",
          "India",
          "India",
          "India"
         ],
         "legendgroup": "India",
         "marker": {
          "color": "#00cc96",
          "size": {
           "bdata": "acuQRbtu7UYGT09HYSO7Rv+ML0eZQJtIJzc+Th73900ncqNLEaIqTgZYs0y+4/BQwR/sUMa+xkzBE5padJ/lTEg8H1ALIiBX5qMGTmWqcVu1tFlf",
           "dtype": "i4"
          },
          "sizemode": "area",
          "sizeref": 5018178.29,
          "symbol": "circle"
         },
         "mode": "markers",
         "name": "India",
         "scene": "scene",
         "showlegend": true,
         "type": "scatter3d",
         "x": {
          "bdata": "acuQRbtu7UYGT09HYSO7Rv+ML0eZQJtIJzc+Th73900ncqNLEaIqTgZYs0y+4/BQwR/sUMa+xkzBE5padJ/lTEg8H1ALIiBX5qMGTmWqcVu1tFlf",
          "dtype": "i4"
         },
         "y": [
          8682067461946,
          9106389781482,
          9193399800655,
          9717964707541,
          9709633440422,
          9791705191874,
          10202571055592,
          10471248564986,
          11788117544373,
          10626510693787,
          11178523820396,
          13411934044823,
          11924150674784,
          14588410692044,
          12121836907834,
          17475557940077,
          16211267316792,
          15810718506214,
          19817084221038,
          15272122031188,
          21718886874637
         ],
         "z": {
          "bdata": "PQrXo3CdUEBmZmZmZqZQQAAAAAAAsFBAFK5H4XrEUEDNzMzMzOxQQM3MzMzM3FBAzczMzMz8UECkcD0K1xNRQEjhehSuF1FA16NwPQpHUUCPwvUoXM9QQAAAAAAA0FBAuB6F61FYUUDNzMzMzCxRQM3MzMzMLFFAZmZmZmbGUUCamZmZmclRQK5H4XoULlFAXI/C9SgMUkCkcD0K12NRQFK4HoXrMVJA",
          "dtype": "f8"
         }
        },
        {
         "hovertemplate": "<b>%{hovertext}</b><br><br>Country=Germany<br>Population=%{marker.size}<br>GDP=%{y}<br>LifeExpectancy=%{z}<extra></extra>",
         "hovertext": [
          "Germany",
          "Germany",
          "Germany",
          "Germany",
          "Germany",
          "Germany",
          "Germany",
          "Germany",
          "Germany",
          "Germany",
          "Germany",
          "Germany",
          "Germany",
          "Germany",
          "Germany",
          "Germany",
          "Germany",
          "Germany",
          "Germany",
          "Germany",
          "Germany"
         ],
         "legendgroup": "Germany",
         "marker": {
          "color": "#ab63fa",
          "size": {
           "bdata": "94I+SK0TPEnLyRpLV33wShAhekqm6g9L3TZgT9Ux4U6thaVQxHhFVe5Vk1PRsUBPwz3zV11zalRxun1aY3ARWJVYqk8gNytUp9nXV4y5BlFFGtFY",
           "dtype": "i4"
          },
          "sizemode": "area",
          "sizeref": 5018178.29,
          "symbol": "circle"
         },
         "mode": "markers",
         "name": "Germany",
         "scene": "scene",
         "showlegend": true,
         "type": "scatter3d",
         "x": {
          "bdata": "94I+SK0TPEnLyRpLV33wShAhekqm6g9L3TZgT9Ux4U6thaVQxHhFVe5Vk1PRsUBPwz3zV11zalRxun1aY3ARWJVYqk8gNytUp9nXV4y5BlFFGtFY",
          "dtype": "i4"
         },
         "y": [
          7387022038935,
          7617264309752,
          7814350284274,
          8153446728876,
          8012967280712,
          8604986985959,
          8781606016541,
          9661431718894,
          10861452470234,
          9896752924164,
          10941719535683,
          10782055124704,
          9513729028118,
          10629280483856,
          14353633613616,
          12770587889115,
          11702251657934,
          13161474886818,
          16406044649798,
          12089847700582,
          12739777813673
         ],
         "z": {
          "bdata": "4XoUrkdBU0ApXI/C9VhTQNejcD0KV1NAexSuR+GKU0Bcj8L1KHxTQKRwPQrXo1NAAAAAAACgU0BmZmZmZoZTQGZmZmZmtlNAzczMzMysU0DhehSuRyFUQGZmZmZm9lNAAAAAAABwVEDsUbgehWtUQKRwPQrX41NAmpmZmZm5VECuR+F6FM5TQGZmZmZmFlRAhetRuB71VED2KFyPwqVUQM3MzMzMHFRA",
          "dtype": "f8"
         }
        },
        {
         "hovertemplate": "<b>%{hovertext}</b><br><br>Country=UK<br>Population=%{marker.size}<br>GDP=%{y}<br>LifeExpectancy=%{z}<extra></extra>",
         "hovertext": [
          "UK",
          "UK",
          "UK",
          "UK",
          "UK",
          "UK",
          "UK",
          "UK",
          "UK",
          "UK",
          "UK",
          "UK",
          "UK",
          "UK",
          "UK",
          "UK",
          "UK",
          "UK",
          "UK",
          "UK",
          "UK"
         ],
         "legendgroup": "UK",
         "marker": {
          "color": "#FFA15A",
          "size": {
           "bdata": "WUYrU1Q3mFQV9E5WLAF6V4jE8lgwo69X+cH4VQhRvFhf/PBWvr57WFuQR1oJmZtYxY/sYlyJDWLIo11euM8jWqMpRmq0izBevfofbpSHpHevIDZu",
           "dtype": "i4"
          },
          "sizemode": "area",
          "sizeref": 5018178.29,
          "symbol": "circle"
         },
         "mode": "markers",
         "name": "UK",
         "scene": "scene",
         "showlegend": true,
         "type": "scatter3d",
         "x": {
          "bdata": "WUYrU1Q3mFQV9E5WLAF6V4jE8lgwo69X+cH4VQhRvFhf/PBWvr57WFuQR1oJmZtYxY/sYlyJDWLIo11euM8jWqMpRmq0izBevfofbpSHpHevIDZu",
          "dtype": "i4"
         },
         "y": [
          3470899369063,
          3624672018558,
          3720559351488,
          3898649092588,
          4166114340099,
          3885410682462,
          4241158090570,
          4497984688132,
          4923814352575,
          4757999490630,
          5073267812839,
          5118298334401,
          5672413957649,
          5077141860254,
          5480775294161,
          7101100961627,
          5769330461384,
          5505357187741,
          7007823819764,
          7603486543512,
          6591488698954
         ],
         "z": {
          "bdata": "XI/C9Sh8UkDhehSuR5FSQClcj8L1mFJAw/UoXI+yUkApXI/C9ahSQHsUrkfhylJA16NwPQrXUkDhehSuR6FSQJqZmZmZ2VJAzczMzMwsU0Bcj8L1KLxSQDMzMzMzI1NACtejcD2aU0CkcD0K14NTQKRwPQrX01JACtejcD26U0CuR+F6FP5SQKRwPQrXg1NApHA9CtczU0D2KFyPwqVTQFyPwvUoPFNA",
          "dtype": "f8"
         }
        },
        {
         "hovertemplate": "<b>%{hovertext}</b><br><br>Country=France<br>Population=%{marker.size}<br>GDP=%{y}<br>LifeExpectancy=%{z}<extra></extra>",
         "hovertext": [
          "France",
          "France",
          "France",
          "France",
          "France",
          "France",
          "France",
          "France",
          "France",
          "France",
          "France",
          "France",
          "France",
          "France",
          "France",
          "France",
          "France",
          "France",
          "France",
          "France",
          "France"
         ],
         "legendgroup": "France",
         "marker": {
          "color": "#19d3f3",
          "size": {
           "bdata": "MqQ1KVq92SklWDwqsA6mKh0fqCuTu0IsEUgHLeEgny3U7/EvEub4LoyuzTGOtXUyHCqMLKHKKjJ4/ak0+RhMLyxt1DM91u42rTsXN8FL6TL6KGUy",
           "dtype": "i4"
          },
          "sizemode": "area",
          "sizeref": 5018178.29,
          "symbol": "circle"
         },
         "mode": "markers",
         "name": "France",
         "scene": "scene",
         "showlegend": true,
         "type": "scatter3d",
         "x": {
          "bdata": "MqQ1KVq92SklWDwqsA6mKh0fqCuTu0IsEUgHLeEgny3U7/EvEub4LoyuzTGOtXUyHCqMLKHKKjJ4/ak0+RhMLyxt1DM91u42rTsXN8FL6TL6KGUy",
          "dtype": "i4"
         },
         "y": [
          11886858622236,
          12293688912742,
          12713925209445,
          13063199384965,
          12935433351668,
          14124277363359,
          13776079168472,
          13728966552118,
          15928771930368,
          16024986624851,
          16222179258182,
          15743457384400,
          15172650680522,
          15800765063213,
          15835425308379,
          16852753281023,
          24531672337392,
          19154041898195,
          25894721519297,
          21294455428757,
          30314626610581
         ],
         "z": {
          "bdata": "KVyPwvUoT0AUrkfhejRPQKRwPQrXQ09AXI/C9Sh8T0CamZmZmXlPQHsUrkfh2k9AZmZmZmZmT0CF61G4HuVPQK5H4XoUzk9AuB6F61EIUEAK16NwPVpQQJqZmZmZmU9ArkfhehSuT0Bcj8L1KAxQQClcj8L1iFBAPQrXo3B9UEBI4XoUrpdQQArXo3A9ClBAuB6F61EIUUBI4XoUrtdQQPYoXI/CBVFA",
          "dtype": "f8"
         }
        },
        {
         "hovertemplate": "<b>%{hovertext}</b><br><br>Country=Brazil<br>Population=%{marker.size}<br>GDP=%{y}<br>LifeExpectancy=%{z}<extra></extra>",
         "hovertext": [
          "Brazil",
          "Brazil",
          "Brazil",
          "Brazil",
          "Brazil",
          "Brazil",
          "Brazil",
          "Brazil",
          "Brazil",
          "Brazil",
          "Brazil",
          "Brazil",
          "Brazil",
          "Brazil",
          "Brazil",
          "Brazil",
          "Brazil",
          "Brazil",
          "Brazil",
          "Brazil",
          "Brazil"
         ],
         "legendgroup": "Brazil",
         "marker": {
          "color": "#FF6692",
          "size": {
           "bdata": "NuWiLhHw7i5GMHMw0dlLMGrkgzHd2rIyPh1NMPBJ9DQ4n14x7KlxMbFojjHYq+0xiIbvNGA0uTtTchY2nCfsOIJZ3jMROiY52OCmNJbdczxeChs4",
           "dtype": "i4"
          },
          "sizemode": "area",
          "sizeref": 5018178.29,
          "symbol": "circle"
         },
         "mode": "markers",
         "name": "Brazil",
         "scene": "scene",
         "showlegend": true,
         "type": "scatter3d",
         "x": {
          "bdata": "NuWiLhHw7i5GMHMw0dlLMGrkgzHd2rIyPh1NMPBJ9DQ4n14x7KlxMbFojjHYq+0xiIbvNGA0uTtTchY2nCfsOIJZ3jMROiY52OCmNJbdczxeChs4",
          "dtype": "i4"
         },
         "y": [
          5963908692364,
          6140317587575,
          6415915399627,
          6494103353030,
          7046183364832,
          6673429714441,
          7394542209629,
          7361188490430,
          8342383570282,
          7287684052567,
          9231306942323,
          7621462618554,
          8614653147512,
          11187505511005,
          8144178405599,
          9667447353704,
          10306021204142,
          8589144215021,
          11972744314495,
          14764020874533,
          14677296669617
         ],
         "z": {
          "bdata": "CtejcD16U0BSuB6F65FTQD0K16NwnVNAzczMzMycU0CuR+F6FM5TQIXrUbgexVNAPQrXo3DNU0A9CtejcK1TQGZmZmZmBlRASOF6FK4nVEBcj8L1KDxUQHE9CtejkFRAH4XrUbh+VEAUrkfheoRUQHE9CtejoFRAj8L1KFzfVECuR+F6FM5TQClcj8L1+FNAXI/C9SjsVEBcj8L1KGxUQHsUrkfhOlRA",
          "dtype": "f8"
         }
        },
        {
         "hovertemplate": "<b>%{hovertext}</b><br><br>Country=Japan<br>Population=%{marker.size}<br>GDP=%{y}<br>LifeExpectancy=%{z}<extra></extra>",
         "hovertext": [
          "Japan",
          "Japan",
          "Japan",
          "Japan",
          "Japan",
          "Japan",
          "Japan",
          "Japan",
          "Japan",
          "Japan",
          "Japan",
          "Japan",
          "Japan",
          "Japan",
          "Japan",
          "Japan",
          "Japan",
          "Japan",
          "Japan",
          "Japan",
          "Japan"
         ],
         "legendgroup": "Japan",
         "marker": {
          "color": "#B6E880",
          "size": {
           "bdata": "uZ7vTQWMfE+k7QJRi+OZUfsFUVLJ7pdRmfOiUwD/TVLwuO9WM434XK80yVXwZo5UEjr4YZLgKVpGlV1UU7qXZDaMN2FppeZoV1NGX8qPUm3nvrFz",
           "dtype": "i4"
          },
          "sizemode": "area",
          "sizeref": 5018178.29,
          "symbol": "circle"
         },
         "mode": "markers",
         "name": "Japan",
         "scene": "scene",
         "showlegend": true,
         "type": "scatter3d",
         "x": {
          "bdata": "uZ7vTQWMfE+k7QJRi+OZUfsFUVLJ7pdRmfOiUwD/TVLwuO9WM434XK80yVXwZo5UEjr4YZLgKVpGlV1UU7qXZDaMN2FppeZoV1NGX8qPUm3nvrFz",
          "dtype": "i4"
         },
         "y": [
          15682046433964,
          16030405797288,
          16821501674068,
          17318325900457,
          18847211414752,
          19873322267531,
          19683513631140,
          19805448705012,
          18712788420315,
          22503611871989,
          24217480667027,
          26080250152581,
          25625528310809,
          28840424925766,
          20917917383922,
          32424519213226,
          25728639490967,
          33222964164366,
          25871186445892,
          35790738816036,
          32222133347640
         ],
         "z": {
          "bdata": "mpmZmZnZU0CamZmZmelTQD0K16Nw/VNAj8L1KFwPVEDhehSuR/FTQK5H4XoUTlRACtejcD0aVEAAAAAAADBUQKRwPQrXo1RAexSuR+FqVEB7FK5H4ZpUQB+F61G4zlRAAAAAAACwVEC4HoXrUQhVQB+F61G4jlRAhetRuB5VVECF61G4HnVVQEjhehSu11RAexSuR+FKVEDD9Shcj9JVQLgehetRiFVA",
          "dtype": "f8"
         }
        },
        {
         "hovertemplate": "<b>%{hovertext}</b><br><br>Country=Canada<br>Population=%{marker.size}<br>GDP=%{y}<br>LifeExpectancy=%{z}<extra></extra>",
         "hovertext": [
          "Canada",
          "Canada",
          "Canada",
          "Canada",
          "Canada",
          "Canada",
          "Canada",
          "Canada",
          "Canada",
          "Canada",
          "Canada",
          "Canada",
          "Canada",
          "Canada",
          "Canada",
          "Canada",
          "Canada",
          "Canada",
          "Canada",
          "Canada",
          "Canada"
         ],
         "legendgroup": "Canada",
         "marker": {
          "color": "#FF97FF",
          "size": {
           "bdata": "SaloQuf/GEOR0h5Ez9YDRvLnXEeYaztEHgPbSDF030T6hmpIs33GSD5YDEoDN+ZRXfT5THpdlFXq/jxRXiKpSZ/xWEp4v+ROlOzWVtNP3ElIyllN",
           "dtype": "i4"
          },
          "sizemode": "area",
          "sizeref": 5018178.29,
          "symbol": "circle"
         },
         "mode": "markers",
         "name": "Canada",
         "scene": "scene",
         "showlegend": true,
         "type": "scatter3d",
         "x": {
          "bdata": "SaloQuf/GEOR0h5Ez9YDRvLnXEeYaztEHgPbSDF030T6hmpIs33GSD5YDEoDN+ZRXfT5THpdlFXq/jxRXiKpSZ/xWEp4v+ROlOzWVtNP3ElIyllN",
          "dtype": "i4"
         },
         "y": [
          17908114373292,
          18327284731229,
          19487658658313,
          19944799911486,
          20320974093914,
          22067400287366,
          20937344671716,
          22102318464275,
          23241828736816,
          24496137688976,
          26169462494450,
          23349201957665,
          24870593781434,
          27929698610183,
          26076293920485,
          25499989500424,
          33144505063883,
          39035883479803,
          28013848605103,
          28664945759139,
          28033955971193
         ],
         "z": {
          "bdata": "SOF6FK4HUkApXI/C9RhSQBSuR+F6JFJAhetRuB41UkAUrkfheiRSQClcj8L1WFJAw/UoXI8yUkD2KFyPwnVSQIXrUbgetVJAZmZmZma2UkCamZmZmdlSQM3MzMzM/FJASOF6FK6nUkAUrkfhepRSQM3MzMzMXFJAuB6F61F4UkApXI/C9YhSQHE9Ctej8FJAPQrXo3CdUkCF61G4HsVSQMP1KFyPklJA",
          "dtype": "f8"
         }
        },
        {
         "hovertemplate": "<b>%{hovertext}</b><br><br>Country=Australia<br>Population=%{marker.size}<br>GDP=%{y}<br>LifeExpectancy=%{z}<extra></extra>",
         "hovertext": [
          "Australia",
          "Australia",
          "Australia",
          "Australia",
          "Australia",
          "Australia",
          "Australia",
          "Australia",
          "Australia",
          "Australia",
          "Australia",
          "Australia",
          "Australia",
          "Australia",
          "Australia",
          "Australia",
          "Australia",
          "Australia",
          "Australia",
          "Australia",
          "Australia"
         ],
         "legendgroup": "Australia",
         "marker": {
          "color": "#FECB52",
          "size": {
           "bdata": "2d9qNVzxETYowzQ2ULtbOEcpxjla+bw37TywOiPbFjiIXcQ85KqVOpfwpD5o9blA3XwgO7TTDD00+a5AbZSbQeGLsj6INNs9FBr3Sm2qHkF1rpY8",
           "dtype": "i4"
          },
          "sizemode": "area",
          "sizeref": 5018178.29,
          "symbol": "circle"
         },
         "mode": "markers",
         "name": "Australia",
         "scene": "scene",
         "showlegend": true,
         "type": "scatter3d",
         "x": {
          "bdata": "2d9qNVzxETYowzQ2ULtbOEcpxjla+bw37TywOiPbFjiIXcQ85KqVOpfwpD5o9blA3XwgO7TTDD00+a5AbZSbQeGLsj6INNs9FBr3Sm2qHkF1rpY8",
          "dtype": "i4"
         },
         "y": [
          13488977588769,
          14037082519588,
          14347119517469,
          14421626042923,
          15544684221904,
          16633412578038,
          15358667675986,
          17824177718023,
          15918160108071,
          17896744582714,
          17346119993274,
          17262287482479,
          19296642447763,
          22310311940168,
          24029118964264,
          23240433448288,
          28122617187136,
          24187444012854,
          19342572718735,
          25759032834769,
          32022315105661
         ],
         "z": {
          "bdata": "KVyPwvVIT0DD9Shcj2JPQJqZmZmZWU9AexSuR+GaT0DhehSuR+FPQEjhehSux09A9ihcj8KVT0DhehSuRyFQQGZmZmZmNlBAcT0K16OwT0ApXI/C9ShQQOF6FK5HMVBAUrgehesxUECPwvUoXD9QQK5H4XoUXlBAH4XrUbg+UEBmZmZmZoZQQPYoXI/CRVBAAAAAAAAwUEDhehSuRwFRQEjhehSuB1BA",
          "dtype": "f8"
         }
        }
       ],
       "layout": {
        "legend": {
         "itemsizing": "constant",
         "title": {
          "text": "Country"
         },
         "tracegroupgap": 0
        },
        "margin": {
         "t": 60
        },
        "scene": {
         "domain": {
          "x": [
           0,
           1
          ],
          "y": [
           0,
           1
          ]
         },
         "xaxis": {
          "title": {
           "text": "Population"
          }
         },
         "yaxis": {
          "title": {
           "text": "GDP"
          }
         },
         "zaxis": {
          "title": {
           "text": "LifeExpectancy"
          }
         }
        },
        "template": {
         "data": {
          "bar": [
           {
            "error_x": {
             "color": "#2a3f5f"
            },
            "error_y": {
             "color": "#2a3f5f"
            },
            "marker": {
             "line": {
              "color": "#E5ECF6",
              "width": 0.5
             },
             "pattern": {
              "fillmode": "overlay",
              "size": 10,
              "solidity": 0.2
             }
            },
            "type": "bar"
           }
          ],
          "barpolar": [
           {
            "marker": {
             "line": {
              "color": "#E5ECF6",
              "width": 0.5
             },
             "pattern": {
              "fillmode": "overlay",
              "size": 10,
              "solidity": 0.2
             }
            },
            "type": "barpolar"
           }
          ],
          "carpet": [
           {
            "aaxis": {
             "endlinecolor": "#2a3f5f",
             "gridcolor": "white",
             "linecolor": "white",
             "minorgridcolor": "white",
             "startlinecolor": "#2a3f5f"
            },
            "baxis": {
             "endlinecolor": "#2a3f5f",
             "gridcolor": "white",
             "linecolor": "white",
             "minorgridcolor": "white",
             "startlinecolor": "#2a3f5f"
            },
            "type": "carpet"
           }
          ],
          "choropleth": [
           {
            "colorbar": {
             "outlinewidth": 0,
             "ticks": ""
            },
            "type": "choropleth"
           }
          ],
          "contour": [
           {
            "colorbar": {
             "outlinewidth": 0,
             "ticks": ""
            },
            "colorscale": [
             [
              0,
              "#0d0887"
             ],
             [
              0.1111111111111111,
              "#46039f"
             ],
             [
              0.2222222222222222,
              "#7201a8"
             ],
             [
              0.3333333333333333,
              "#9c179e"
             ],
             [
              0.4444444444444444,
              "#bd3786"
             ],
             [
              0.5555555555555556,
              "#d8576b"
             ],
             [
              0.6666666666666666,
              "#ed7953"
             ],
             [
              0.7777777777777778,
              "#fb9f3a"
             ],
             [
              0.8888888888888888,
              "#fdca26"
             ],
             [
              1,
              "#f0f921"
             ]
            ],
            "type": "contour"
           }
          ],
          "contourcarpet": [
           {
            "colorbar": {
             "outlinewidth": 0,
             "ticks": ""
            },
            "type": "contourcarpet"
           }
          ],
          "heatmap": [
           {
            "colorbar": {
             "outlinewidth": 0,
             "ticks": ""
            },
            "colorscale": [
             [
              0,
              "#0d0887"
             ],
             [
              0.1111111111111111,
              "#46039f"
             ],
             [
              0.2222222222222222,
              "#7201a8"
             ],
             [
              0.3333333333333333,
              "#9c179e"
             ],
             [
              0.4444444444444444,
              "#bd3786"
             ],
             [
              0.5555555555555556,
              "#d8576b"
             ],
             [
              0.6666666666666666,
              "#ed7953"
             ],
             [
              0.7777777777777778,
              "#fb9f3a"
             ],
             [
              0.8888888888888888,
              "#fdca26"
             ],
             [
              1,
              "#f0f921"
             ]
            ],
            "type": "heatmap"
           }
          ],
          "histogram": [
           {
            "marker": {
             "pattern": {
              "fillmode": "overlay",
              "size": 10,
              "solidity": 0.2
             }
            },
            "type": "histogram"
           }
          ],
          "histogram2d": [
           {
            "colorbar": {
             "outlinewidth": 0,
             "ticks": ""
            },
            "colorscale": [
             [
              0,
              "#0d0887"
             ],
             [
              0.1111111111111111,
              "#46039f"
             ],
             [
              0.2222222222222222,
              "#7201a8"
             ],
             [
              0.3333333333333333,
              "#9c179e"
             ],
             [
              0.4444444444444444,
              "#bd3786"
             ],
             [
              0.5555555555555556,
              "#d8576b"
             ],
             [
              0.6666666666666666,
              "#ed7953"
             ],
             [
              0.7777777777777778,
              "#fb9f3a"
             ],
             [
              0.8888888888888888,
              "#fdca26"
             ],
             [
              1,
              "#f0f921"
             ]
            ],
            "type": "histogram2d"
           }
          ],
          "histogram2dcontour": [
           {
            "colorbar": {
             "outlinewidth": 0,
             "ticks": ""
            },
            "colorscale": [
             [
              0,
              "#0d0887"
             ],
             [
              0.1111111111111111,
              "#46039f"
             ],
             [
              0.2222222222222222,
              "#7201a8"
             ],
             [
              0.3333333333333333,
              "#9c179e"
             ],
             [
              0.4444444444444444,
              "#bd3786"
             ],
             [
              0.5555555555555556,
              "#d8576b"
             ],
             [
              0.6666666666666666,
              "#ed7953"
             ],
             [
              0.7777777777777778,
              "#fb9f3a"
             ],
             [
              0.8888888888888888,
              "#fdca26"
             ],
             [
              1,
              "#f0f921"
             ]
            ],
            "type": "histogram2dcontour"
           }
          ],
          "mesh3d": [
           {
            "colorbar": {
             "outlinewidth": 0,
             "ticks": ""
            },
            "type": "mesh3d"
           }
          ],
          "parcoords": [
           {
            "line": {
             "colorbar": {
              "outlinewidth": 0,
              "ticks": ""
             }
            },
            "type": "parcoords"
           }
          ],
          "pie": [
           {
            "automargin": true,
            "type": "pie"
           }
          ],
          "scatter": [
           {
            "fillpattern": {
             "fillmode": "overlay",
             "size": 10,
             "solidity": 0.2
            },
            "type": "scatter"
           }
          ],
          "scatter3d": [
           {
            "line": {
             "colorbar": {
              "outlinewidth": 0,
              "ticks": ""
             }
            },
            "marker": {
             "colorbar": {
              "outlinewidth": 0,
              "ticks": ""
             }
            },
            "type": "scatter3d"
           }
          ],
          "scattercarpet": [
           {
            "marker": {
             "colorbar": {
              "outlinewidth": 0,
              "ticks": ""
             }
            },
            "type": "scattercarpet"
           }
          ],
          "scattergeo": [
           {
            "marker": {
             "colorbar": {
              "outlinewidth": 0,
              "ticks": ""
             }
            },
            "type": "scattergeo"
           }
          ],
          "scattergl": [
           {
            "marker": {
             "colorbar": {
              "outlinewidth": 0,
              "ticks": ""
             }
            },
            "type": "scattergl"
           }
          ],
          "scattermap": [
           {
            "marker": {
             "colorbar": {
              "outlinewidth": 0,
              "ticks": ""
             }
            },
            "type": "scattermap"
           }
          ],
          "scattermapbox": [
           {
            "marker": {
             "colorbar": {
              "outlinewidth": 0,
              "ticks": ""
             }
            },
            "type": "scattermapbox"
           }
          ],
          "scatterpolar": [
           {
            "marker": {
             "colorbar": {
              "outlinewidth": 0,
              "ticks": ""
             }
            },
            "type": "scatterpolar"
           }
          ],
          "scatterpolargl": [
           {
            "marker": {
             "colorbar": {
              "outlinewidth": 0,
              "ticks": ""
             }
            },
            "type": "scatterpolargl"
           }
          ],
          "scatterternary": [
           {
            "marker": {
             "colorbar": {
              "outlinewidth": 0,
              "ticks": ""
             }
            },
            "type": "scatterternary"
           }
          ],
          "surface": [
           {
            "colorbar": {
             "outlinewidth": 0,
             "ticks": ""
            },
            "colorscale": [
             [
              0,
              "#0d0887"
             ],
             [
              0.1111111111111111,
              "#46039f"
             ],
             [
              0.2222222222222222,
              "#7201a8"
             ],
             [
              0.3333333333333333,
              "#9c179e"
             ],
             [
              0.4444444444444444,
              "#bd3786"
             ],
             [
              0.5555555555555556,
              "#d8576b"
             ],
             [
              0.6666666666666666,
              "#ed7953"
             ],
             [
              0.7777777777777778,
              "#fb9f3a"
             ],
             [
              0.8888888888888888,
              "#fdca26"
             ],
             [
              1,
              "#f0f921"
             ]
            ],
            "type": "surface"
           }
          ],
          "table": [
           {
            "cells": {
             "fill": {
              "color": "#EBF0F8"
             },
             "line": {
              "color": "white"
             }
            },
            "header": {
             "fill": {
              "color": "#C8D4E3"
             },
             "line": {
              "color": "white"
             }
            },
            "type": "table"
           }
          ]
         },
         "layout": {
          "annotationdefaults": {
           "arrowcolor": "#2a3f5f",
           "arrowhead": 0,
           "arrowwidth": 1
          },
          "autotypenumbers": "strict",
          "coloraxis": {
           "colorbar": {
            "outlinewidth": 0,
            "ticks": ""
           }
          },
          "colorscale": {
           "diverging": [
            [
             0,
             "#8e0152"
            ],
            [
             0.1,
             "#c51b7d"
            ],
            [
             0.2,
             "#de77ae"
            ],
            [
             0.3,
             "#f1b6da"
            ],
            [
             0.4,
             "#fde0ef"
            ],
            [
             0.5,
             "#f7f7f7"
            ],
            [
             0.6,
             "#e6f5d0"
            ],
            [
             0.7,
             "#b8e186"
            ],
            [
             0.8,
             "#7fbc41"
            ],
            [
             0.9,
             "#4d9221"
            ],
            [
             1,
             "#276419"
            ]
           ],
           "sequential": [
            [
             0,
             "#0d0887"
            ],
            [
             0.1111111111111111,
             "#46039f"
            ],
            [
             0.2222222222222222,
             "#7201a8"
            ],
            [
             0.3333333333333333,
             "#9c179e"
            ],
            [
             0.4444444444444444,
             "#bd3786"
            ],
            [
             0.5555555555555556,
             "#d8576b"
            ],
            [
             0.6666666666666666,
             "#ed7953"
            ],
            [
             0.7777777777777778,
             "#fb9f3a"
            ],
            [
             0.8888888888888888,
             "#fdca26"
            ],
            [
             1,
             "#f0f921"
            ]
           ],
           "sequentialminus": [
            [
             0,
             "#0d0887"
            ],
            [
             0.1111111111111111,
             "#46039f"
            ],
            [
             0.2222222222222222,
             "#7201a8"
            ],
            [
             0.3333333333333333,
             "#9c179e"
            ],
            [
             0.4444444444444444,
             "#bd3786"
            ],
            [
             0.5555555555555556,
             "#d8576b"
            ],
            [
             0.6666666666666666,
             "#ed7953"
            ],
            [
             0.7777777777777778,
             "#fb9f3a"
            ],
            [
             0.8888888888888888,
             "#fdca26"
            ],
            [
             1,
             "#f0f921"
            ]
           ]
          },
          "colorway": [
           "#636efa",
           "#EF553B",
           "#00cc96",
           "#ab63fa",
           "#FFA15A",
           "#19d3f3",
           "#FF6692",
           "#B6E880",
           "#FF97FF",
           "#FECB52"
          ],
          "font": {
           "color": "#2a3f5f"
          },
          "geo": {
           "bgcolor": "white",
           "lakecolor": "white",
           "landcolor": "#E5ECF6",
           "showlakes": true,
           "showland": true,
           "subunitcolor": "white"
          },
          "hoverlabel": {
           "align": "left"
          },
          "hovermode": "closest",
          "mapbox": {
           "style": "light"
          },
          "paper_bgcolor": "white",
          "plot_bgcolor": "#E5ECF6",
          "polar": {
           "angularaxis": {
            "gridcolor": "white",
            "linecolor": "white",
            "ticks": ""
           },
           "bgcolor": "#E5ECF6",
           "radialaxis": {
            "gridcolor": "white",
            "linecolor": "white",
            "ticks": ""
           }
          },
          "scene": {
           "xaxis": {
            "backgroundcolor": "#E5ECF6",
            "gridcolor": "white",
            "gridwidth": 2,
            "linecolor": "white",
            "showbackground": true,
            "ticks": "",
            "zerolinecolor": "white"
           },
           "yaxis": {
            "backgroundcolor": "#E5ECF6",
            "gridcolor": "white",
            "gridwidth": 2,
            "linecolor": "white",
            "showbackground": true,
            "ticks": "",
            "zerolinecolor": "white"
           },
           "zaxis": {
            "backgroundcolor": "#E5ECF6",
            "gridcolor": "white",
            "gridwidth": 2,
            "linecolor": "white",
            "showbackground": true,
            "ticks": "",
            "zerolinecolor": "white"
           }
          },
          "shapedefaults": {
           "line": {
            "color": "#2a3f5f"
           }
          },
          "ternary": {
           "aaxis": {
            "gridcolor": "white",
            "linecolor": "white",
            "ticks": ""
           },
           "baxis": {
            "gridcolor": "white",
            "linecolor": "white",
            "ticks": ""
           },
           "bgcolor": "#E5ECF6",
           "caxis": {
            "gridcolor": "white",
            "linecolor": "white",
            "ticks": ""
           }
          },
          "title": {
           "x": 0.05
          },
          "xaxis": {
           "automargin": true,
           "gridcolor": "white",
           "linecolor": "white",
           "ticks": "",
           "title": {
            "standoff": 15
           },
           "zerolinecolor": "white",
           "zerolinewidth": 2
          },
          "yaxis": {
           "automargin": true,
           "gridcolor": "white",
           "linecolor": "white",
           "ticks": "",
           "title": {
            "standoff": 15
           },
           "zerolinecolor": "white",
           "zerolinewidth": 2
          }
         }
        }
       }
      }
     },
     "metadata": {},
     "output_type": "display_data"
    }
   ],
   "source": [
    "# 2. 3D 산점도 작성\n",
    "fig = px.scatter_3d(data, x='Population', y='GDP', z='LifeExpectancy',\n",
    "                    color='Country', size='Population', hover_name='Country')\n",
    "\n",
    "# 3D 그래프 출력\n",
    "fig.show()"
   ]
  },
  {
   "cell_type": "code",
   "execution_count": 8,
   "id": "0569720f",
   "metadata": {},
   "outputs": [
    {
     "data": {
      "application/vnd.plotly.v1+json": {
       "config": {
        "plotlyServerURL": "https://plot.ly"
       },
       "data": [
        {
         "customdata": {
          "bdata": "0AfRB9IH0wfUB9UH1gfXB9gH2QfaB9sH3AfdB94H3wfgB+EH4gfjB+QH",
          "dtype": "i2",
          "shape": "21, 1"
         },
         "hovertemplate": "<b>%{hovertext}</b><br><br>Country=USA<br>Population=%{marker.size}<br>GDP=%{y}<br>LifeExpectancy=%{z}<br>Year=%{customdata[0]}<extra></extra>",
         "hovertext": [
          "USA",
          "USA",
          "USA",
          "USA",
          "USA",
          "USA",
          "USA",
          "USA",
          "USA",
          "USA",
          "USA",
          "USA",
          "USA",
          "USA",
          "USA",
          "USA",
          "USA",
          "USA",
          "USA",
          "USA",
          "USA"
         ],
         "legendgroup": "USA",
         "marker": {
          "color": "#636efa",
          "size": 5,
          "sizemode": "area",
          "sizeref": 5018178.29,
          "symbol": "circle"
         },
         "mode": "markers",
         "name": "USA",
         "scene": "scene",
         "showlegend": true,
         "type": "scatter3d",
         "x": {
          "bdata": "M9SCTAHU9Uwri+tOzmyYUIsz6U7TIwFRSEHTTx0nFVNZ56VUYOTLVglekVyXGPZU1sfeV4bALlKAgileF+4kXUyYnGNI6NtgOz83WNVP413ddQJe",
          "dtype": "i4"
         },
         "y": [
          3794459720974,
          3968949030285,
          3952537491226,
          4102626826157,
          4256241754841,
          4371912710194,
          4498268317931,
          5113969837331,
          5104662120631,
          4743577516227,
          6120350909675,
          4869179462782,
          5023710297983,
          6917742366275,
          5689063490014,
          5539553943713,
          8056692420283,
          8372777007710,
          5550662409725,
          6429046795735,
          6647036903714
         ],
         "z": {
          "bdata": "KVyPwvWoUkApXI/C9bhSQEjhehSu11JAUrgehevBUkAUrkfheuRSQFyPwvUo/FJAAAAAAADwUkCF61G4HuVSQGZmZmZm1lJAj8L1KFzfUkDXo3A9CndTQOF6FK5HcVNAZmZmZmZWU0ApXI/C9ShTQHsUrkfhelNAw/UoXI8SVEAzMzMzMxNUQLgehetRGFNAw/UoXI9yU0AAAAAAAEBUQOF6FK5H4VNA",
          "dtype": "f8"
         }
        },
        {
         "customdata": {
          "bdata": "0AfRB9IH0wfUB9UH1gfXB9gH2QfaB9sH3AfdB94H3wfgB+EH4gfjB+QH",
          "dtype": "i2",
          "shape": "21, 1"
         },
         "hovertemplate": "<b>%{hovertext}</b><br><br>Country=China<br>Population=%{marker.size}<br>GDP=%{y}<br>LifeExpectancy=%{z}<br>Year=%{customdata[0]}<extra></extra>",
         "hovertext": [
          "China",
          "China",
          "China",
          "China",
          "China",
          "China",
          "China",
          "China",
          "China",
          "China",
          "China",
          "China",
          "China",
          "China",
          "China",
          "China",
          "China",
          "China",
          "China",
          "China",
          "China"
         ],
         "legendgroup": "China",
         "marker": {
          "color": "#EF553B",
          "size": 5,
          "sizemode": "area",
          "sizeref": 5018178.29,
          "symbol": "circle"
         },
         "mode": "markers",
         "name": "China",
         "scene": "scene",
         "showlegend": true,
         "type": "scatter3d",
         "x": {
          "bdata": "qDKsJCIf3STCS+sleUBSJvT1bCZwYYMnONO5Jm65ACqAFUEndFktKl56uSdsXHoqkWldKwef7C6JIjYvWht3KIgB3CsSJCwpT1snK9aviyzFLH4v",
          "dtype": "i4"
         },
         "y": [
          16781973170240,
          17217721670360,
          18087866091066,
          19285967074420,
          18370108280069,
          20415644555731,
          20850030958817,
          22909548537763,
          20879168026219,
          20652463677751,
          26532772326729,
          26072561174035,
          25712369530475,
          27241027738432,
          28568280925584,
          27588989394517,
          34726432741131,
          28055141025438,
          33663771082782,
          28965784560498,
          33100145082959
         ],
         "z": {
          "bdata": "SOF6FK4nTkCF61G4HkVOQHE9CtejcE5ArkfhehSOTkAUrkfhenROQArXo3A9qk5APQrXo3CdTkBcj8L1KPxOQHE9CtejcE5ACtejcD3qTkDsUbgehQtPQM3MzMzMrE5AUrgehevRTkDsUbgehatPQNejcD0KF09ApHA9CtcDT0ApXI/C9UhPQI/C9ShcT1BAFK5H4Xq0TkAfhetRuB5PQFK4HoXrQVBA",
          "dtype": "f8"
         }
        },
        {
         "customdata": {
          "bdata": "0AfRB9IH0wfUB9UH1gfXB9gH2QfaB9sH3AfdB94H3wfgB+EH4gfjB+QH",
          "dtype": "i2",
          "shape": "21, 1"
         },
         "hovertemplate": "<b>%{hovertext}</b><br><br>Country=India<br>Population=%{marker.size}<br>GDP=%{y}<br>LifeExpectancy=%{z}<br>Year=%{customdata[0]}<extra></extra>",
         "hovertext": [
          "India",
          "India",
          "India",
          "India",
          "India",
          "India",
          "India",
          "India",
          "India",
          "India",
          "India",
          "India",
          "India",
          "India",
          "India",
          "India",
          "India",
          "India",
          "India",
          "India",
          "India"
         ],
         "legendgroup": "India",
         "marker": {
          "color": "#00cc96",
          "size": 5,
          "sizemode": "area",
          "sizeref": 5018178.29,
          "symbol": "circle"
         },
         "mode": "markers",
         "name": "India",
         "scene": "scene",
         "showlegend": true,
         "type": "scatter3d",
         "x": {
          "bdata": "acuQRbtu7UYGT09HYSO7Rv+ML0eZQJtIJzc+Th73900ncqNLEaIqTgZYs0y+4/BQwR/sUMa+xkzBE5padJ/lTEg8H1ALIiBX5qMGTmWqcVu1tFlf",
          "dtype": "i4"
         },
         "y": [
          8682067461946,
          9106389781482,
          9193399800655,
          9717964707541,
          9709633440422,
          9791705191874,
          10202571055592,
          10471248564986,
          11788117544373,
          10626510693787,
          11178523820396,
          13411934044823,
          11924150674784,
          14588410692044,
          12121836907834,
          17475557940077,
          16211267316792,
          15810718506214,
          19817084221038,
          15272122031188,
          21718886874637
         ],
         "z": {
          "bdata": "PQrXo3CdUEBmZmZmZqZQQAAAAAAAsFBAFK5H4XrEUEDNzMzMzOxQQM3MzMzM3FBAzczMzMz8UECkcD0K1xNRQEjhehSuF1FA16NwPQpHUUCPwvUoXM9QQAAAAAAA0FBAuB6F61FYUUDNzMzMzCxRQM3MzMzMLFFAZmZmZmbGUUCamZmZmclRQK5H4XoULlFAXI/C9SgMUkCkcD0K12NRQFK4HoXrMVJA",
          "dtype": "f8"
         }
        },
        {
         "customdata": {
          "bdata": "0AfRB9IH0wfUB9UH1gfXB9gH2QfaB9sH3AfdB94H3wfgB+EH4gfjB+QH",
          "dtype": "i2",
          "shape": "21, 1"
         },
         "hovertemplate": "<b>%{hovertext}</b><br><br>Country=Germany<br>Population=%{marker.size}<br>GDP=%{y}<br>LifeExpectancy=%{z}<br>Year=%{customdata[0]}<extra></extra>",
         "hovertext": [
          "Germany",
          "Germany",
          "Germany",
          "Germany",
          "Germany",
          "Germany",
          "Germany",
          "Germany",
          "Germany",
          "Germany",
          "Germany",
          "Germany",
          "Germany",
          "Germany",
          "Germany",
          "Germany",
          "Germany",
          "Germany",
          "Germany",
          "Germany",
          "Germany"
         ],
         "legendgroup": "Germany",
         "marker": {
          "color": "#ab63fa",
          "size": 5,
          "sizemode": "area",
          "sizeref": 5018178.29,
          "symbol": "circle"
         },
         "mode": "markers",
         "name": "Germany",
         "scene": "scene",
         "showlegend": true,
         "type": "scatter3d",
         "x": {
          "bdata": "94I+SK0TPEnLyRpLV33wShAhekqm6g9L3TZgT9Ux4U6thaVQxHhFVe5Vk1PRsUBPwz3zV11zalRxun1aY3ARWJVYqk8gNytUp9nXV4y5BlFFGtFY",
          "dtype": "i4"
         },
         "y": [
          7387022038935,
          7617264309752,
          7814350284274,
          8153446728876,
          8012967280712,
          8604986985959,
          8781606016541,
          9661431718894,
          10861452470234,
          9896752924164,
          10941719535683,
          10782055124704,
          9513729028118,
          10629280483856,
          14353633613616,
          12770587889115,
          11702251657934,
          13161474886818,
          16406044649798,
          12089847700582,
          12739777813673
         ],
         "z": {
          "bdata": "4XoUrkdBU0ApXI/C9VhTQNejcD0KV1NAexSuR+GKU0Bcj8L1KHxTQKRwPQrXo1NAAAAAAACgU0BmZmZmZoZTQGZmZmZmtlNAzczMzMysU0DhehSuRyFUQGZmZmZm9lNAAAAAAABwVEDsUbgehWtUQKRwPQrX41NAmpmZmZm5VECuR+F6FM5TQGZmZmZmFlRAhetRuB71VED2KFyPwqVUQM3MzMzMHFRA",
          "dtype": "f8"
         }
        },
        {
         "customdata": {
          "bdata": "0AfRB9IH0wfUB9UH1gfXB9gH2QfaB9sH3AfdB94H3wfgB+EH4gfjB+QH",
          "dtype": "i2",
          "shape": "21, 1"
         },
         "hovertemplate": "<b>%{hovertext}</b><br><br>Country=UK<br>Population=%{marker.size}<br>GDP=%{y}<br>LifeExpectancy=%{z}<br>Year=%{customdata[0]}<extra></extra>",
         "hovertext": [
          "UK",
          "UK",
          "UK",
          "UK",
          "UK",
          "UK",
          "UK",
          "UK",
          "UK",
          "UK",
          "UK",
          "UK",
          "UK",
          "UK",
          "UK",
          "UK",
          "UK",
          "UK",
          "UK",
          "UK",
          "UK"
         ],
         "legendgroup": "UK",
         "marker": {
          "color": "#FFA15A",
          "size": 5,
          "sizemode": "area",
          "sizeref": 5018178.29,
          "symbol": "circle"
         },
         "mode": "markers",
         "name": "UK",
         "scene": "scene",
         "showlegend": true,
         "type": "scatter3d",
         "x": {
          "bdata": "WUYrU1Q3mFQV9E5WLAF6V4jE8lgwo69X+cH4VQhRvFhf/PBWvr57WFuQR1oJmZtYxY/sYlyJDWLIo11euM8jWqMpRmq0izBevfofbpSHpHevIDZu",
          "dtype": "i4"
         },
         "y": [
          3470899369063,
          3624672018558,
          3720559351488,
          3898649092588,
          4166114340099,
          3885410682462,
          4241158090570,
          4497984688132,
          4923814352575,
          4757999490630,
          5073267812839,
          5118298334401,
          5672413957649,
          5077141860254,
          5480775294161,
          7101100961627,
          5769330461384,
          5505357187741,
          7007823819764,
          7603486543512,
          6591488698954
         ],
         "z": {
          "bdata": "XI/C9Sh8UkDhehSuR5FSQClcj8L1mFJAw/UoXI+yUkApXI/C9ahSQHsUrkfhylJA16NwPQrXUkDhehSuR6FSQJqZmZmZ2VJAzczMzMwsU0Bcj8L1KLxSQDMzMzMzI1NACtejcD2aU0CkcD0K14NTQKRwPQrX01JACtejcD26U0CuR+F6FP5SQKRwPQrXg1NApHA9CtczU0D2KFyPwqVTQFyPwvUoPFNA",
          "dtype": "f8"
         }
        },
        {
         "customdata": {
          "bdata": "0AfRB9IH0wfUB9UH1gfXB9gH2QfaB9sH3AfdB94H3wfgB+EH4gfjB+QH",
          "dtype": "i2",
          "shape": "21, 1"
         },
         "hovertemplate": "<b>%{hovertext}</b><br><br>Country=France<br>Population=%{marker.size}<br>GDP=%{y}<br>LifeExpectancy=%{z}<br>Year=%{customdata[0]}<extra></extra>",
         "hovertext": [
          "France",
          "France",
          "France",
          "France",
          "France",
          "France",
          "France",
          "France",
          "France",
          "France",
          "France",
          "France",
          "France",
          "France",
          "France",
          "France",
          "France",
          "France",
          "France",
          "France",
          "France"
         ],
         "legendgroup": "France",
         "marker": {
          "color": "#19d3f3",
          "size": 5,
          "sizemode": "area",
          "sizeref": 5018178.29,
          "symbol": "circle"
         },
         "mode": "markers",
         "name": "France",
         "scene": "scene",
         "showlegend": true,
         "type": "scatter3d",
         "x": {
          "bdata": "MqQ1KVq92SklWDwqsA6mKh0fqCuTu0IsEUgHLeEgny3U7/EvEub4LoyuzTGOtXUyHCqMLKHKKjJ4/ak0+RhMLyxt1DM91u42rTsXN8FL6TL6KGUy",
          "dtype": "i4"
         },
         "y": [
          11886858622236,
          12293688912742,
          12713925209445,
          13063199384965,
          12935433351668,
          14124277363359,
          13776079168472,
          13728966552118,
          15928771930368,
          16024986624851,
          16222179258182,
          15743457384400,
          15172650680522,
          15800765063213,
          15835425308379,
          16852753281023,
          24531672337392,
          19154041898195,
          25894721519297,
          21294455428757,
          30314626610581
         ],
         "z": {
          "bdata": "KVyPwvUoT0AUrkfhejRPQKRwPQrXQ09AXI/C9Sh8T0CamZmZmXlPQHsUrkfh2k9AZmZmZmZmT0CF61G4HuVPQK5H4XoUzk9AuB6F61EIUEAK16NwPVpQQJqZmZmZmU9ArkfhehSuT0Bcj8L1KAxQQClcj8L1iFBAPQrXo3B9UEBI4XoUrpdQQArXo3A9ClBAuB6F61EIUUBI4XoUrtdQQPYoXI/CBVFA",
          "dtype": "f8"
         }
        },
        {
         "customdata": {
          "bdata": "0AfRB9IH0wfUB9UH1gfXB9gH2QfaB9sH3AfdB94H3wfgB+EH4gfjB+QH",
          "dtype": "i2",
          "shape": "21, 1"
         },
         "hovertemplate": "<b>%{hovertext}</b><br><br>Country=Brazil<br>Population=%{marker.size}<br>GDP=%{y}<br>LifeExpectancy=%{z}<br>Year=%{customdata[0]}<extra></extra>",
         "hovertext": [
          "Brazil",
          "Brazil",
          "Brazil",
          "Brazil",
          "Brazil",
          "Brazil",
          "Brazil",
          "Brazil",
          "Brazil",
          "Brazil",
          "Brazil",
          "Brazil",
          "Brazil",
          "Brazil",
          "Brazil",
          "Brazil",
          "Brazil",
          "Brazil",
          "Brazil",
          "Brazil",
          "Brazil"
         ],
         "legendgroup": "Brazil",
         "marker": {
          "color": "#FF6692",
          "size": 5,
          "sizemode": "area",
          "sizeref": 5018178.29,
          "symbol": "circle"
         },
         "mode": "markers",
         "name": "Brazil",
         "scene": "scene",
         "showlegend": true,
         "type": "scatter3d",
         "x": {
          "bdata": "NuWiLhHw7i5GMHMw0dlLMGrkgzHd2rIyPh1NMPBJ9DQ4n14x7KlxMbFojjHYq+0xiIbvNGA0uTtTchY2nCfsOIJZ3jMROiY52OCmNJbdczxeChs4",
          "dtype": "i4"
         },
         "y": [
          5963908692364,
          6140317587575,
          6415915399627,
          6494103353030,
          7046183364832,
          6673429714441,
          7394542209629,
          7361188490430,
          8342383570282,
          7287684052567,
          9231306942323,
          7621462618554,
          8614653147512,
          11187505511005,
          8144178405599,
          9667447353704,
          10306021204142,
          8589144215021,
          11972744314495,
          14764020874533,
          14677296669617
         ],
         "z": {
          "bdata": "CtejcD16U0BSuB6F65FTQD0K16NwnVNAzczMzMycU0CuR+F6FM5TQIXrUbgexVNAPQrXo3DNU0A9CtejcK1TQGZmZmZmBlRASOF6FK4nVEBcj8L1KDxUQHE9CtejkFRAH4XrUbh+VEAUrkfheoRUQHE9CtejoFRAj8L1KFzfVECuR+F6FM5TQClcj8L1+FNAXI/C9SjsVEBcj8L1KGxUQHsUrkfhOlRA",
          "dtype": "f8"
         }
        },
        {
         "customdata": {
          "bdata": "0AfRB9IH0wfUB9UH1gfXB9gH2QfaB9sH3AfdB94H3wfgB+EH4gfjB+QH",
          "dtype": "i2",
          "shape": "21, 1"
         },
         "hovertemplate": "<b>%{hovertext}</b><br><br>Country=Japan<br>Population=%{marker.size}<br>GDP=%{y}<br>LifeExpectancy=%{z}<br>Year=%{customdata[0]}<extra></extra>",
         "hovertext": [
          "Japan",
          "Japan",
          "Japan",
          "Japan",
          "Japan",
          "Japan",
          "Japan",
          "Japan",
          "Japan",
          "Japan",
          "Japan",
          "Japan",
          "Japan",
          "Japan",
          "Japan",
          "Japan",
          "Japan",
          "Japan",
          "Japan",
          "Japan",
          "Japan"
         ],
         "legendgroup": "Japan",
         "marker": {
          "color": "#B6E880",
          "size": 5,
          "sizemode": "area",
          "sizeref": 5018178.29,
          "symbol": "circle"
         },
         "mode": "markers",
         "name": "Japan",
         "scene": "scene",
         "showlegend": true,
         "type": "scatter3d",
         "x": {
          "bdata": "uZ7vTQWMfE+k7QJRi+OZUfsFUVLJ7pdRmfOiUwD/TVLwuO9WM434XK80yVXwZo5UEjr4YZLgKVpGlV1UU7qXZDaMN2FppeZoV1NGX8qPUm3nvrFz",
          "dtype": "i4"
         },
         "y": [
          15682046433964,
          16030405797288,
          16821501674068,
          17318325900457,
          18847211414752,
          19873322267531,
          19683513631140,
          19805448705012,
          18712788420315,
          22503611871989,
          24217480667027,
          26080250152581,
          25625528310809,
          28840424925766,
          20917917383922,
          32424519213226,
          25728639490967,
          33222964164366,
          25871186445892,
          35790738816036,
          32222133347640
         ],
         "z": {
          "bdata": "mpmZmZnZU0CamZmZmelTQD0K16Nw/VNAj8L1KFwPVEDhehSuR/FTQK5H4XoUTlRACtejcD0aVEAAAAAAADBUQKRwPQrXo1RAexSuR+FqVEB7FK5H4ZpUQB+F61G4zlRAAAAAAACwVEC4HoXrUQhVQB+F61G4jlRAhetRuB5VVECF61G4HnVVQEjhehSu11RAexSuR+FKVEDD9Shcj9JVQLgehetRiFVA",
          "dtype": "f8"
         }
        },
        {
         "customdata": {
          "bdata": "0AfRB9IH0wfUB9UH1gfXB9gH2QfaB9sH3AfdB94H3wfgB+EH4gfjB+QH",
          "dtype": "i2",
          "shape": "21, 1"
         },
         "hovertemplate": "<b>%{hovertext}</b><br><br>Country=Canada<br>Population=%{marker.size}<br>GDP=%{y}<br>LifeExpectancy=%{z}<br>Year=%{customdata[0]}<extra></extra>",
         "hovertext": [
          "Canada",
          "Canada",
          "Canada",
          "Canada",
          "Canada",
          "Canada",
          "Canada",
          "Canada",
          "Canada",
          "Canada",
          "Canada",
          "Canada",
          "Canada",
          "Canada",
          "Canada",
          "Canada",
          "Canada",
          "Canada",
          "Canada",
          "Canada",
          "Canada"
         ],
         "legendgroup": "Canada",
         "marker": {
          "color": "#FF97FF",
          "size": 5,
          "sizemode": "area",
          "sizeref": 5018178.29,
          "symbol": "circle"
         },
         "mode": "markers",
         "name": "Canada",
         "scene": "scene",
         "showlegend": true,
         "type": "scatter3d",
         "x": {
          "bdata": "SaloQuf/GEOR0h5Ez9YDRvLnXEeYaztEHgPbSDF030T6hmpIs33GSD5YDEoDN+ZRXfT5THpdlFXq/jxRXiKpSZ/xWEp4v+ROlOzWVtNP3ElIyllN",
          "dtype": "i4"
         },
         "y": [
          17908114373292,
          18327284731229,
          19487658658313,
          19944799911486,
          20320974093914,
          22067400287366,
          20937344671716,
          22102318464275,
          23241828736816,
          24496137688976,
          26169462494450,
          23349201957665,
          24870593781434,
          27929698610183,
          26076293920485,
          25499989500424,
          33144505063883,
          39035883479803,
          28013848605103,
          28664945759139,
          28033955971193
         ],
         "z": {
          "bdata": "SOF6FK4HUkApXI/C9RhSQBSuR+F6JFJAhetRuB41UkAUrkfheiRSQClcj8L1WFJAw/UoXI8yUkD2KFyPwnVSQIXrUbgetVJAZmZmZma2UkCamZmZmdlSQM3MzMzM/FJASOF6FK6nUkAUrkfhepRSQM3MzMzMXFJAuB6F61F4UkApXI/C9YhSQHE9Ctej8FJAPQrXo3CdUkCF61G4HsVSQMP1KFyPklJA",
          "dtype": "f8"
         }
        },
        {
         "customdata": {
          "bdata": "0AfRB9IH0wfUB9UH1gfXB9gH2QfaB9sH3AfdB94H3wfgB+EH4gfjB+QH",
          "dtype": "i2",
          "shape": "21, 1"
         },
         "hovertemplate": "<b>%{hovertext}</b><br><br>Country=Australia<br>Population=%{marker.size}<br>GDP=%{y}<br>LifeExpectancy=%{z}<br>Year=%{customdata[0]}<extra></extra>",
         "hovertext": [
          "Australia",
          "Australia",
          "Australia",
          "Australia",
          "Australia",
          "Australia",
          "Australia",
          "Australia",
          "Australia",
          "Australia",
          "Australia",
          "Australia",
          "Australia",
          "Australia",
          "Australia",
          "Australia",
          "Australia",
          "Australia",
          "Australia",
          "Australia",
          "Australia"
         ],
         "legendgroup": "Australia",
         "marker": {
          "color": "#FECB52",
          "size": 5,
          "sizemode": "area",
          "sizeref": 5018178.29,
          "symbol": "circle"
         },
         "mode": "markers",
         "name": "Australia",
         "scene": "scene",
         "showlegend": true,
         "type": "scatter3d",
         "x": {
          "bdata": "2d9qNVzxETYowzQ2ULtbOEcpxjla+bw37TywOiPbFjiIXcQ85KqVOpfwpD5o9blA3XwgO7TTDD00+a5AbZSbQeGLsj6INNs9FBr3Sm2qHkF1rpY8",
          "dtype": "i4"
         },
         "y": [
          13488977588769,
          14037082519588,
          14347119517469,
          14421626042923,
          15544684221904,
          16633412578038,
          15358667675986,
          17824177718023,
          15918160108071,
          17896744582714,
          17346119993274,
          17262287482479,
          19296642447763,
          22310311940168,
          24029118964264,
          23240433448288,
          28122617187136,
          24187444012854,
          19342572718735,
          25759032834769,
          32022315105661
         ],
         "z": {
          "bdata": "KVyPwvVIT0DD9Shcj2JPQJqZmZmZWU9AexSuR+GaT0DhehSuR+FPQEjhehSux09A9ihcj8KVT0DhehSuRyFQQGZmZmZmNlBAcT0K16OwT0ApXI/C9ShQQOF6FK5HMVBAUrgehesxUECPwvUoXD9QQK5H4XoUXlBAH4XrUbg+UEBmZmZmZoZQQPYoXI/CRVBAAAAAAAAwUEDhehSuRwFRQEjhehSuB1BA",
          "dtype": "f8"
         }
        }
       ],
       "layout": {
        "legend": {
         "itemsizing": "constant",
         "title": {
          "text": "Country"
         },
         "tracegroupgap": 0
        },
        "margin": {
         "t": 60
        },
        "scene": {
         "domain": {
          "x": [
           0,
           1
          ],
          "y": [
           0,
           1
          ]
         },
         "xaxis": {
          "title": {
           "text": "Population"
          }
         },
         "yaxis": {
          "title": {
           "text": "GDP"
          }
         },
         "zaxis": {
          "title": {
           "text": "LifeExpectancy"
          }
         }
        },
        "template": {
         "data": {
          "bar": [
           {
            "error_x": {
             "color": "#2a3f5f"
            },
            "error_y": {
             "color": "#2a3f5f"
            },
            "marker": {
             "line": {
              "color": "#E5ECF6",
              "width": 0.5
             },
             "pattern": {
              "fillmode": "overlay",
              "size": 10,
              "solidity": 0.2
             }
            },
            "type": "bar"
           }
          ],
          "barpolar": [
           {
            "marker": {
             "line": {
              "color": "#E5ECF6",
              "width": 0.5
             },
             "pattern": {
              "fillmode": "overlay",
              "size": 10,
              "solidity": 0.2
             }
            },
            "type": "barpolar"
           }
          ],
          "carpet": [
           {
            "aaxis": {
             "endlinecolor": "#2a3f5f",
             "gridcolor": "white",
             "linecolor": "white",
             "minorgridcolor": "white",
             "startlinecolor": "#2a3f5f"
            },
            "baxis": {
             "endlinecolor": "#2a3f5f",
             "gridcolor": "white",
             "linecolor": "white",
             "minorgridcolor": "white",
             "startlinecolor": "#2a3f5f"
            },
            "type": "carpet"
           }
          ],
          "choropleth": [
           {
            "colorbar": {
             "outlinewidth": 0,
             "ticks": ""
            },
            "type": "choropleth"
           }
          ],
          "contour": [
           {
            "colorbar": {
             "outlinewidth": 0,
             "ticks": ""
            },
            "colorscale": [
             [
              0,
              "#0d0887"
             ],
             [
              0.1111111111111111,
              "#46039f"
             ],
             [
              0.2222222222222222,
              "#7201a8"
             ],
             [
              0.3333333333333333,
              "#9c179e"
             ],
             [
              0.4444444444444444,
              "#bd3786"
             ],
             [
              0.5555555555555556,
              "#d8576b"
             ],
             [
              0.6666666666666666,
              "#ed7953"
             ],
             [
              0.7777777777777778,
              "#fb9f3a"
             ],
             [
              0.8888888888888888,
              "#fdca26"
             ],
             [
              1,
              "#f0f921"
             ]
            ],
            "type": "contour"
           }
          ],
          "contourcarpet": [
           {
            "colorbar": {
             "outlinewidth": 0,
             "ticks": ""
            },
            "type": "contourcarpet"
           }
          ],
          "heatmap": [
           {
            "colorbar": {
             "outlinewidth": 0,
             "ticks": ""
            },
            "colorscale": [
             [
              0,
              "#0d0887"
             ],
             [
              0.1111111111111111,
              "#46039f"
             ],
             [
              0.2222222222222222,
              "#7201a8"
             ],
             [
              0.3333333333333333,
              "#9c179e"
             ],
             [
              0.4444444444444444,
              "#bd3786"
             ],
             [
              0.5555555555555556,
              "#d8576b"
             ],
             [
              0.6666666666666666,
              "#ed7953"
             ],
             [
              0.7777777777777778,
              "#fb9f3a"
             ],
             [
              0.8888888888888888,
              "#fdca26"
             ],
             [
              1,
              "#f0f921"
             ]
            ],
            "type": "heatmap"
           }
          ],
          "histogram": [
           {
            "marker": {
             "pattern": {
              "fillmode": "overlay",
              "size": 10,
              "solidity": 0.2
             }
            },
            "type": "histogram"
           }
          ],
          "histogram2d": [
           {
            "colorbar": {
             "outlinewidth": 0,
             "ticks": ""
            },
            "colorscale": [
             [
              0,
              "#0d0887"
             ],
             [
              0.1111111111111111,
              "#46039f"
             ],
             [
              0.2222222222222222,
              "#7201a8"
             ],
             [
              0.3333333333333333,
              "#9c179e"
             ],
             [
              0.4444444444444444,
              "#bd3786"
             ],
             [
              0.5555555555555556,
              "#d8576b"
             ],
             [
              0.6666666666666666,
              "#ed7953"
             ],
             [
              0.7777777777777778,
              "#fb9f3a"
             ],
             [
              0.8888888888888888,
              "#fdca26"
             ],
             [
              1,
              "#f0f921"
             ]
            ],
            "type": "histogram2d"
           }
          ],
          "histogram2dcontour": [
           {
            "colorbar": {
             "outlinewidth": 0,
             "ticks": ""
            },
            "colorscale": [
             [
              0,
              "#0d0887"
             ],
             [
              0.1111111111111111,
              "#46039f"
             ],
             [
              0.2222222222222222,
              "#7201a8"
             ],
             [
              0.3333333333333333,
              "#9c179e"
             ],
             [
              0.4444444444444444,
              "#bd3786"
             ],
             [
              0.5555555555555556,
              "#d8576b"
             ],
             [
              0.6666666666666666,
              "#ed7953"
             ],
             [
              0.7777777777777778,
              "#fb9f3a"
             ],
             [
              0.8888888888888888,
              "#fdca26"
             ],
             [
              1,
              "#f0f921"
             ]
            ],
            "type": "histogram2dcontour"
           }
          ],
          "mesh3d": [
           {
            "colorbar": {
             "outlinewidth": 0,
             "ticks": ""
            },
            "type": "mesh3d"
           }
          ],
          "parcoords": [
           {
            "line": {
             "colorbar": {
              "outlinewidth": 0,
              "ticks": ""
             }
            },
            "type": "parcoords"
           }
          ],
          "pie": [
           {
            "automargin": true,
            "type": "pie"
           }
          ],
          "scatter": [
           {
            "fillpattern": {
             "fillmode": "overlay",
             "size": 10,
             "solidity": 0.2
            },
            "type": "scatter"
           }
          ],
          "scatter3d": [
           {
            "line": {
             "colorbar": {
              "outlinewidth": 0,
              "ticks": ""
             }
            },
            "marker": {
             "colorbar": {
              "outlinewidth": 0,
              "ticks": ""
             }
            },
            "type": "scatter3d"
           }
          ],
          "scattercarpet": [
           {
            "marker": {
             "colorbar": {
              "outlinewidth": 0,
              "ticks": ""
             }
            },
            "type": "scattercarpet"
           }
          ],
          "scattergeo": [
           {
            "marker": {
             "colorbar": {
              "outlinewidth": 0,
              "ticks": ""
             }
            },
            "type": "scattergeo"
           }
          ],
          "scattergl": [
           {
            "marker": {
             "colorbar": {
              "outlinewidth": 0,
              "ticks": ""
             }
            },
            "type": "scattergl"
           }
          ],
          "scattermap": [
           {
            "marker": {
             "colorbar": {
              "outlinewidth": 0,
              "ticks": ""
             }
            },
            "type": "scattermap"
           }
          ],
          "scattermapbox": [
           {
            "marker": {
             "colorbar": {
              "outlinewidth": 0,
              "ticks": ""
             }
            },
            "type": "scattermapbox"
           }
          ],
          "scatterpolar": [
           {
            "marker": {
             "colorbar": {
              "outlinewidth": 0,
              "ticks": ""
             }
            },
            "type": "scatterpolar"
           }
          ],
          "scatterpolargl": [
           {
            "marker": {
             "colorbar": {
              "outlinewidth": 0,
              "ticks": ""
             }
            },
            "type": "scatterpolargl"
           }
          ],
          "scatterternary": [
           {
            "marker": {
             "colorbar": {
              "outlinewidth": 0,
              "ticks": ""
             }
            },
            "type": "scatterternary"
           }
          ],
          "surface": [
           {
            "colorbar": {
             "outlinewidth": 0,
             "ticks": ""
            },
            "colorscale": [
             [
              0,
              "#0d0887"
             ],
             [
              0.1111111111111111,
              "#46039f"
             ],
             [
              0.2222222222222222,
              "#7201a8"
             ],
             [
              0.3333333333333333,
              "#9c179e"
             ],
             [
              0.4444444444444444,
              "#bd3786"
             ],
             [
              0.5555555555555556,
              "#d8576b"
             ],
             [
              0.6666666666666666,
              "#ed7953"
             ],
             [
              0.7777777777777778,
              "#fb9f3a"
             ],
             [
              0.8888888888888888,
              "#fdca26"
             ],
             [
              1,
              "#f0f921"
             ]
            ],
            "type": "surface"
           }
          ],
          "table": [
           {
            "cells": {
             "fill": {
              "color": "#EBF0F8"
             },
             "line": {
              "color": "white"
             }
            },
            "header": {
             "fill": {
              "color": "#C8D4E3"
             },
             "line": {
              "color": "white"
             }
            },
            "type": "table"
           }
          ]
         },
         "layout": {
          "annotationdefaults": {
           "arrowcolor": "#2a3f5f",
           "arrowhead": 0,
           "arrowwidth": 1
          },
          "autotypenumbers": "strict",
          "coloraxis": {
           "colorbar": {
            "outlinewidth": 0,
            "ticks": ""
           }
          },
          "colorscale": {
           "diverging": [
            [
             0,
             "#8e0152"
            ],
            [
             0.1,
             "#c51b7d"
            ],
            [
             0.2,
             "#de77ae"
            ],
            [
             0.3,
             "#f1b6da"
            ],
            [
             0.4,
             "#fde0ef"
            ],
            [
             0.5,
             "#f7f7f7"
            ],
            [
             0.6,
             "#e6f5d0"
            ],
            [
             0.7,
             "#b8e186"
            ],
            [
             0.8,
             "#7fbc41"
            ],
            [
             0.9,
             "#4d9221"
            ],
            [
             1,
             "#276419"
            ]
           ],
           "sequential": [
            [
             0,
             "#0d0887"
            ],
            [
             0.1111111111111111,
             "#46039f"
            ],
            [
             0.2222222222222222,
             "#7201a8"
            ],
            [
             0.3333333333333333,
             "#9c179e"
            ],
            [
             0.4444444444444444,
             "#bd3786"
            ],
            [
             0.5555555555555556,
             "#d8576b"
            ],
            [
             0.6666666666666666,
             "#ed7953"
            ],
            [
             0.7777777777777778,
             "#fb9f3a"
            ],
            [
             0.8888888888888888,
             "#fdca26"
            ],
            [
             1,
             "#f0f921"
            ]
           ],
           "sequentialminus": [
            [
             0,
             "#0d0887"
            ],
            [
             0.1111111111111111,
             "#46039f"
            ],
            [
             0.2222222222222222,
             "#7201a8"
            ],
            [
             0.3333333333333333,
             "#9c179e"
            ],
            [
             0.4444444444444444,
             "#bd3786"
            ],
            [
             0.5555555555555556,
             "#d8576b"
            ],
            [
             0.6666666666666666,
             "#ed7953"
            ],
            [
             0.7777777777777778,
             "#fb9f3a"
            ],
            [
             0.8888888888888888,
             "#fdca26"
            ],
            [
             1,
             "#f0f921"
            ]
           ]
          },
          "colorway": [
           "#636efa",
           "#EF553B",
           "#00cc96",
           "#ab63fa",
           "#FFA15A",
           "#19d3f3",
           "#FF6692",
           "#B6E880",
           "#FF97FF",
           "#FECB52"
          ],
          "font": {
           "color": "#2a3f5f"
          },
          "geo": {
           "bgcolor": "white",
           "lakecolor": "white",
           "landcolor": "#E5ECF6",
           "showlakes": true,
           "showland": true,
           "subunitcolor": "white"
          },
          "hoverlabel": {
           "align": "left"
          },
          "hovermode": "closest",
          "mapbox": {
           "style": "light"
          },
          "paper_bgcolor": "white",
          "plot_bgcolor": "#E5ECF6",
          "polar": {
           "angularaxis": {
            "gridcolor": "white",
            "linecolor": "white",
            "ticks": ""
           },
           "bgcolor": "#E5ECF6",
           "radialaxis": {
            "gridcolor": "white",
            "linecolor": "white",
            "ticks": ""
           }
          },
          "scene": {
           "xaxis": {
            "backgroundcolor": "#E5ECF6",
            "gridcolor": "white",
            "gridwidth": 2,
            "linecolor": "white",
            "showbackground": true,
            "ticks": "",
            "zerolinecolor": "white"
           },
           "yaxis": {
            "backgroundcolor": "#E5ECF6",
            "gridcolor": "white",
            "gridwidth": 2,
            "linecolor": "white",
            "showbackground": true,
            "ticks": "",
            "zerolinecolor": "white"
           },
           "zaxis": {
            "backgroundcolor": "#E5ECF6",
            "gridcolor": "white",
            "gridwidth": 2,
            "linecolor": "white",
            "showbackground": true,
            "ticks": "",
            "zerolinecolor": "white"
           }
          },
          "shapedefaults": {
           "line": {
            "color": "#2a3f5f"
           }
          },
          "ternary": {
           "aaxis": {
            "gridcolor": "white",
            "linecolor": "white",
            "ticks": ""
           },
           "baxis": {
            "gridcolor": "white",
            "linecolor": "white",
            "ticks": ""
           },
           "bgcolor": "#E5ECF6",
           "caxis": {
            "gridcolor": "white",
            "linecolor": "white",
            "ticks": ""
           }
          },
          "title": {
           "x": 0.05
          },
          "xaxis": {
           "automargin": true,
           "gridcolor": "white",
           "linecolor": "white",
           "ticks": "",
           "title": {
            "standoff": 15
           },
           "zerolinecolor": "white",
           "zerolinewidth": 2
          },
          "yaxis": {
           "automargin": true,
           "gridcolor": "white",
           "linecolor": "white",
           "ticks": "",
           "title": {
            "standoff": 15
           },
           "zerolinecolor": "white",
           "zerolinewidth": 2
          }
         }
        }
       }
      }
     },
     "metadata": {},
     "output_type": "display_data"
    }
   ],
   "source": [
    "# 3. 3D 산점도 작성 및 Hover 기능 추가\n",
    "fig = px.scatter_3d(data, x='Population', y='GDP', z='LifeExpectancy',\n",
    "                    color='Country', size='Population', hover_name='Country',hover_data=['Year'])\n",
    "\n",
    "# Hover에 추가 정보 표시 (연도)\n",
    "fig.update_traces(marker=dict(size=5),\n",
    "                  selector=dict(mode='markers'))\n",
    "\n",
    "# 3D 그래프 출력\n",
    "fig.show()"
   ]
  },
  {
   "cell_type": "code",
   "execution_count": 9,
   "id": "f16d0e4a",
   "metadata": {},
   "outputs": [
    {
     "data": {
      "application/vnd.plotly.v1+json": {
       "config": {
        "plotlyServerURL": "https://plot.ly"
       },
       "data": [
        {
         "hovertemplate": "<b>%{hovertext}</b><br><br>Country=USA<br>Year=2000<br>Population=%{marker.size}<br>GDP=%{y}<br>LifeExpectancy=%{z}<extra></extra>",
         "hovertext": [
          "USA"
         ],
         "ids": [
          "USA"
         ],
         "legendgroup": "USA",
         "marker": {
          "color": "#636efa",
          "size": {
           "bdata": "M9SCTA==",
           "dtype": "i4"
          },
          "sizemode": "area",
          "sizeref": 5018178.29,
          "symbol": "circle"
         },
         "mode": "markers",
         "name": "USA",
         "scene": "scene",
         "showlegend": true,
         "type": "scatter3d",
         "x": {
          "bdata": "M9SCTA==",
          "dtype": "i4"
         },
         "y": [
          3794459720974
         ],
         "z": {
          "bdata": "KVyPwvWoUkA=",
          "dtype": "f8"
         }
        },
        {
         "hovertemplate": "<b>%{hovertext}</b><br><br>Country=China<br>Year=2000<br>Population=%{marker.size}<br>GDP=%{y}<br>LifeExpectancy=%{z}<extra></extra>",
         "hovertext": [
          "China"
         ],
         "ids": [
          "China"
         ],
         "legendgroup": "China",
         "marker": {
          "color": "#EF553B",
          "size": {
           "bdata": "qDKsJA==",
           "dtype": "i4"
          },
          "sizemode": "area",
          "sizeref": 5018178.29,
          "symbol": "circle"
         },
         "mode": "markers",
         "name": "China",
         "scene": "scene",
         "showlegend": true,
         "type": "scatter3d",
         "x": {
          "bdata": "qDKsJA==",
          "dtype": "i4"
         },
         "y": [
          16781973170240
         ],
         "z": {
          "bdata": "SOF6FK4nTkA=",
          "dtype": "f8"
         }
        },
        {
         "hovertemplate": "<b>%{hovertext}</b><br><br>Country=India<br>Year=2000<br>Population=%{marker.size}<br>GDP=%{y}<br>LifeExpectancy=%{z}<extra></extra>",
         "hovertext": [
          "India"
         ],
         "ids": [
          "India"
         ],
         "legendgroup": "India",
         "marker": {
          "color": "#00cc96",
          "size": {
           "bdata": "acuQRQ==",
           "dtype": "i4"
          },
          "sizemode": "area",
          "sizeref": 5018178.29,
          "symbol": "circle"
         },
         "mode": "markers",
         "name": "India",
         "scene": "scene",
         "showlegend": true,
         "type": "scatter3d",
         "x": {
          "bdata": "acuQRQ==",
          "dtype": "i4"
         },
         "y": [
          8682067461946
         ],
         "z": {
          "bdata": "PQrXo3CdUEA=",
          "dtype": "f8"
         }
        },
        {
         "hovertemplate": "<b>%{hovertext}</b><br><br>Country=Germany<br>Year=2000<br>Population=%{marker.size}<br>GDP=%{y}<br>LifeExpectancy=%{z}<extra></extra>",
         "hovertext": [
          "Germany"
         ],
         "ids": [
          "Germany"
         ],
         "legendgroup": "Germany",
         "marker": {
          "color": "#ab63fa",
          "size": {
           "bdata": "94I+SA==",
           "dtype": "i4"
          },
          "sizemode": "area",
          "sizeref": 5018178.29,
          "symbol": "circle"
         },
         "mode": "markers",
         "name": "Germany",
         "scene": "scene",
         "showlegend": true,
         "type": "scatter3d",
         "x": {
          "bdata": "94I+SA==",
          "dtype": "i4"
         },
         "y": [
          7387022038935
         ],
         "z": {
          "bdata": "4XoUrkdBU0A=",
          "dtype": "f8"
         }
        },
        {
         "hovertemplate": "<b>%{hovertext}</b><br><br>Country=UK<br>Year=2000<br>Population=%{marker.size}<br>GDP=%{y}<br>LifeExpectancy=%{z}<extra></extra>",
         "hovertext": [
          "UK"
         ],
         "ids": [
          "UK"
         ],
         "legendgroup": "UK",
         "marker": {
          "color": "#FFA15A",
          "size": {
           "bdata": "WUYrUw==",
           "dtype": "i4"
          },
          "sizemode": "area",
          "sizeref": 5018178.29,
          "symbol": "circle"
         },
         "mode": "markers",
         "name": "UK",
         "scene": "scene",
         "showlegend": true,
         "type": "scatter3d",
         "x": {
          "bdata": "WUYrUw==",
          "dtype": "i4"
         },
         "y": [
          3470899369063
         ],
         "z": {
          "bdata": "XI/C9Sh8UkA=",
          "dtype": "f8"
         }
        },
        {
         "hovertemplate": "<b>%{hovertext}</b><br><br>Country=France<br>Year=2000<br>Population=%{marker.size}<br>GDP=%{y}<br>LifeExpectancy=%{z}<extra></extra>",
         "hovertext": [
          "France"
         ],
         "ids": [
          "France"
         ],
         "legendgroup": "France",
         "marker": {
          "color": "#19d3f3",
          "size": {
           "bdata": "MqQ1KQ==",
           "dtype": "i4"
          },
          "sizemode": "area",
          "sizeref": 5018178.29,
          "symbol": "circle"
         },
         "mode": "markers",
         "name": "France",
         "scene": "scene",
         "showlegend": true,
         "type": "scatter3d",
         "x": {
          "bdata": "MqQ1KQ==",
          "dtype": "i4"
         },
         "y": [
          11886858622236
         ],
         "z": {
          "bdata": "KVyPwvUoT0A=",
          "dtype": "f8"
         }
        },
        {
         "hovertemplate": "<b>%{hovertext}</b><br><br>Country=Brazil<br>Year=2000<br>Population=%{marker.size}<br>GDP=%{y}<br>LifeExpectancy=%{z}<extra></extra>",
         "hovertext": [
          "Brazil"
         ],
         "ids": [
          "Brazil"
         ],
         "legendgroup": "Brazil",
         "marker": {
          "color": "#FF6692",
          "size": {
           "bdata": "NuWiLg==",
           "dtype": "i4"
          },
          "sizemode": "area",
          "sizeref": 5018178.29,
          "symbol": "circle"
         },
         "mode": "markers",
         "name": "Brazil",
         "scene": "scene",
         "showlegend": true,
         "type": "scatter3d",
         "x": {
          "bdata": "NuWiLg==",
          "dtype": "i4"
         },
         "y": [
          5963908692364
         ],
         "z": {
          "bdata": "CtejcD16U0A=",
          "dtype": "f8"
         }
        },
        {
         "hovertemplate": "<b>%{hovertext}</b><br><br>Country=Japan<br>Year=2000<br>Population=%{marker.size}<br>GDP=%{y}<br>LifeExpectancy=%{z}<extra></extra>",
         "hovertext": [
          "Japan"
         ],
         "ids": [
          "Japan"
         ],
         "legendgroup": "Japan",
         "marker": {
          "color": "#B6E880",
          "size": {
           "bdata": "uZ7vTQ==",
           "dtype": "i4"
          },
          "sizemode": "area",
          "sizeref": 5018178.29,
          "symbol": "circle"
         },
         "mode": "markers",
         "name": "Japan",
         "scene": "scene",
         "showlegend": true,
         "type": "scatter3d",
         "x": {
          "bdata": "uZ7vTQ==",
          "dtype": "i4"
         },
         "y": [
          15682046433964
         ],
         "z": {
          "bdata": "mpmZmZnZU0A=",
          "dtype": "f8"
         }
        },
        {
         "hovertemplate": "<b>%{hovertext}</b><br><br>Country=Canada<br>Year=2000<br>Population=%{marker.size}<br>GDP=%{y}<br>LifeExpectancy=%{z}<extra></extra>",
         "hovertext": [
          "Canada"
         ],
         "ids": [
          "Canada"
         ],
         "legendgroup": "Canada",
         "marker": {
          "color": "#FF97FF",
          "size": {
           "bdata": "SaloQg==",
           "dtype": "i4"
          },
          "sizemode": "area",
          "sizeref": 5018178.29,
          "symbol": "circle"
         },
         "mode": "markers",
         "name": "Canada",
         "scene": "scene",
         "showlegend": true,
         "type": "scatter3d",
         "x": {
          "bdata": "SaloQg==",
          "dtype": "i4"
         },
         "y": [
          17908114373292
         ],
         "z": {
          "bdata": "SOF6FK4HUkA=",
          "dtype": "f8"
         }
        },
        {
         "hovertemplate": "<b>%{hovertext}</b><br><br>Country=Australia<br>Year=2000<br>Population=%{marker.size}<br>GDP=%{y}<br>LifeExpectancy=%{z}<extra></extra>",
         "hovertext": [
          "Australia"
         ],
         "ids": [
          "Australia"
         ],
         "legendgroup": "Australia",
         "marker": {
          "color": "#FECB52",
          "size": {
           "bdata": "2d9qNQ==",
           "dtype": "i4"
          },
          "sizemode": "area",
          "sizeref": 5018178.29,
          "symbol": "circle"
         },
         "mode": "markers",
         "name": "Australia",
         "scene": "scene",
         "showlegend": true,
         "type": "scatter3d",
         "x": {
          "bdata": "2d9qNQ==",
          "dtype": "i4"
         },
         "y": [
          13488977588769
         ],
         "z": {
          "bdata": "KVyPwvVIT0A=",
          "dtype": "f8"
         }
        }
       ],
       "frames": [
        {
         "data": [
          {
           "hovertemplate": "<b>%{hovertext}</b><br><br>Country=USA<br>Year=2000<br>Population=%{marker.size}<br>GDP=%{y}<br>LifeExpectancy=%{z}<extra></extra>",
           "hovertext": [
            "USA"
           ],
           "ids": [
            "USA"
           ],
           "legendgroup": "USA",
           "marker": {
            "color": "#636efa",
            "size": {
             "bdata": "M9SCTA==",
             "dtype": "i4"
            },
            "sizemode": "area",
            "sizeref": 5018178.29,
            "symbol": "circle"
           },
           "mode": "markers",
           "name": "USA",
           "scene": "scene",
           "showlegend": true,
           "type": "scatter3d",
           "x": {
            "bdata": "M9SCTA==",
            "dtype": "i4"
           },
           "y": [
            3794459720974
           ],
           "z": {
            "bdata": "KVyPwvWoUkA=",
            "dtype": "f8"
           }
          },
          {
           "hovertemplate": "<b>%{hovertext}</b><br><br>Country=China<br>Year=2000<br>Population=%{marker.size}<br>GDP=%{y}<br>LifeExpectancy=%{z}<extra></extra>",
           "hovertext": [
            "China"
           ],
           "ids": [
            "China"
           ],
           "legendgroup": "China",
           "marker": {
            "color": "#EF553B",
            "size": {
             "bdata": "qDKsJA==",
             "dtype": "i4"
            },
            "sizemode": "area",
            "sizeref": 5018178.29,
            "symbol": "circle"
           },
           "mode": "markers",
           "name": "China",
           "scene": "scene",
           "showlegend": true,
           "type": "scatter3d",
           "x": {
            "bdata": "qDKsJA==",
            "dtype": "i4"
           },
           "y": [
            16781973170240
           ],
           "z": {
            "bdata": "SOF6FK4nTkA=",
            "dtype": "f8"
           }
          },
          {
           "hovertemplate": "<b>%{hovertext}</b><br><br>Country=India<br>Year=2000<br>Population=%{marker.size}<br>GDP=%{y}<br>LifeExpectancy=%{z}<extra></extra>",
           "hovertext": [
            "India"
           ],
           "ids": [
            "India"
           ],
           "legendgroup": "India",
           "marker": {
            "color": "#00cc96",
            "size": {
             "bdata": "acuQRQ==",
             "dtype": "i4"
            },
            "sizemode": "area",
            "sizeref": 5018178.29,
            "symbol": "circle"
           },
           "mode": "markers",
           "name": "India",
           "scene": "scene",
           "showlegend": true,
           "type": "scatter3d",
           "x": {
            "bdata": "acuQRQ==",
            "dtype": "i4"
           },
           "y": [
            8682067461946
           ],
           "z": {
            "bdata": "PQrXo3CdUEA=",
            "dtype": "f8"
           }
          },
          {
           "hovertemplate": "<b>%{hovertext}</b><br><br>Country=Germany<br>Year=2000<br>Population=%{marker.size}<br>GDP=%{y}<br>LifeExpectancy=%{z}<extra></extra>",
           "hovertext": [
            "Germany"
           ],
           "ids": [
            "Germany"
           ],
           "legendgroup": "Germany",
           "marker": {
            "color": "#ab63fa",
            "size": {
             "bdata": "94I+SA==",
             "dtype": "i4"
            },
            "sizemode": "area",
            "sizeref": 5018178.29,
            "symbol": "circle"
           },
           "mode": "markers",
           "name": "Germany",
           "scene": "scene",
           "showlegend": true,
           "type": "scatter3d",
           "x": {
            "bdata": "94I+SA==",
            "dtype": "i4"
           },
           "y": [
            7387022038935
           ],
           "z": {
            "bdata": "4XoUrkdBU0A=",
            "dtype": "f8"
           }
          },
          {
           "hovertemplate": "<b>%{hovertext}</b><br><br>Country=UK<br>Year=2000<br>Population=%{marker.size}<br>GDP=%{y}<br>LifeExpectancy=%{z}<extra></extra>",
           "hovertext": [
            "UK"
           ],
           "ids": [
            "UK"
           ],
           "legendgroup": "UK",
           "marker": {
            "color": "#FFA15A",
            "size": {
             "bdata": "WUYrUw==",
             "dtype": "i4"
            },
            "sizemode": "area",
            "sizeref": 5018178.29,
            "symbol": "circle"
           },
           "mode": "markers",
           "name": "UK",
           "scene": "scene",
           "showlegend": true,
           "type": "scatter3d",
           "x": {
            "bdata": "WUYrUw==",
            "dtype": "i4"
           },
           "y": [
            3470899369063
           ],
           "z": {
            "bdata": "XI/C9Sh8UkA=",
            "dtype": "f8"
           }
          },
          {
           "hovertemplate": "<b>%{hovertext}</b><br><br>Country=France<br>Year=2000<br>Population=%{marker.size}<br>GDP=%{y}<br>LifeExpectancy=%{z}<extra></extra>",
           "hovertext": [
            "France"
           ],
           "ids": [
            "France"
           ],
           "legendgroup": "France",
           "marker": {
            "color": "#19d3f3",
            "size": {
             "bdata": "MqQ1KQ==",
             "dtype": "i4"
            },
            "sizemode": "area",
            "sizeref": 5018178.29,
            "symbol": "circle"
           },
           "mode": "markers",
           "name": "France",
           "scene": "scene",
           "showlegend": true,
           "type": "scatter3d",
           "x": {
            "bdata": "MqQ1KQ==",
            "dtype": "i4"
           },
           "y": [
            11886858622236
           ],
           "z": {
            "bdata": "KVyPwvUoT0A=",
            "dtype": "f8"
           }
          },
          {
           "hovertemplate": "<b>%{hovertext}</b><br><br>Country=Brazil<br>Year=2000<br>Population=%{marker.size}<br>GDP=%{y}<br>LifeExpectancy=%{z}<extra></extra>",
           "hovertext": [
            "Brazil"
           ],
           "ids": [
            "Brazil"
           ],
           "legendgroup": "Brazil",
           "marker": {
            "color": "#FF6692",
            "size": {
             "bdata": "NuWiLg==",
             "dtype": "i4"
            },
            "sizemode": "area",
            "sizeref": 5018178.29,
            "symbol": "circle"
           },
           "mode": "markers",
           "name": "Brazil",
           "scene": "scene",
           "showlegend": true,
           "type": "scatter3d",
           "x": {
            "bdata": "NuWiLg==",
            "dtype": "i4"
           },
           "y": [
            5963908692364
           ],
           "z": {
            "bdata": "CtejcD16U0A=",
            "dtype": "f8"
           }
          },
          {
           "hovertemplate": "<b>%{hovertext}</b><br><br>Country=Japan<br>Year=2000<br>Population=%{marker.size}<br>GDP=%{y}<br>LifeExpectancy=%{z}<extra></extra>",
           "hovertext": [
            "Japan"
           ],
           "ids": [
            "Japan"
           ],
           "legendgroup": "Japan",
           "marker": {
            "color": "#B6E880",
            "size": {
             "bdata": "uZ7vTQ==",
             "dtype": "i4"
            },
            "sizemode": "area",
            "sizeref": 5018178.29,
            "symbol": "circle"
           },
           "mode": "markers",
           "name": "Japan",
           "scene": "scene",
           "showlegend": true,
           "type": "scatter3d",
           "x": {
            "bdata": "uZ7vTQ==",
            "dtype": "i4"
           },
           "y": [
            15682046433964
           ],
           "z": {
            "bdata": "mpmZmZnZU0A=",
            "dtype": "f8"
           }
          },
          {
           "hovertemplate": "<b>%{hovertext}</b><br><br>Country=Canada<br>Year=2000<br>Population=%{marker.size}<br>GDP=%{y}<br>LifeExpectancy=%{z}<extra></extra>",
           "hovertext": [
            "Canada"
           ],
           "ids": [
            "Canada"
           ],
           "legendgroup": "Canada",
           "marker": {
            "color": "#FF97FF",
            "size": {
             "bdata": "SaloQg==",
             "dtype": "i4"
            },
            "sizemode": "area",
            "sizeref": 5018178.29,
            "symbol": "circle"
           },
           "mode": "markers",
           "name": "Canada",
           "scene": "scene",
           "showlegend": true,
           "type": "scatter3d",
           "x": {
            "bdata": "SaloQg==",
            "dtype": "i4"
           },
           "y": [
            17908114373292
           ],
           "z": {
            "bdata": "SOF6FK4HUkA=",
            "dtype": "f8"
           }
          },
          {
           "hovertemplate": "<b>%{hovertext}</b><br><br>Country=Australia<br>Year=2000<br>Population=%{marker.size}<br>GDP=%{y}<br>LifeExpectancy=%{z}<extra></extra>",
           "hovertext": [
            "Australia"
           ],
           "ids": [
            "Australia"
           ],
           "legendgroup": "Australia",
           "marker": {
            "color": "#FECB52",
            "size": {
             "bdata": "2d9qNQ==",
             "dtype": "i4"
            },
            "sizemode": "area",
            "sizeref": 5018178.29,
            "symbol": "circle"
           },
           "mode": "markers",
           "name": "Australia",
           "scene": "scene",
           "showlegend": true,
           "type": "scatter3d",
           "x": {
            "bdata": "2d9qNQ==",
            "dtype": "i4"
           },
           "y": [
            13488977588769
           ],
           "z": {
            "bdata": "KVyPwvVIT0A=",
            "dtype": "f8"
           }
          }
         ],
         "name": "2000"
        },
        {
         "data": [
          {
           "hovertemplate": "<b>%{hovertext}</b><br><br>Country=USA<br>Year=2001<br>Population=%{marker.size}<br>GDP=%{y}<br>LifeExpectancy=%{z}<extra></extra>",
           "hovertext": [
            "USA"
           ],
           "ids": [
            "USA"
           ],
           "legendgroup": "USA",
           "marker": {
            "color": "#636efa",
            "size": {
             "bdata": "AdT1TA==",
             "dtype": "i4"
            },
            "sizemode": "area",
            "sizeref": 5018178.29,
            "symbol": "circle"
           },
           "mode": "markers",
           "name": "USA",
           "scene": "scene",
           "showlegend": true,
           "type": "scatter3d",
           "x": {
            "bdata": "AdT1TA==",
            "dtype": "i4"
           },
           "y": [
            3968949030285
           ],
           "z": {
            "bdata": "KVyPwvW4UkA=",
            "dtype": "f8"
           }
          },
          {
           "hovertemplate": "<b>%{hovertext}</b><br><br>Country=China<br>Year=2001<br>Population=%{marker.size}<br>GDP=%{y}<br>LifeExpectancy=%{z}<extra></extra>",
           "hovertext": [
            "China"
           ],
           "ids": [
            "China"
           ],
           "legendgroup": "China",
           "marker": {
            "color": "#EF553B",
            "size": {
             "bdata": "Ih/dJA==",
             "dtype": "i4"
            },
            "sizemode": "area",
            "sizeref": 5018178.29,
            "symbol": "circle"
           },
           "mode": "markers",
           "name": "China",
           "scene": "scene",
           "showlegend": true,
           "type": "scatter3d",
           "x": {
            "bdata": "Ih/dJA==",
            "dtype": "i4"
           },
           "y": [
            17217721670360
           ],
           "z": {
            "bdata": "hetRuB5FTkA=",
            "dtype": "f8"
           }
          },
          {
           "hovertemplate": "<b>%{hovertext}</b><br><br>Country=India<br>Year=2001<br>Population=%{marker.size}<br>GDP=%{y}<br>LifeExpectancy=%{z}<extra></extra>",
           "hovertext": [
            "India"
           ],
           "ids": [
            "India"
           ],
           "legendgroup": "India",
           "marker": {
            "color": "#00cc96",
            "size": {
             "bdata": "u27tRg==",
             "dtype": "i4"
            },
            "sizemode": "area",
            "sizeref": 5018178.29,
            "symbol": "circle"
           },
           "mode": "markers",
           "name": "India",
           "scene": "scene",
           "showlegend": true,
           "type": "scatter3d",
           "x": {
            "bdata": "u27tRg==",
            "dtype": "i4"
           },
           "y": [
            9106389781482
           ],
           "z": {
            "bdata": "ZmZmZmamUEA=",
            "dtype": "f8"
           }
          },
          {
           "hovertemplate": "<b>%{hovertext}</b><br><br>Country=Germany<br>Year=2001<br>Population=%{marker.size}<br>GDP=%{y}<br>LifeExpectancy=%{z}<extra></extra>",
           "hovertext": [
            "Germany"
           ],
           "ids": [
            "Germany"
           ],
           "legendgroup": "Germany",
           "marker": {
            "color": "#ab63fa",
            "size": {
             "bdata": "rRM8SQ==",
             "dtype": "i4"
            },
            "sizemode": "area",
            "sizeref": 5018178.29,
            "symbol": "circle"
           },
           "mode": "markers",
           "name": "Germany",
           "scene": "scene",
           "showlegend": true,
           "type": "scatter3d",
           "x": {
            "bdata": "rRM8SQ==",
            "dtype": "i4"
           },
           "y": [
            7617264309752
           ],
           "z": {
            "bdata": "KVyPwvVYU0A=",
            "dtype": "f8"
           }
          },
          {
           "hovertemplate": "<b>%{hovertext}</b><br><br>Country=UK<br>Year=2001<br>Population=%{marker.size}<br>GDP=%{y}<br>LifeExpectancy=%{z}<extra></extra>",
           "hovertext": [
            "UK"
           ],
           "ids": [
            "UK"
           ],
           "legendgroup": "UK",
           "marker": {
            "color": "#FFA15A",
            "size": {
             "bdata": "VDeYVA==",
             "dtype": "i4"
            },
            "sizemode": "area",
            "sizeref": 5018178.29,
            "symbol": "circle"
           },
           "mode": "markers",
           "name": "UK",
           "scene": "scene",
           "showlegend": true,
           "type": "scatter3d",
           "x": {
            "bdata": "VDeYVA==",
            "dtype": "i4"
           },
           "y": [
            3624672018558
           ],
           "z": {
            "bdata": "4XoUrkeRUkA=",
            "dtype": "f8"
           }
          },
          {
           "hovertemplate": "<b>%{hovertext}</b><br><br>Country=France<br>Year=2001<br>Population=%{marker.size}<br>GDP=%{y}<br>LifeExpectancy=%{z}<extra></extra>",
           "hovertext": [
            "France"
           ],
           "ids": [
            "France"
           ],
           "legendgroup": "France",
           "marker": {
            "color": "#19d3f3",
            "size": {
             "bdata": "Wr3ZKQ==",
             "dtype": "i4"
            },
            "sizemode": "area",
            "sizeref": 5018178.29,
            "symbol": "circle"
           },
           "mode": "markers",
           "name": "France",
           "scene": "scene",
           "showlegend": true,
           "type": "scatter3d",
           "x": {
            "bdata": "Wr3ZKQ==",
            "dtype": "i4"
           },
           "y": [
            12293688912742
           ],
           "z": {
            "bdata": "FK5H4Xo0T0A=",
            "dtype": "f8"
           }
          },
          {
           "hovertemplate": "<b>%{hovertext}</b><br><br>Country=Brazil<br>Year=2001<br>Population=%{marker.size}<br>GDP=%{y}<br>LifeExpectancy=%{z}<extra></extra>",
           "hovertext": [
            "Brazil"
           ],
           "ids": [
            "Brazil"
           ],
           "legendgroup": "Brazil",
           "marker": {
            "color": "#FF6692",
            "size": {
             "bdata": "EfDuLg==",
             "dtype": "i4"
            },
            "sizemode": "area",
            "sizeref": 5018178.29,
            "symbol": "circle"
           },
           "mode": "markers",
           "name": "Brazil",
           "scene": "scene",
           "showlegend": true,
           "type": "scatter3d",
           "x": {
            "bdata": "EfDuLg==",
            "dtype": "i4"
           },
           "y": [
            6140317587575
           ],
           "z": {
            "bdata": "UrgeheuRU0A=",
            "dtype": "f8"
           }
          },
          {
           "hovertemplate": "<b>%{hovertext}</b><br><br>Country=Japan<br>Year=2001<br>Population=%{marker.size}<br>GDP=%{y}<br>LifeExpectancy=%{z}<extra></extra>",
           "hovertext": [
            "Japan"
           ],
           "ids": [
            "Japan"
           ],
           "legendgroup": "Japan",
           "marker": {
            "color": "#B6E880",
            "size": {
             "bdata": "BYx8Tw==",
             "dtype": "i4"
            },
            "sizemode": "area",
            "sizeref": 5018178.29,
            "symbol": "circle"
           },
           "mode": "markers",
           "name": "Japan",
           "scene": "scene",
           "showlegend": true,
           "type": "scatter3d",
           "x": {
            "bdata": "BYx8Tw==",
            "dtype": "i4"
           },
           "y": [
            16030405797288
           ],
           "z": {
            "bdata": "mpmZmZnpU0A=",
            "dtype": "f8"
           }
          },
          {
           "hovertemplate": "<b>%{hovertext}</b><br><br>Country=Canada<br>Year=2001<br>Population=%{marker.size}<br>GDP=%{y}<br>LifeExpectancy=%{z}<extra></extra>",
           "hovertext": [
            "Canada"
           ],
           "ids": [
            "Canada"
           ],
           "legendgroup": "Canada",
           "marker": {
            "color": "#FF97FF",
            "size": {
             "bdata": "5/8YQw==",
             "dtype": "i4"
            },
            "sizemode": "area",
            "sizeref": 5018178.29,
            "symbol": "circle"
           },
           "mode": "markers",
           "name": "Canada",
           "scene": "scene",
           "showlegend": true,
           "type": "scatter3d",
           "x": {
            "bdata": "5/8YQw==",
            "dtype": "i4"
           },
           "y": [
            18327284731229
           ],
           "z": {
            "bdata": "KVyPwvUYUkA=",
            "dtype": "f8"
           }
          },
          {
           "hovertemplate": "<b>%{hovertext}</b><br><br>Country=Australia<br>Year=2001<br>Population=%{marker.size}<br>GDP=%{y}<br>LifeExpectancy=%{z}<extra></extra>",
           "hovertext": [
            "Australia"
           ],
           "ids": [
            "Australia"
           ],
           "legendgroup": "Australia",
           "marker": {
            "color": "#FECB52",
            "size": {
             "bdata": "XPERNg==",
             "dtype": "i4"
            },
            "sizemode": "area",
            "sizeref": 5018178.29,
            "symbol": "circle"
           },
           "mode": "markers",
           "name": "Australia",
           "scene": "scene",
           "showlegend": true,
           "type": "scatter3d",
           "x": {
            "bdata": "XPERNg==",
            "dtype": "i4"
           },
           "y": [
            14037082519588
           ],
           "z": {
            "bdata": "w/UoXI9iT0A=",
            "dtype": "f8"
           }
          }
         ],
         "name": "2001"
        },
        {
         "data": [
          {
           "hovertemplate": "<b>%{hovertext}</b><br><br>Country=USA<br>Year=2002<br>Population=%{marker.size}<br>GDP=%{y}<br>LifeExpectancy=%{z}<extra></extra>",
           "hovertext": [
            "USA"
           ],
           "ids": [
            "USA"
           ],
           "legendgroup": "USA",
           "marker": {
            "color": "#636efa",
            "size": {
             "bdata": "K4vrTg==",
             "dtype": "i4"
            },
            "sizemode": "area",
            "sizeref": 5018178.29,
            "symbol": "circle"
           },
           "mode": "markers",
           "name": "USA",
           "scene": "scene",
           "showlegend": true,
           "type": "scatter3d",
           "x": {
            "bdata": "K4vrTg==",
            "dtype": "i4"
           },
           "y": [
            3952537491226
           ],
           "z": {
            "bdata": "SOF6FK7XUkA=",
            "dtype": "f8"
           }
          },
          {
           "hovertemplate": "<b>%{hovertext}</b><br><br>Country=China<br>Year=2002<br>Population=%{marker.size}<br>GDP=%{y}<br>LifeExpectancy=%{z}<extra></extra>",
           "hovertext": [
            "China"
           ],
           "ids": [
            "China"
           ],
           "legendgroup": "China",
           "marker": {
            "color": "#EF553B",
            "size": {
             "bdata": "wkvrJQ==",
             "dtype": "i4"
            },
            "sizemode": "area",
            "sizeref": 5018178.29,
            "symbol": "circle"
           },
           "mode": "markers",
           "name": "China",
           "scene": "scene",
           "showlegend": true,
           "type": "scatter3d",
           "x": {
            "bdata": "wkvrJQ==",
            "dtype": "i4"
           },
           "y": [
            18087866091066
           ],
           "z": {
            "bdata": "cT0K16NwTkA=",
            "dtype": "f8"
           }
          },
          {
           "hovertemplate": "<b>%{hovertext}</b><br><br>Country=India<br>Year=2002<br>Population=%{marker.size}<br>GDP=%{y}<br>LifeExpectancy=%{z}<extra></extra>",
           "hovertext": [
            "India"
           ],
           "ids": [
            "India"
           ],
           "legendgroup": "India",
           "marker": {
            "color": "#00cc96",
            "size": {
             "bdata": "Bk9PRw==",
             "dtype": "i4"
            },
            "sizemode": "area",
            "sizeref": 5018178.29,
            "symbol": "circle"
           },
           "mode": "markers",
           "name": "India",
           "scene": "scene",
           "showlegend": true,
           "type": "scatter3d",
           "x": {
            "bdata": "Bk9PRw==",
            "dtype": "i4"
           },
           "y": [
            9193399800655
           ],
           "z": {
            "bdata": "AAAAAACwUEA=",
            "dtype": "f8"
           }
          },
          {
           "hovertemplate": "<b>%{hovertext}</b><br><br>Country=Germany<br>Year=2002<br>Population=%{marker.size}<br>GDP=%{y}<br>LifeExpectancy=%{z}<extra></extra>",
           "hovertext": [
            "Germany"
           ],
           "ids": [
            "Germany"
           ],
           "legendgroup": "Germany",
           "marker": {
            "color": "#ab63fa",
            "size": {
             "bdata": "y8kaSw==",
             "dtype": "i4"
            },
            "sizemode": "area",
            "sizeref": 5018178.29,
            "symbol": "circle"
           },
           "mode": "markers",
           "name": "Germany",
           "scene": "scene",
           "showlegend": true,
           "type": "scatter3d",
           "x": {
            "bdata": "y8kaSw==",
            "dtype": "i4"
           },
           "y": [
            7814350284274
           ],
           "z": {
            "bdata": "16NwPQpXU0A=",
            "dtype": "f8"
           }
          },
          {
           "hovertemplate": "<b>%{hovertext}</b><br><br>Country=UK<br>Year=2002<br>Population=%{marker.size}<br>GDP=%{y}<br>LifeExpectancy=%{z}<extra></extra>",
           "hovertext": [
            "UK"
           ],
           "ids": [
            "UK"
           ],
           "legendgroup": "UK",
           "marker": {
            "color": "#FFA15A",
            "size": {
             "bdata": "FfROVg==",
             "dtype": "i4"
            },
            "sizemode": "area",
            "sizeref": 5018178.29,
            "symbol": "circle"
           },
           "mode": "markers",
           "name": "UK",
           "scene": "scene",
           "showlegend": true,
           "type": "scatter3d",
           "x": {
            "bdata": "FfROVg==",
            "dtype": "i4"
           },
           "y": [
            3720559351488
           ],
           "z": {
            "bdata": "KVyPwvWYUkA=",
            "dtype": "f8"
           }
          },
          {
           "hovertemplate": "<b>%{hovertext}</b><br><br>Country=France<br>Year=2002<br>Population=%{marker.size}<br>GDP=%{y}<br>LifeExpectancy=%{z}<extra></extra>",
           "hovertext": [
            "France"
           ],
           "ids": [
            "France"
           ],
           "legendgroup": "France",
           "marker": {
            "color": "#19d3f3",
            "size": {
             "bdata": "JVg8Kg==",
             "dtype": "i4"
            },
            "sizemode": "area",
            "sizeref": 5018178.29,
            "symbol": "circle"
           },
           "mode": "markers",
           "name": "France",
           "scene": "scene",
           "showlegend": true,
           "type": "scatter3d",
           "x": {
            "bdata": "JVg8Kg==",
            "dtype": "i4"
           },
           "y": [
            12713925209445
           ],
           "z": {
            "bdata": "pHA9CtdDT0A=",
            "dtype": "f8"
           }
          },
          {
           "hovertemplate": "<b>%{hovertext}</b><br><br>Country=Brazil<br>Year=2002<br>Population=%{marker.size}<br>GDP=%{y}<br>LifeExpectancy=%{z}<extra></extra>",
           "hovertext": [
            "Brazil"
           ],
           "ids": [
            "Brazil"
           ],
           "legendgroup": "Brazil",
           "marker": {
            "color": "#FF6692",
            "size": {
             "bdata": "RjBzMA==",
             "dtype": "i4"
            },
            "sizemode": "area",
            "sizeref": 5018178.29,
            "symbol": "circle"
           },
           "mode": "markers",
           "name": "Brazil",
           "scene": "scene",
           "showlegend": true,
           "type": "scatter3d",
           "x": {
            "bdata": "RjBzMA==",
            "dtype": "i4"
           },
           "y": [
            6415915399627
           ],
           "z": {
            "bdata": "PQrXo3CdU0A=",
            "dtype": "f8"
           }
          },
          {
           "hovertemplate": "<b>%{hovertext}</b><br><br>Country=Japan<br>Year=2002<br>Population=%{marker.size}<br>GDP=%{y}<br>LifeExpectancy=%{z}<extra></extra>",
           "hovertext": [
            "Japan"
           ],
           "ids": [
            "Japan"
           ],
           "legendgroup": "Japan",
           "marker": {
            "color": "#B6E880",
            "size": {
             "bdata": "pO0CUQ==",
             "dtype": "i4"
            },
            "sizemode": "area",
            "sizeref": 5018178.29,
            "symbol": "circle"
           },
           "mode": "markers",
           "name": "Japan",
           "scene": "scene",
           "showlegend": true,
           "type": "scatter3d",
           "x": {
            "bdata": "pO0CUQ==",
            "dtype": "i4"
           },
           "y": [
            16821501674068
           ],
           "z": {
            "bdata": "PQrXo3D9U0A=",
            "dtype": "f8"
           }
          },
          {
           "hovertemplate": "<b>%{hovertext}</b><br><br>Country=Canada<br>Year=2002<br>Population=%{marker.size}<br>GDP=%{y}<br>LifeExpectancy=%{z}<extra></extra>",
           "hovertext": [
            "Canada"
           ],
           "ids": [
            "Canada"
           ],
           "legendgroup": "Canada",
           "marker": {
            "color": "#FF97FF",
            "size": {
             "bdata": "kdIeRA==",
             "dtype": "i4"
            },
            "sizemode": "area",
            "sizeref": 5018178.29,
            "symbol": "circle"
           },
           "mode": "markers",
           "name": "Canada",
           "scene": "scene",
           "showlegend": true,
           "type": "scatter3d",
           "x": {
            "bdata": "kdIeRA==",
            "dtype": "i4"
           },
           "y": [
            19487658658313
           ],
           "z": {
            "bdata": "FK5H4XokUkA=",
            "dtype": "f8"
           }
          },
          {
           "hovertemplate": "<b>%{hovertext}</b><br><br>Country=Australia<br>Year=2002<br>Population=%{marker.size}<br>GDP=%{y}<br>LifeExpectancy=%{z}<extra></extra>",
           "hovertext": [
            "Australia"
           ],
           "ids": [
            "Australia"
           ],
           "legendgroup": "Australia",
           "marker": {
            "color": "#FECB52",
            "size": {
             "bdata": "KMM0Ng==",
             "dtype": "i4"
            },
            "sizemode": "area",
            "sizeref": 5018178.29,
            "symbol": "circle"
           },
           "mode": "markers",
           "name": "Australia",
           "scene": "scene",
           "showlegend": true,
           "type": "scatter3d",
           "x": {
            "bdata": "KMM0Ng==",
            "dtype": "i4"
           },
           "y": [
            14347119517469
           ],
           "z": {
            "bdata": "mpmZmZlZT0A=",
            "dtype": "f8"
           }
          }
         ],
         "name": "2002"
        },
        {
         "data": [
          {
           "hovertemplate": "<b>%{hovertext}</b><br><br>Country=USA<br>Year=2003<br>Population=%{marker.size}<br>GDP=%{y}<br>LifeExpectancy=%{z}<extra></extra>",
           "hovertext": [
            "USA"
           ],
           "ids": [
            "USA"
           ],
           "legendgroup": "USA",
           "marker": {
            "color": "#636efa",
            "size": {
             "bdata": "zmyYUA==",
             "dtype": "i4"
            },
            "sizemode": "area",
            "sizeref": 5018178.29,
            "symbol": "circle"
           },
           "mode": "markers",
           "name": "USA",
           "scene": "scene",
           "showlegend": true,
           "type": "scatter3d",
           "x": {
            "bdata": "zmyYUA==",
            "dtype": "i4"
           },
           "y": [
            4102626826157
           ],
           "z": {
            "bdata": "UrgehevBUkA=",
            "dtype": "f8"
           }
          },
          {
           "hovertemplate": "<b>%{hovertext}</b><br><br>Country=China<br>Year=2003<br>Population=%{marker.size}<br>GDP=%{y}<br>LifeExpectancy=%{z}<extra></extra>",
           "hovertext": [
            "China"
           ],
           "ids": [
            "China"
           ],
           "legendgroup": "China",
           "marker": {
            "color": "#EF553B",
            "size": {
             "bdata": "eUBSJg==",
             "dtype": "i4"
            },
            "sizemode": "area",
            "sizeref": 5018178.29,
            "symbol": "circle"
           },
           "mode": "markers",
           "name": "China",
           "scene": "scene",
           "showlegend": true,
           "type": "scatter3d",
           "x": {
            "bdata": "eUBSJg==",
            "dtype": "i4"
           },
           "y": [
            19285967074420
           ],
           "z": {
            "bdata": "rkfhehSOTkA=",
            "dtype": "f8"
           }
          },
          {
           "hovertemplate": "<b>%{hovertext}</b><br><br>Country=India<br>Year=2003<br>Population=%{marker.size}<br>GDP=%{y}<br>LifeExpectancy=%{z}<extra></extra>",
           "hovertext": [
            "India"
           ],
           "ids": [
            "India"
           ],
           "legendgroup": "India",
           "marker": {
            "color": "#00cc96",
            "size": {
             "bdata": "YSO7Rg==",
             "dtype": "i4"
            },
            "sizemode": "area",
            "sizeref": 5018178.29,
            "symbol": "circle"
           },
           "mode": "markers",
           "name": "India",
           "scene": "scene",
           "showlegend": true,
           "type": "scatter3d",
           "x": {
            "bdata": "YSO7Rg==",
            "dtype": "i4"
           },
           "y": [
            9717964707541
           ],
           "z": {
            "bdata": "FK5H4XrEUEA=",
            "dtype": "f8"
           }
          },
          {
           "hovertemplate": "<b>%{hovertext}</b><br><br>Country=Germany<br>Year=2003<br>Population=%{marker.size}<br>GDP=%{y}<br>LifeExpectancy=%{z}<extra></extra>",
           "hovertext": [
            "Germany"
           ],
           "ids": [
            "Germany"
           ],
           "legendgroup": "Germany",
           "marker": {
            "color": "#ab63fa",
            "size": {
             "bdata": "V33wSg==",
             "dtype": "i4"
            },
            "sizemode": "area",
            "sizeref": 5018178.29,
            "symbol": "circle"
           },
           "mode": "markers",
           "name": "Germany",
           "scene": "scene",
           "showlegend": true,
           "type": "scatter3d",
           "x": {
            "bdata": "V33wSg==",
            "dtype": "i4"
           },
           "y": [
            8153446728876
           ],
           "z": {
            "bdata": "exSuR+GKU0A=",
            "dtype": "f8"
           }
          },
          {
           "hovertemplate": "<b>%{hovertext}</b><br><br>Country=UK<br>Year=2003<br>Population=%{marker.size}<br>GDP=%{y}<br>LifeExpectancy=%{z}<extra></extra>",
           "hovertext": [
            "UK"
           ],
           "ids": [
            "UK"
           ],
           "legendgroup": "UK",
           "marker": {
            "color": "#FFA15A",
            "size": {
             "bdata": "LAF6Vw==",
             "dtype": "i4"
            },
            "sizemode": "area",
            "sizeref": 5018178.29,
            "symbol": "circle"
           },
           "mode": "markers",
           "name": "UK",
           "scene": "scene",
           "showlegend": true,
           "type": "scatter3d",
           "x": {
            "bdata": "LAF6Vw==",
            "dtype": "i4"
           },
           "y": [
            3898649092588
           ],
           "z": {
            "bdata": "w/UoXI+yUkA=",
            "dtype": "f8"
           }
          },
          {
           "hovertemplate": "<b>%{hovertext}</b><br><br>Country=France<br>Year=2003<br>Population=%{marker.size}<br>GDP=%{y}<br>LifeExpectancy=%{z}<extra></extra>",
           "hovertext": [
            "France"
           ],
           "ids": [
            "France"
           ],
           "legendgroup": "France",
           "marker": {
            "color": "#19d3f3",
            "size": {
             "bdata": "sA6mKg==",
             "dtype": "i4"
            },
            "sizemode": "area",
            "sizeref": 5018178.29,
            "symbol": "circle"
           },
           "mode": "markers",
           "name": "France",
           "scene": "scene",
           "showlegend": true,
           "type": "scatter3d",
           "x": {
            "bdata": "sA6mKg==",
            "dtype": "i4"
           },
           "y": [
            13063199384965
           ],
           "z": {
            "bdata": "XI/C9Sh8T0A=",
            "dtype": "f8"
           }
          },
          {
           "hovertemplate": "<b>%{hovertext}</b><br><br>Country=Brazil<br>Year=2003<br>Population=%{marker.size}<br>GDP=%{y}<br>LifeExpectancy=%{z}<extra></extra>",
           "hovertext": [
            "Brazil"
           ],
           "ids": [
            "Brazil"
           ],
           "legendgroup": "Brazil",
           "marker": {
            "color": "#FF6692",
            "size": {
             "bdata": "0dlLMA==",
             "dtype": "i4"
            },
            "sizemode": "area",
            "sizeref": 5018178.29,
            "symbol": "circle"
           },
           "mode": "markers",
           "name": "Brazil",
           "scene": "scene",
           "showlegend": true,
           "type": "scatter3d",
           "x": {
            "bdata": "0dlLMA==",
            "dtype": "i4"
           },
           "y": [
            6494103353030
           ],
           "z": {
            "bdata": "zczMzMycU0A=",
            "dtype": "f8"
           }
          },
          {
           "hovertemplate": "<b>%{hovertext}</b><br><br>Country=Japan<br>Year=2003<br>Population=%{marker.size}<br>GDP=%{y}<br>LifeExpectancy=%{z}<extra></extra>",
           "hovertext": [
            "Japan"
           ],
           "ids": [
            "Japan"
           ],
           "legendgroup": "Japan",
           "marker": {
            "color": "#B6E880",
            "size": {
             "bdata": "i+OZUQ==",
             "dtype": "i4"
            },
            "sizemode": "area",
            "sizeref": 5018178.29,
            "symbol": "circle"
           },
           "mode": "markers",
           "name": "Japan",
           "scene": "scene",
           "showlegend": true,
           "type": "scatter3d",
           "x": {
            "bdata": "i+OZUQ==",
            "dtype": "i4"
           },
           "y": [
            17318325900457
           ],
           "z": {
            "bdata": "j8L1KFwPVEA=",
            "dtype": "f8"
           }
          },
          {
           "hovertemplate": "<b>%{hovertext}</b><br><br>Country=Canada<br>Year=2003<br>Population=%{marker.size}<br>GDP=%{y}<br>LifeExpectancy=%{z}<extra></extra>",
           "hovertext": [
            "Canada"
           ],
           "ids": [
            "Canada"
           ],
           "legendgroup": "Canada",
           "marker": {
            "color": "#FF97FF",
            "size": {
             "bdata": "z9YDRg==",
             "dtype": "i4"
            },
            "sizemode": "area",
            "sizeref": 5018178.29,
            "symbol": "circle"
           },
           "mode": "markers",
           "name": "Canada",
           "scene": "scene",
           "showlegend": true,
           "type": "scatter3d",
           "x": {
            "bdata": "z9YDRg==",
            "dtype": "i4"
           },
           "y": [
            19944799911486
           ],
           "z": {
            "bdata": "hetRuB41UkA=",
            "dtype": "f8"
           }
          },
          {
           "hovertemplate": "<b>%{hovertext}</b><br><br>Country=Australia<br>Year=2003<br>Population=%{marker.size}<br>GDP=%{y}<br>LifeExpectancy=%{z}<extra></extra>",
           "hovertext": [
            "Australia"
           ],
           "ids": [
            "Australia"
           ],
           "legendgroup": "Australia",
           "marker": {
            "color": "#FECB52",
            "size": {
             "bdata": "ULtbOA==",
             "dtype": "i4"
            },
            "sizemode": "area",
            "sizeref": 5018178.29,
            "symbol": "circle"
           },
           "mode": "markers",
           "name": "Australia",
           "scene": "scene",
           "showlegend": true,
           "type": "scatter3d",
           "x": {
            "bdata": "ULtbOA==",
            "dtype": "i4"
           },
           "y": [
            14421626042923
           ],
           "z": {
            "bdata": "exSuR+GaT0A=",
            "dtype": "f8"
           }
          }
         ],
         "name": "2003"
        },
        {
         "data": [
          {
           "hovertemplate": "<b>%{hovertext}</b><br><br>Country=USA<br>Year=2004<br>Population=%{marker.size}<br>GDP=%{y}<br>LifeExpectancy=%{z}<extra></extra>",
           "hovertext": [
            "USA"
           ],
           "ids": [
            "USA"
           ],
           "legendgroup": "USA",
           "marker": {
            "color": "#636efa",
            "size": {
             "bdata": "izPpTg==",
             "dtype": "i4"
            },
            "sizemode": "area",
            "sizeref": 5018178.29,
            "symbol": "circle"
           },
           "mode": "markers",
           "name": "USA",
           "scene": "scene",
           "showlegend": true,
           "type": "scatter3d",
           "x": {
            "bdata": "izPpTg==",
            "dtype": "i4"
           },
           "y": [
            4256241754841
           ],
           "z": {
            "bdata": "FK5H4XrkUkA=",
            "dtype": "f8"
           }
          },
          {
           "hovertemplate": "<b>%{hovertext}</b><br><br>Country=China<br>Year=2004<br>Population=%{marker.size}<br>GDP=%{y}<br>LifeExpectancy=%{z}<extra></extra>",
           "hovertext": [
            "China"
           ],
           "ids": [
            "China"
           ],
           "legendgroup": "China",
           "marker": {
            "color": "#EF553B",
            "size": {
             "bdata": "9PVsJg==",
             "dtype": "i4"
            },
            "sizemode": "area",
            "sizeref": 5018178.29,
            "symbol": "circle"
           },
           "mode": "markers",
           "name": "China",
           "scene": "scene",
           "showlegend": true,
           "type": "scatter3d",
           "x": {
            "bdata": "9PVsJg==",
            "dtype": "i4"
           },
           "y": [
            18370108280069
           ],
           "z": {
            "bdata": "FK5H4Xp0TkA=",
            "dtype": "f8"
           }
          },
          {
           "hovertemplate": "<b>%{hovertext}</b><br><br>Country=India<br>Year=2004<br>Population=%{marker.size}<br>GDP=%{y}<br>LifeExpectancy=%{z}<extra></extra>",
           "hovertext": [
            "India"
           ],
           "ids": [
            "India"
           ],
           "legendgroup": "India",
           "marker": {
            "color": "#00cc96",
            "size": {
             "bdata": "/4wvRw==",
             "dtype": "i4"
            },
            "sizemode": "area",
            "sizeref": 5018178.29,
            "symbol": "circle"
           },
           "mode": "markers",
           "name": "India",
           "scene": "scene",
           "showlegend": true,
           "type": "scatter3d",
           "x": {
            "bdata": "/4wvRw==",
            "dtype": "i4"
           },
           "y": [
            9709633440422
           ],
           "z": {
            "bdata": "zczMzMzsUEA=",
            "dtype": "f8"
           }
          },
          {
           "hovertemplate": "<b>%{hovertext}</b><br><br>Country=Germany<br>Year=2004<br>Population=%{marker.size}<br>GDP=%{y}<br>LifeExpectancy=%{z}<extra></extra>",
           "hovertext": [
            "Germany"
           ],
           "ids": [
            "Germany"
           ],
           "legendgroup": "Germany",
           "marker": {
            "color": "#ab63fa",
            "size": {
             "bdata": "ECF6Sg==",
             "dtype": "i4"
            },
            "sizemode": "area",
            "sizeref": 5018178.29,
            "symbol": "circle"
           },
           "mode": "markers",
           "name": "Germany",
           "scene": "scene",
           "showlegend": true,
           "type": "scatter3d",
           "x": {
            "bdata": "ECF6Sg==",
            "dtype": "i4"
           },
           "y": [
            8012967280712
           ],
           "z": {
            "bdata": "XI/C9Sh8U0A=",
            "dtype": "f8"
           }
          },
          {
           "hovertemplate": "<b>%{hovertext}</b><br><br>Country=UK<br>Year=2004<br>Population=%{marker.size}<br>GDP=%{y}<br>LifeExpectancy=%{z}<extra></extra>",
           "hovertext": [
            "UK"
           ],
           "ids": [
            "UK"
           ],
           "legendgroup": "UK",
           "marker": {
            "color": "#FFA15A",
            "size": {
             "bdata": "iMTyWA==",
             "dtype": "i4"
            },
            "sizemode": "area",
            "sizeref": 5018178.29,
            "symbol": "circle"
           },
           "mode": "markers",
           "name": "UK",
           "scene": "scene",
           "showlegend": true,
           "type": "scatter3d",
           "x": {
            "bdata": "iMTyWA==",
            "dtype": "i4"
           },
           "y": [
            4166114340099
           ],
           "z": {
            "bdata": "KVyPwvWoUkA=",
            "dtype": "f8"
           }
          },
          {
           "hovertemplate": "<b>%{hovertext}</b><br><br>Country=France<br>Year=2004<br>Population=%{marker.size}<br>GDP=%{y}<br>LifeExpectancy=%{z}<extra></extra>",
           "hovertext": [
            "France"
           ],
           "ids": [
            "France"
           ],
           "legendgroup": "France",
           "marker": {
            "color": "#19d3f3",
            "size": {
             "bdata": "HR+oKw==",
             "dtype": "i4"
            },
            "sizemode": "area",
            "sizeref": 5018178.29,
            "symbol": "circle"
           },
           "mode": "markers",
           "name": "France",
           "scene": "scene",
           "showlegend": true,
           "type": "scatter3d",
           "x": {
            "bdata": "HR+oKw==",
            "dtype": "i4"
           },
           "y": [
            12935433351668
           ],
           "z": {
            "bdata": "mpmZmZl5T0A=",
            "dtype": "f8"
           }
          },
          {
           "hovertemplate": "<b>%{hovertext}</b><br><br>Country=Brazil<br>Year=2004<br>Population=%{marker.size}<br>GDP=%{y}<br>LifeExpectancy=%{z}<extra></extra>",
           "hovertext": [
            "Brazil"
           ],
           "ids": [
            "Brazil"
           ],
           "legendgroup": "Brazil",
           "marker": {
            "color": "#FF6692",
            "size": {
             "bdata": "auSDMQ==",
             "dtype": "i4"
            },
            "sizemode": "area",
            "sizeref": 5018178.29,
            "symbol": "circle"
           },
           "mode": "markers",
           "name": "Brazil",
           "scene": "scene",
           "showlegend": true,
           "type": "scatter3d",
           "x": {
            "bdata": "auSDMQ==",
            "dtype": "i4"
           },
           "y": [
            7046183364832
           ],
           "z": {
            "bdata": "rkfhehTOU0A=",
            "dtype": "f8"
           }
          },
          {
           "hovertemplate": "<b>%{hovertext}</b><br><br>Country=Japan<br>Year=2004<br>Population=%{marker.size}<br>GDP=%{y}<br>LifeExpectancy=%{z}<extra></extra>",
           "hovertext": [
            "Japan"
           ],
           "ids": [
            "Japan"
           ],
           "legendgroup": "Japan",
           "marker": {
            "color": "#B6E880",
            "size": {
             "bdata": "+wVRUg==",
             "dtype": "i4"
            },
            "sizemode": "area",
            "sizeref": 5018178.29,
            "symbol": "circle"
           },
           "mode": "markers",
           "name": "Japan",
           "scene": "scene",
           "showlegend": true,
           "type": "scatter3d",
           "x": {
            "bdata": "+wVRUg==",
            "dtype": "i4"
           },
           "y": [
            18847211414752
           ],
           "z": {
            "bdata": "4XoUrkfxU0A=",
            "dtype": "f8"
           }
          },
          {
           "hovertemplate": "<b>%{hovertext}</b><br><br>Country=Canada<br>Year=2004<br>Population=%{marker.size}<br>GDP=%{y}<br>LifeExpectancy=%{z}<extra></extra>",
           "hovertext": [
            "Canada"
           ],
           "ids": [
            "Canada"
           ],
           "legendgroup": "Canada",
           "marker": {
            "color": "#FF97FF",
            "size": {
             "bdata": "8udcRw==",
             "dtype": "i4"
            },
            "sizemode": "area",
            "sizeref": 5018178.29,
            "symbol": "circle"
           },
           "mode": "markers",
           "name": "Canada",
           "scene": "scene",
           "showlegend": true,
           "type": "scatter3d",
           "x": {
            "bdata": "8udcRw==",
            "dtype": "i4"
           },
           "y": [
            20320974093914
           ],
           "z": {
            "bdata": "FK5H4XokUkA=",
            "dtype": "f8"
           }
          },
          {
           "hovertemplate": "<b>%{hovertext}</b><br><br>Country=Australia<br>Year=2004<br>Population=%{marker.size}<br>GDP=%{y}<br>LifeExpectancy=%{z}<extra></extra>",
           "hovertext": [
            "Australia"
           ],
           "ids": [
            "Australia"
           ],
           "legendgroup": "Australia",
           "marker": {
            "color": "#FECB52",
            "size": {
             "bdata": "RynGOQ==",
             "dtype": "i4"
            },
            "sizemode": "area",
            "sizeref": 5018178.29,
            "symbol": "circle"
           },
           "mode": "markers",
           "name": "Australia",
           "scene": "scene",
           "showlegend": true,
           "type": "scatter3d",
           "x": {
            "bdata": "RynGOQ==",
            "dtype": "i4"
           },
           "y": [
            15544684221904
           ],
           "z": {
            "bdata": "4XoUrkfhT0A=",
            "dtype": "f8"
           }
          }
         ],
         "name": "2004"
        },
        {
         "data": [
          {
           "hovertemplate": "<b>%{hovertext}</b><br><br>Country=USA<br>Year=2005<br>Population=%{marker.size}<br>GDP=%{y}<br>LifeExpectancy=%{z}<extra></extra>",
           "hovertext": [
            "USA"
           ],
           "ids": [
            "USA"
           ],
           "legendgroup": "USA",
           "marker": {
            "color": "#636efa",
            "size": {
             "bdata": "0yMBUQ==",
             "dtype": "i4"
            },
            "sizemode": "area",
            "sizeref": 5018178.29,
            "symbol": "circle"
           },
           "mode": "markers",
           "name": "USA",
           "scene": "scene",
           "showlegend": true,
           "type": "scatter3d",
           "x": {
            "bdata": "0yMBUQ==",
            "dtype": "i4"
           },
           "y": [
            4371912710194
           ],
           "z": {
            "bdata": "XI/C9Sj8UkA=",
            "dtype": "f8"
           }
          },
          {
           "hovertemplate": "<b>%{hovertext}</b><br><br>Country=China<br>Year=2005<br>Population=%{marker.size}<br>GDP=%{y}<br>LifeExpectancy=%{z}<extra></extra>",
           "hovertext": [
            "China"
           ],
           "ids": [
            "China"
           ],
           "legendgroup": "China",
           "marker": {
            "color": "#EF553B",
            "size": {
             "bdata": "cGGDJw==",
             "dtype": "i4"
            },
            "sizemode": "area",
            "sizeref": 5018178.29,
            "symbol": "circle"
           },
           "mode": "markers",
           "name": "China",
           "scene": "scene",
           "showlegend": true,
           "type": "scatter3d",
           "x": {
            "bdata": "cGGDJw==",
            "dtype": "i4"
           },
           "y": [
            20415644555731
           ],
           "z": {
            "bdata": "CtejcD2qTkA=",
            "dtype": "f8"
           }
          },
          {
           "hovertemplate": "<b>%{hovertext}</b><br><br>Country=India<br>Year=2005<br>Population=%{marker.size}<br>GDP=%{y}<br>LifeExpectancy=%{z}<extra></extra>",
           "hovertext": [
            "India"
           ],
           "ids": [
            "India"
           ],
           "legendgroup": "India",
           "marker": {
            "color": "#00cc96",
            "size": {
             "bdata": "mUCbSA==",
             "dtype": "i4"
            },
            "sizemode": "area",
            "sizeref": 5018178.29,
            "symbol": "circle"
           },
           "mode": "markers",
           "name": "India",
           "scene": "scene",
           "showlegend": true,
           "type": "scatter3d",
           "x": {
            "bdata": "mUCbSA==",
            "dtype": "i4"
           },
           "y": [
            9791705191874
           ],
           "z": {
            "bdata": "zczMzMzcUEA=",
            "dtype": "f8"
           }
          },
          {
           "hovertemplate": "<b>%{hovertext}</b><br><br>Country=Germany<br>Year=2005<br>Population=%{marker.size}<br>GDP=%{y}<br>LifeExpectancy=%{z}<extra></extra>",
           "hovertext": [
            "Germany"
           ],
           "ids": [
            "Germany"
           ],
           "legendgroup": "Germany",
           "marker": {
            "color": "#ab63fa",
            "size": {
             "bdata": "puoPSw==",
             "dtype": "i4"
            },
            "sizemode": "area",
            "sizeref": 5018178.29,
            "symbol": "circle"
           },
           "mode": "markers",
           "name": "Germany",
           "scene": "scene",
           "showlegend": true,
           "type": "scatter3d",
           "x": {
            "bdata": "puoPSw==",
            "dtype": "i4"
           },
           "y": [
            8604986985959
           ],
           "z": {
            "bdata": "pHA9CtejU0A=",
            "dtype": "f8"
           }
          },
          {
           "hovertemplate": "<b>%{hovertext}</b><br><br>Country=UK<br>Year=2005<br>Population=%{marker.size}<br>GDP=%{y}<br>LifeExpectancy=%{z}<extra></extra>",
           "hovertext": [
            "UK"
           ],
           "ids": [
            "UK"
           ],
           "legendgroup": "UK",
           "marker": {
            "color": "#FFA15A",
            "size": {
             "bdata": "MKOvVw==",
             "dtype": "i4"
            },
            "sizemode": "area",
            "sizeref": 5018178.29,
            "symbol": "circle"
           },
           "mode": "markers",
           "name": "UK",
           "scene": "scene",
           "showlegend": true,
           "type": "scatter3d",
           "x": {
            "bdata": "MKOvVw==",
            "dtype": "i4"
           },
           "y": [
            3885410682462
           ],
           "z": {
            "bdata": "exSuR+HKUkA=",
            "dtype": "f8"
           }
          },
          {
           "hovertemplate": "<b>%{hovertext}</b><br><br>Country=France<br>Year=2005<br>Population=%{marker.size}<br>GDP=%{y}<br>LifeExpectancy=%{z}<extra></extra>",
           "hovertext": [
            "France"
           ],
           "ids": [
            "France"
           ],
           "legendgroup": "France",
           "marker": {
            "color": "#19d3f3",
            "size": {
             "bdata": "k7tCLA==",
             "dtype": "i4"
            },
            "sizemode": "area",
            "sizeref": 5018178.29,
            "symbol": "circle"
           },
           "mode": "markers",
           "name": "France",
           "scene": "scene",
           "showlegend": true,
           "type": "scatter3d",
           "x": {
            "bdata": "k7tCLA==",
            "dtype": "i4"
           },
           "y": [
            14124277363359
           ],
           "z": {
            "bdata": "exSuR+HaT0A=",
            "dtype": "f8"
           }
          },
          {
           "hovertemplate": "<b>%{hovertext}</b><br><br>Country=Brazil<br>Year=2005<br>Population=%{marker.size}<br>GDP=%{y}<br>LifeExpectancy=%{z}<extra></extra>",
           "hovertext": [
            "Brazil"
           ],
           "ids": [
            "Brazil"
           ],
           "legendgroup": "Brazil",
           "marker": {
            "color": "#FF6692",
            "size": {
             "bdata": "3dqyMg==",
             "dtype": "i4"
            },
            "sizemode": "area",
            "sizeref": 5018178.29,
            "symbol": "circle"
           },
           "mode": "markers",
           "name": "Brazil",
           "scene": "scene",
           "showlegend": true,
           "type": "scatter3d",
           "x": {
            "bdata": "3dqyMg==",
            "dtype": "i4"
           },
           "y": [
            6673429714441
           ],
           "z": {
            "bdata": "hetRuB7FU0A=",
            "dtype": "f8"
           }
          },
          {
           "hovertemplate": "<b>%{hovertext}</b><br><br>Country=Japan<br>Year=2005<br>Population=%{marker.size}<br>GDP=%{y}<br>LifeExpectancy=%{z}<extra></extra>",
           "hovertext": [
            "Japan"
           ],
           "ids": [
            "Japan"
           ],
           "legendgroup": "Japan",
           "marker": {
            "color": "#B6E880",
            "size": {
             "bdata": "ye6XUQ==",
             "dtype": "i4"
            },
            "sizemode": "area",
            "sizeref": 5018178.29,
            "symbol": "circle"
           },
           "mode": "markers",
           "name": "Japan",
           "scene": "scene",
           "showlegend": true,
           "type": "scatter3d",
           "x": {
            "bdata": "ye6XUQ==",
            "dtype": "i4"
           },
           "y": [
            19873322267531
           ],
           "z": {
            "bdata": "rkfhehROVEA=",
            "dtype": "f8"
           }
          },
          {
           "hovertemplate": "<b>%{hovertext}</b><br><br>Country=Canada<br>Year=2005<br>Population=%{marker.size}<br>GDP=%{y}<br>LifeExpectancy=%{z}<extra></extra>",
           "hovertext": [
            "Canada"
           ],
           "ids": [
            "Canada"
           ],
           "legendgroup": "Canada",
           "marker": {
            "color": "#FF97FF",
            "size": {
             "bdata": "mGs7RA==",
             "dtype": "i4"
            },
            "sizemode": "area",
            "sizeref": 5018178.29,
            "symbol": "circle"
           },
           "mode": "markers",
           "name": "Canada",
           "scene": "scene",
           "showlegend": true,
           "type": "scatter3d",
           "x": {
            "bdata": "mGs7RA==",
            "dtype": "i4"
           },
           "y": [
            22067400287366
           ],
           "z": {
            "bdata": "KVyPwvVYUkA=",
            "dtype": "f8"
           }
          },
          {
           "hovertemplate": "<b>%{hovertext}</b><br><br>Country=Australia<br>Year=2005<br>Population=%{marker.size}<br>GDP=%{y}<br>LifeExpectancy=%{z}<extra></extra>",
           "hovertext": [
            "Australia"
           ],
           "ids": [
            "Australia"
           ],
           "legendgroup": "Australia",
           "marker": {
            "color": "#FECB52",
            "size": {
             "bdata": "Wvm8Nw==",
             "dtype": "i4"
            },
            "sizemode": "area",
            "sizeref": 5018178.29,
            "symbol": "circle"
           },
           "mode": "markers",
           "name": "Australia",
           "scene": "scene",
           "showlegend": true,
           "type": "scatter3d",
           "x": {
            "bdata": "Wvm8Nw==",
            "dtype": "i4"
           },
           "y": [
            16633412578038
           ],
           "z": {
            "bdata": "SOF6FK7HT0A=",
            "dtype": "f8"
           }
          }
         ],
         "name": "2005"
        },
        {
         "data": [
          {
           "hovertemplate": "<b>%{hovertext}</b><br><br>Country=USA<br>Year=2006<br>Population=%{marker.size}<br>GDP=%{y}<br>LifeExpectancy=%{z}<extra></extra>",
           "hovertext": [
            "USA"
           ],
           "ids": [
            "USA"
           ],
           "legendgroup": "USA",
           "marker": {
            "color": "#636efa",
            "size": {
             "bdata": "SEHTTw==",
             "dtype": "i4"
            },
            "sizemode": "area",
            "sizeref": 5018178.29,
            "symbol": "circle"
           },
           "mode": "markers",
           "name": "USA",
           "scene": "scene",
           "showlegend": true,
           "type": "scatter3d",
           "x": {
            "bdata": "SEHTTw==",
            "dtype": "i4"
           },
           "y": [
            4498268317931
           ],
           "z": {
            "bdata": "AAAAAADwUkA=",
            "dtype": "f8"
           }
          },
          {
           "hovertemplate": "<b>%{hovertext}</b><br><br>Country=China<br>Year=2006<br>Population=%{marker.size}<br>GDP=%{y}<br>LifeExpectancy=%{z}<extra></extra>",
           "hovertext": [
            "China"
           ],
           "ids": [
            "China"
           ],
           "legendgroup": "China",
           "marker": {
            "color": "#EF553B",
            "size": {
             "bdata": "ONO5Jg==",
             "dtype": "i4"
            },
            "sizemode": "area",
            "sizeref": 5018178.29,
            "symbol": "circle"
           },
           "mode": "markers",
           "name": "China",
           "scene": "scene",
           "showlegend": true,
           "type": "scatter3d",
           "x": {
            "bdata": "ONO5Jg==",
            "dtype": "i4"
           },
           "y": [
            20850030958817
           ],
           "z": {
            "bdata": "PQrXo3CdTkA=",
            "dtype": "f8"
           }
          },
          {
           "hovertemplate": "<b>%{hovertext}</b><br><br>Country=India<br>Year=2006<br>Population=%{marker.size}<br>GDP=%{y}<br>LifeExpectancy=%{z}<extra></extra>",
           "hovertext": [
            "India"
           ],
           "ids": [
            "India"
           ],
           "legendgroup": "India",
           "marker": {
            "color": "#00cc96",
            "size": {
             "bdata": "Jzc+Tg==",
             "dtype": "i4"
            },
            "sizemode": "area",
            "sizeref": 5018178.29,
            "symbol": "circle"
           },
           "mode": "markers",
           "name": "India",
           "scene": "scene",
           "showlegend": true,
           "type": "scatter3d",
           "x": {
            "bdata": "Jzc+Tg==",
            "dtype": "i4"
           },
           "y": [
            10202571055592
           ],
           "z": {
            "bdata": "zczMzMz8UEA=",
            "dtype": "f8"
           }
          },
          {
           "hovertemplate": "<b>%{hovertext}</b><br><br>Country=Germany<br>Year=2006<br>Population=%{marker.size}<br>GDP=%{y}<br>LifeExpectancy=%{z}<extra></extra>",
           "hovertext": [
            "Germany"
           ],
           "ids": [
            "Germany"
           ],
           "legendgroup": "Germany",
           "marker": {
            "color": "#ab63fa",
            "size": {
             "bdata": "3TZgTw==",
             "dtype": "i4"
            },
            "sizemode": "area",
            "sizeref": 5018178.29,
            "symbol": "circle"
           },
           "mode": "markers",
           "name": "Germany",
           "scene": "scene",
           "showlegend": true,
           "type": "scatter3d",
           "x": {
            "bdata": "3TZgTw==",
            "dtype": "i4"
           },
           "y": [
            8781606016541
           ],
           "z": {
            "bdata": "AAAAAACgU0A=",
            "dtype": "f8"
           }
          },
          {
           "hovertemplate": "<b>%{hovertext}</b><br><br>Country=UK<br>Year=2006<br>Population=%{marker.size}<br>GDP=%{y}<br>LifeExpectancy=%{z}<extra></extra>",
           "hovertext": [
            "UK"
           ],
           "ids": [
            "UK"
           ],
           "legendgroup": "UK",
           "marker": {
            "color": "#FFA15A",
            "size": {
             "bdata": "+cH4VQ==",
             "dtype": "i4"
            },
            "sizemode": "area",
            "sizeref": 5018178.29,
            "symbol": "circle"
           },
           "mode": "markers",
           "name": "UK",
           "scene": "scene",
           "showlegend": true,
           "type": "scatter3d",
           "x": {
            "bdata": "+cH4VQ==",
            "dtype": "i4"
           },
           "y": [
            4241158090570
           ],
           "z": {
            "bdata": "16NwPQrXUkA=",
            "dtype": "f8"
           }
          },
          {
           "hovertemplate": "<b>%{hovertext}</b><br><br>Country=France<br>Year=2006<br>Population=%{marker.size}<br>GDP=%{y}<br>LifeExpectancy=%{z}<extra></extra>",
           "hovertext": [
            "France"
           ],
           "ids": [
            "France"
           ],
           "legendgroup": "France",
           "marker": {
            "color": "#19d3f3",
            "size": {
             "bdata": "EUgHLQ==",
             "dtype": "i4"
            },
            "sizemode": "area",
            "sizeref": 5018178.29,
            "symbol": "circle"
           },
           "mode": "markers",
           "name": "France",
           "scene": "scene",
           "showlegend": true,
           "type": "scatter3d",
           "x": {
            "bdata": "EUgHLQ==",
            "dtype": "i4"
           },
           "y": [
            13776079168472
           ],
           "z": {
            "bdata": "ZmZmZmZmT0A=",
            "dtype": "f8"
           }
          },
          {
           "hovertemplate": "<b>%{hovertext}</b><br><br>Country=Brazil<br>Year=2006<br>Population=%{marker.size}<br>GDP=%{y}<br>LifeExpectancy=%{z}<extra></extra>",
           "hovertext": [
            "Brazil"
           ],
           "ids": [
            "Brazil"
           ],
           "legendgroup": "Brazil",
           "marker": {
            "color": "#FF6692",
            "size": {
             "bdata": "Ph1NMA==",
             "dtype": "i4"
            },
            "sizemode": "area",
            "sizeref": 5018178.29,
            "symbol": "circle"
           },
           "mode": "markers",
           "name": "Brazil",
           "scene": "scene",
           "showlegend": true,
           "type": "scatter3d",
           "x": {
            "bdata": "Ph1NMA==",
            "dtype": "i4"
           },
           "y": [
            7394542209629
           ],
           "z": {
            "bdata": "PQrXo3DNU0A=",
            "dtype": "f8"
           }
          },
          {
           "hovertemplate": "<b>%{hovertext}</b><br><br>Country=Japan<br>Year=2006<br>Population=%{marker.size}<br>GDP=%{y}<br>LifeExpectancy=%{z}<extra></extra>",
           "hovertext": [
            "Japan"
           ],
           "ids": [
            "Japan"
           ],
           "legendgroup": "Japan",
           "marker": {
            "color": "#B6E880",
            "size": {
             "bdata": "mfOiUw==",
             "dtype": "i4"
            },
            "sizemode": "area",
            "sizeref": 5018178.29,
            "symbol": "circle"
           },
           "mode": "markers",
           "name": "Japan",
           "scene": "scene",
           "showlegend": true,
           "type": "scatter3d",
           "x": {
            "bdata": "mfOiUw==",
            "dtype": "i4"
           },
           "y": [
            19683513631140
           ],
           "z": {
            "bdata": "CtejcD0aVEA=",
            "dtype": "f8"
           }
          },
          {
           "hovertemplate": "<b>%{hovertext}</b><br><br>Country=Canada<br>Year=2006<br>Population=%{marker.size}<br>GDP=%{y}<br>LifeExpectancy=%{z}<extra></extra>",
           "hovertext": [
            "Canada"
           ],
           "ids": [
            "Canada"
           ],
           "legendgroup": "Canada",
           "marker": {
            "color": "#FF97FF",
            "size": {
             "bdata": "HgPbSA==",
             "dtype": "i4"
            },
            "sizemode": "area",
            "sizeref": 5018178.29,
            "symbol": "circle"
           },
           "mode": "markers",
           "name": "Canada",
           "scene": "scene",
           "showlegend": true,
           "type": "scatter3d",
           "x": {
            "bdata": "HgPbSA==",
            "dtype": "i4"
           },
           "y": [
            20937344671716
           ],
           "z": {
            "bdata": "w/UoXI8yUkA=",
            "dtype": "f8"
           }
          },
          {
           "hovertemplate": "<b>%{hovertext}</b><br><br>Country=Australia<br>Year=2006<br>Population=%{marker.size}<br>GDP=%{y}<br>LifeExpectancy=%{z}<extra></extra>",
           "hovertext": [
            "Australia"
           ],
           "ids": [
            "Australia"
           ],
           "legendgroup": "Australia",
           "marker": {
            "color": "#FECB52",
            "size": {
             "bdata": "7TywOg==",
             "dtype": "i4"
            },
            "sizemode": "area",
            "sizeref": 5018178.29,
            "symbol": "circle"
           },
           "mode": "markers",
           "name": "Australia",
           "scene": "scene",
           "showlegend": true,
           "type": "scatter3d",
           "x": {
            "bdata": "7TywOg==",
            "dtype": "i4"
           },
           "y": [
            15358667675986
           ],
           "z": {
            "bdata": "9ihcj8KVT0A=",
            "dtype": "f8"
           }
          }
         ],
         "name": "2006"
        },
        {
         "data": [
          {
           "hovertemplate": "<b>%{hovertext}</b><br><br>Country=USA<br>Year=2007<br>Population=%{marker.size}<br>GDP=%{y}<br>LifeExpectancy=%{z}<extra></extra>",
           "hovertext": [
            "USA"
           ],
           "ids": [
            "USA"
           ],
           "legendgroup": "USA",
           "marker": {
            "color": "#636efa",
            "size": {
             "bdata": "HScVUw==",
             "dtype": "i4"
            },
            "sizemode": "area",
            "sizeref": 5018178.29,
            "symbol": "circle"
           },
           "mode": "markers",
           "name": "USA",
           "scene": "scene",
           "showlegend": true,
           "type": "scatter3d",
           "x": {
            "bdata": "HScVUw==",
            "dtype": "i4"
           },
           "y": [
            5113969837331
           ],
           "z": {
            "bdata": "hetRuB7lUkA=",
            "dtype": "f8"
           }
          },
          {
           "hovertemplate": "<b>%{hovertext}</b><br><br>Country=China<br>Year=2007<br>Population=%{marker.size}<br>GDP=%{y}<br>LifeExpectancy=%{z}<extra></extra>",
           "hovertext": [
            "China"
           ],
           "ids": [
            "China"
           ],
           "legendgroup": "China",
           "marker": {
            "color": "#EF553B",
            "size": {
             "bdata": "brkAKg==",
             "dtype": "i4"
            },
            "sizemode": "area",
            "sizeref": 5018178.29,
            "symbol": "circle"
           },
           "mode": "markers",
           "name": "China",
           "scene": "scene",
           "showlegend": true,
           "type": "scatter3d",
           "x": {
            "bdata": "brkAKg==",
            "dtype": "i4"
           },
           "y": [
            22909548537763
           ],
           "z": {
            "bdata": "XI/C9Sj8TkA=",
            "dtype": "f8"
           }
          },
          {
           "hovertemplate": "<b>%{hovertext}</b><br><br>Country=India<br>Year=2007<br>Population=%{marker.size}<br>GDP=%{y}<br>LifeExpectancy=%{z}<extra></extra>",
           "hovertext": [
            "India"
           ],
           "ids": [
            "India"
           ],
           "legendgroup": "India",
           "marker": {
            "color": "#00cc96",
            "size": {
             "bdata": "Hvf3TQ==",
             "dtype": "i4"
            },
            "sizemode": "area",
            "sizeref": 5018178.29,
            "symbol": "circle"
           },
           "mode": "markers",
           "name": "India",
           "scene": "scene",
           "showlegend": true,
           "type": "scatter3d",
           "x": {
            "bdata": "Hvf3TQ==",
            "dtype": "i4"
           },
           "y": [
            10471248564986
           ],
           "z": {
            "bdata": "pHA9CtcTUUA=",
            "dtype": "f8"
           }
          },
          {
           "hovertemplate": "<b>%{hovertext}</b><br><br>Country=Germany<br>Year=2007<br>Population=%{marker.size}<br>GDP=%{y}<br>LifeExpectancy=%{z}<extra></extra>",
           "hovertext": [
            "Germany"
           ],
           "ids": [
            "Germany"
           ],
           "legendgroup": "Germany",
           "marker": {
            "color": "#ab63fa",
            "size": {
             "bdata": "1THhTg==",
             "dtype": "i4"
            },
            "sizemode": "area",
            "sizeref": 5018178.29,
            "symbol": "circle"
           },
           "mode": "markers",
           "name": "Germany",
           "scene": "scene",
           "showlegend": true,
           "type": "scatter3d",
           "x": {
            "bdata": "1THhTg==",
            "dtype": "i4"
           },
           "y": [
            9661431718894
           ],
           "z": {
            "bdata": "ZmZmZmaGU0A=",
            "dtype": "f8"
           }
          },
          {
           "hovertemplate": "<b>%{hovertext}</b><br><br>Country=UK<br>Year=2007<br>Population=%{marker.size}<br>GDP=%{y}<br>LifeExpectancy=%{z}<extra></extra>",
           "hovertext": [
            "UK"
           ],
           "ids": [
            "UK"
           ],
           "legendgroup": "UK",
           "marker": {
            "color": "#FFA15A",
            "size": {
             "bdata": "CFG8WA==",
             "dtype": "i4"
            },
            "sizemode": "area",
            "sizeref": 5018178.29,
            "symbol": "circle"
           },
           "mode": "markers",
           "name": "UK",
           "scene": "scene",
           "showlegend": true,
           "type": "scatter3d",
           "x": {
            "bdata": "CFG8WA==",
            "dtype": "i4"
           },
           "y": [
            4497984688132
           ],
           "z": {
            "bdata": "4XoUrkehUkA=",
            "dtype": "f8"
           }
          },
          {
           "hovertemplate": "<b>%{hovertext}</b><br><br>Country=France<br>Year=2007<br>Population=%{marker.size}<br>GDP=%{y}<br>LifeExpectancy=%{z}<extra></extra>",
           "hovertext": [
            "France"
           ],
           "ids": [
            "France"
           ],
           "legendgroup": "France",
           "marker": {
            "color": "#19d3f3",
            "size": {
             "bdata": "4SCfLQ==",
             "dtype": "i4"
            },
            "sizemode": "area",
            "sizeref": 5018178.29,
            "symbol": "circle"
           },
           "mode": "markers",
           "name": "France",
           "scene": "scene",
           "showlegend": true,
           "type": "scatter3d",
           "x": {
            "bdata": "4SCfLQ==",
            "dtype": "i4"
           },
           "y": [
            13728966552118
           ],
           "z": {
            "bdata": "hetRuB7lT0A=",
            "dtype": "f8"
           }
          },
          {
           "hovertemplate": "<b>%{hovertext}</b><br><br>Country=Brazil<br>Year=2007<br>Population=%{marker.size}<br>GDP=%{y}<br>LifeExpectancy=%{z}<extra></extra>",
           "hovertext": [
            "Brazil"
           ],
           "ids": [
            "Brazil"
           ],
           "legendgroup": "Brazil",
           "marker": {
            "color": "#FF6692",
            "size": {
             "bdata": "8En0NA==",
             "dtype": "i4"
            },
            "sizemode": "area",
            "sizeref": 5018178.29,
            "symbol": "circle"
           },
           "mode": "markers",
           "name": "Brazil",
           "scene": "scene",
           "showlegend": true,
           "type": "scatter3d",
           "x": {
            "bdata": "8En0NA==",
            "dtype": "i4"
           },
           "y": [
            7361188490430
           ],
           "z": {
            "bdata": "PQrXo3CtU0A=",
            "dtype": "f8"
           }
          },
          {
           "hovertemplate": "<b>%{hovertext}</b><br><br>Country=Japan<br>Year=2007<br>Population=%{marker.size}<br>GDP=%{y}<br>LifeExpectancy=%{z}<extra></extra>",
           "hovertext": [
            "Japan"
           ],
           "ids": [
            "Japan"
           ],
           "legendgroup": "Japan",
           "marker": {
            "color": "#B6E880",
            "size": {
             "bdata": "AP9NUg==",
             "dtype": "i4"
            },
            "sizemode": "area",
            "sizeref": 5018178.29,
            "symbol": "circle"
           },
           "mode": "markers",
           "name": "Japan",
           "scene": "scene",
           "showlegend": true,
           "type": "scatter3d",
           "x": {
            "bdata": "AP9NUg==",
            "dtype": "i4"
           },
           "y": [
            19805448705012
           ],
           "z": {
            "bdata": "AAAAAAAwVEA=",
            "dtype": "f8"
           }
          },
          {
           "hovertemplate": "<b>%{hovertext}</b><br><br>Country=Canada<br>Year=2007<br>Population=%{marker.size}<br>GDP=%{y}<br>LifeExpectancy=%{z}<extra></extra>",
           "hovertext": [
            "Canada"
           ],
           "ids": [
            "Canada"
           ],
           "legendgroup": "Canada",
           "marker": {
            "color": "#FF97FF",
            "size": {
             "bdata": "MXTfRA==",
             "dtype": "i4"
            },
            "sizemode": "area",
            "sizeref": 5018178.29,
            "symbol": "circle"
           },
           "mode": "markers",
           "name": "Canada",
           "scene": "scene",
           "showlegend": true,
           "type": "scatter3d",
           "x": {
            "bdata": "MXTfRA==",
            "dtype": "i4"
           },
           "y": [
            22102318464275
           ],
           "z": {
            "bdata": "9ihcj8J1UkA=",
            "dtype": "f8"
           }
          },
          {
           "hovertemplate": "<b>%{hovertext}</b><br><br>Country=Australia<br>Year=2007<br>Population=%{marker.size}<br>GDP=%{y}<br>LifeExpectancy=%{z}<extra></extra>",
           "hovertext": [
            "Australia"
           ],
           "ids": [
            "Australia"
           ],
           "legendgroup": "Australia",
           "marker": {
            "color": "#FECB52",
            "size": {
             "bdata": "I9sWOA==",
             "dtype": "i4"
            },
            "sizemode": "area",
            "sizeref": 5018178.29,
            "symbol": "circle"
           },
           "mode": "markers",
           "name": "Australia",
           "scene": "scene",
           "showlegend": true,
           "type": "scatter3d",
           "x": {
            "bdata": "I9sWOA==",
            "dtype": "i4"
           },
           "y": [
            17824177718023
           ],
           "z": {
            "bdata": "4XoUrkchUEA=",
            "dtype": "f8"
           }
          }
         ],
         "name": "2007"
        },
        {
         "data": [
          {
           "hovertemplate": "<b>%{hovertext}</b><br><br>Country=USA<br>Year=2008<br>Population=%{marker.size}<br>GDP=%{y}<br>LifeExpectancy=%{z}<extra></extra>",
           "hovertext": [
            "USA"
           ],
           "ids": [
            "USA"
           ],
           "legendgroup": "USA",
           "marker": {
            "color": "#636efa",
            "size": {
             "bdata": "WeelVA==",
             "dtype": "i4"
            },
            "sizemode": "area",
            "sizeref": 5018178.29,
            "symbol": "circle"
           },
           "mode": "markers",
           "name": "USA",
           "scene": "scene",
           "showlegend": true,
           "type": "scatter3d",
           "x": {
            "bdata": "WeelVA==",
            "dtype": "i4"
           },
           "y": [
            5104662120631
           ],
           "z": {
            "bdata": "ZmZmZmbWUkA=",
            "dtype": "f8"
           }
          },
          {
           "hovertemplate": "<b>%{hovertext}</b><br><br>Country=China<br>Year=2008<br>Population=%{marker.size}<br>GDP=%{y}<br>LifeExpectancy=%{z}<extra></extra>",
           "hovertext": [
            "China"
           ],
           "ids": [
            "China"
           ],
           "legendgroup": "China",
           "marker": {
            "color": "#EF553B",
            "size": {
             "bdata": "gBVBJw==",
             "dtype": "i4"
            },
            "sizemode": "area",
            "sizeref": 5018178.29,
            "symbol": "circle"
           },
           "mode": "markers",
           "name": "China",
           "scene": "scene",
           "showlegend": true,
           "type": "scatter3d",
           "x": {
            "bdata": "gBVBJw==",
            "dtype": "i4"
           },
           "y": [
            20879168026219
           ],
           "z": {
            "bdata": "cT0K16NwTkA=",
            "dtype": "f8"
           }
          },
          {
           "hovertemplate": "<b>%{hovertext}</b><br><br>Country=India<br>Year=2008<br>Population=%{marker.size}<br>GDP=%{y}<br>LifeExpectancy=%{z}<extra></extra>",
           "hovertext": [
            "India"
           ],
           "ids": [
            "India"
           ],
           "legendgroup": "India",
           "marker": {
            "color": "#00cc96",
            "size": {
             "bdata": "J3KjSw==",
             "dtype": "i4"
            },
            "sizemode": "area",
            "sizeref": 5018178.29,
            "symbol": "circle"
           },
           "mode": "markers",
           "name": "India",
           "scene": "scene",
           "showlegend": true,
           "type": "scatter3d",
           "x": {
            "bdata": "J3KjSw==",
            "dtype": "i4"
           },
           "y": [
            11788117544373
           ],
           "z": {
            "bdata": "SOF6FK4XUUA=",
            "dtype": "f8"
           }
          },
          {
           "hovertemplate": "<b>%{hovertext}</b><br><br>Country=Germany<br>Year=2008<br>Population=%{marker.size}<br>GDP=%{y}<br>LifeExpectancy=%{z}<extra></extra>",
           "hovertext": [
            "Germany"
           ],
           "ids": [
            "Germany"
           ],
           "legendgroup": "Germany",
           "marker": {
            "color": "#ab63fa",
            "size": {
             "bdata": "rYWlUA==",
             "dtype": "i4"
            },
            "sizemode": "area",
            "sizeref": 5018178.29,
            "symbol": "circle"
           },
           "mode": "markers",
           "name": "Germany",
           "scene": "scene",
           "showlegend": true,
           "type": "scatter3d",
           "x": {
            "bdata": "rYWlUA==",
            "dtype": "i4"
           },
           "y": [
            10861452470234
           ],
           "z": {
            "bdata": "ZmZmZma2U0A=",
            "dtype": "f8"
           }
          },
          {
           "hovertemplate": "<b>%{hovertext}</b><br><br>Country=UK<br>Year=2008<br>Population=%{marker.size}<br>GDP=%{y}<br>LifeExpectancy=%{z}<extra></extra>",
           "hovertext": [
            "UK"
           ],
           "ids": [
            "UK"
           ],
           "legendgroup": "UK",
           "marker": {
            "color": "#FFA15A",
            "size": {
             "bdata": "X/zwVg==",
             "dtype": "i4"
            },
            "sizemode": "area",
            "sizeref": 5018178.29,
            "symbol": "circle"
           },
           "mode": "markers",
           "name": "UK",
           "scene": "scene",
           "showlegend": true,
           "type": "scatter3d",
           "x": {
            "bdata": "X/zwVg==",
            "dtype": "i4"
           },
           "y": [
            4923814352575
           ],
           "z": {
            "bdata": "mpmZmZnZUkA=",
            "dtype": "f8"
           }
          },
          {
           "hovertemplate": "<b>%{hovertext}</b><br><br>Country=France<br>Year=2008<br>Population=%{marker.size}<br>GDP=%{y}<br>LifeExpectancy=%{z}<extra></extra>",
           "hovertext": [
            "France"
           ],
           "ids": [
            "France"
           ],
           "legendgroup": "France",
           "marker": {
            "color": "#19d3f3",
            "size": {
             "bdata": "1O/xLw==",
             "dtype": "i4"
            },
            "sizemode": "area",
            "sizeref": 5018178.29,
            "symbol": "circle"
           },
           "mode": "markers",
           "name": "France",
           "scene": "scene",
           "showlegend": true,
           "type": "scatter3d",
           "x": {
            "bdata": "1O/xLw==",
            "dtype": "i4"
           },
           "y": [
            15928771930368
           ],
           "z": {
            "bdata": "rkfhehTOT0A=",
            "dtype": "f8"
           }
          },
          {
           "hovertemplate": "<b>%{hovertext}</b><br><br>Country=Brazil<br>Year=2008<br>Population=%{marker.size}<br>GDP=%{y}<br>LifeExpectancy=%{z}<extra></extra>",
           "hovertext": [
            "Brazil"
           ],
           "ids": [
            "Brazil"
           ],
           "legendgroup": "Brazil",
           "marker": {
            "color": "#FF6692",
            "size": {
             "bdata": "OJ9eMQ==",
             "dtype": "i4"
            },
            "sizemode": "area",
            "sizeref": 5018178.29,
            "symbol": "circle"
           },
           "mode": "markers",
           "name": "Brazil",
           "scene": "scene",
           "showlegend": true,
           "type": "scatter3d",
           "x": {
            "bdata": "OJ9eMQ==",
            "dtype": "i4"
           },
           "y": [
            8342383570282
           ],
           "z": {
            "bdata": "ZmZmZmYGVEA=",
            "dtype": "f8"
           }
          },
          {
           "hovertemplate": "<b>%{hovertext}</b><br><br>Country=Japan<br>Year=2008<br>Population=%{marker.size}<br>GDP=%{y}<br>LifeExpectancy=%{z}<extra></extra>",
           "hovertext": [
            "Japan"
           ],
           "ids": [
            "Japan"
           ],
           "legendgroup": "Japan",
           "marker": {
            "color": "#B6E880",
            "size": {
             "bdata": "8LjvVg==",
             "dtype": "i4"
            },
            "sizemode": "area",
            "sizeref": 5018178.29,
            "symbol": "circle"
           },
           "mode": "markers",
           "name": "Japan",
           "scene": "scene",
           "showlegend": true,
           "type": "scatter3d",
           "x": {
            "bdata": "8LjvVg==",
            "dtype": "i4"
           },
           "y": [
            18712788420315
           ],
           "z": {
            "bdata": "pHA9CtejVEA=",
            "dtype": "f8"
           }
          },
          {
           "hovertemplate": "<b>%{hovertext}</b><br><br>Country=Canada<br>Year=2008<br>Population=%{marker.size}<br>GDP=%{y}<br>LifeExpectancy=%{z}<extra></extra>",
           "hovertext": [
            "Canada"
           ],
           "ids": [
            "Canada"
           ],
           "legendgroup": "Canada",
           "marker": {
            "color": "#FF97FF",
            "size": {
             "bdata": "+oZqSA==",
             "dtype": "i4"
            },
            "sizemode": "area",
            "sizeref": 5018178.29,
            "symbol": "circle"
           },
           "mode": "markers",
           "name": "Canada",
           "scene": "scene",
           "showlegend": true,
           "type": "scatter3d",
           "x": {
            "bdata": "+oZqSA==",
            "dtype": "i4"
           },
           "y": [
            23241828736816
           ],
           "z": {
            "bdata": "hetRuB61UkA=",
            "dtype": "f8"
           }
          },
          {
           "hovertemplate": "<b>%{hovertext}</b><br><br>Country=Australia<br>Year=2008<br>Population=%{marker.size}<br>GDP=%{y}<br>LifeExpectancy=%{z}<extra></extra>",
           "hovertext": [
            "Australia"
           ],
           "ids": [
            "Australia"
           ],
           "legendgroup": "Australia",
           "marker": {
            "color": "#FECB52",
            "size": {
             "bdata": "iF3EPA==",
             "dtype": "i4"
            },
            "sizemode": "area",
            "sizeref": 5018178.29,
            "symbol": "circle"
           },
           "mode": "markers",
           "name": "Australia",
           "scene": "scene",
           "showlegend": true,
           "type": "scatter3d",
           "x": {
            "bdata": "iF3EPA==",
            "dtype": "i4"
           },
           "y": [
            15918160108071
           ],
           "z": {
            "bdata": "ZmZmZmY2UEA=",
            "dtype": "f8"
           }
          }
         ],
         "name": "2008"
        },
        {
         "data": [
          {
           "hovertemplate": "<b>%{hovertext}</b><br><br>Country=USA<br>Year=2009<br>Population=%{marker.size}<br>GDP=%{y}<br>LifeExpectancy=%{z}<extra></extra>",
           "hovertext": [
            "USA"
           ],
           "ids": [
            "USA"
           ],
           "legendgroup": "USA",
           "marker": {
            "color": "#636efa",
            "size": {
             "bdata": "YOTLVg==",
             "dtype": "i4"
            },
            "sizemode": "area",
            "sizeref": 5018178.29,
            "symbol": "circle"
           },
           "mode": "markers",
           "name": "USA",
           "scene": "scene",
           "showlegend": true,
           "type": "scatter3d",
           "x": {
            "bdata": "YOTLVg==",
            "dtype": "i4"
           },
           "y": [
            4743577516227
           ],
           "z": {
            "bdata": "j8L1KFzfUkA=",
            "dtype": "f8"
           }
          },
          {
           "hovertemplate": "<b>%{hovertext}</b><br><br>Country=China<br>Year=2009<br>Population=%{marker.size}<br>GDP=%{y}<br>LifeExpectancy=%{z}<extra></extra>",
           "hovertext": [
            "China"
           ],
           "ids": [
            "China"
           ],
           "legendgroup": "China",
           "marker": {
            "color": "#EF553B",
            "size": {
             "bdata": "dFktKg==",
             "dtype": "i4"
            },
            "sizemode": "area",
            "sizeref": 5018178.29,
            "symbol": "circle"
           },
           "mode": "markers",
           "name": "China",
           "scene": "scene",
           "showlegend": true,
           "type": "scatter3d",
           "x": {
            "bdata": "dFktKg==",
            "dtype": "i4"
           },
           "y": [
            20652463677751
           ],
           "z": {
            "bdata": "CtejcD3qTkA=",
            "dtype": "f8"
           }
          },
          {
           "hovertemplate": "<b>%{hovertext}</b><br><br>Country=India<br>Year=2009<br>Population=%{marker.size}<br>GDP=%{y}<br>LifeExpectancy=%{z}<extra></extra>",
           "hovertext": [
            "India"
           ],
           "ids": [
            "India"
           ],
           "legendgroup": "India",
           "marker": {
            "color": "#00cc96",
            "size": {
             "bdata": "EaIqTg==",
             "dtype": "i4"
            },
            "sizemode": "area",
            "sizeref": 5018178.29,
            "symbol": "circle"
           },
           "mode": "markers",
           "name": "India",
           "scene": "scene",
           "showlegend": true,
           "type": "scatter3d",
           "x": {
            "bdata": "EaIqTg==",
            "dtype": "i4"
           },
           "y": [
            10626510693787
           ],
           "z": {
            "bdata": "16NwPQpHUUA=",
            "dtype": "f8"
           }
          },
          {
           "hovertemplate": "<b>%{hovertext}</b><br><br>Country=Germany<br>Year=2009<br>Population=%{marker.size}<br>GDP=%{y}<br>LifeExpectancy=%{z}<extra></extra>",
           "hovertext": [
            "Germany"
           ],
           "ids": [
            "Germany"
           ],
           "legendgroup": "Germany",
           "marker": {
            "color": "#ab63fa",
            "size": {
             "bdata": "xHhFVQ==",
             "dtype": "i4"
            },
            "sizemode": "area",
            "sizeref": 5018178.29,
            "symbol": "circle"
           },
           "mode": "markers",
           "name": "Germany",
           "scene": "scene",
           "showlegend": true,
           "type": "scatter3d",
           "x": {
            "bdata": "xHhFVQ==",
            "dtype": "i4"
           },
           "y": [
            9896752924164
           ],
           "z": {
            "bdata": "zczMzMysU0A=",
            "dtype": "f8"
           }
          },
          {
           "hovertemplate": "<b>%{hovertext}</b><br><br>Country=UK<br>Year=2009<br>Population=%{marker.size}<br>GDP=%{y}<br>LifeExpectancy=%{z}<extra></extra>",
           "hovertext": [
            "UK"
           ],
           "ids": [
            "UK"
           ],
           "legendgroup": "UK",
           "marker": {
            "color": "#FFA15A",
            "size": {
             "bdata": "vr57WA==",
             "dtype": "i4"
            },
            "sizemode": "area",
            "sizeref": 5018178.29,
            "symbol": "circle"
           },
           "mode": "markers",
           "name": "UK",
           "scene": "scene",
           "showlegend": true,
           "type": "scatter3d",
           "x": {
            "bdata": "vr57WA==",
            "dtype": "i4"
           },
           "y": [
            4757999490630
           ],
           "z": {
            "bdata": "zczMzMwsU0A=",
            "dtype": "f8"
           }
          },
          {
           "hovertemplate": "<b>%{hovertext}</b><br><br>Country=France<br>Year=2009<br>Population=%{marker.size}<br>GDP=%{y}<br>LifeExpectancy=%{z}<extra></extra>",
           "hovertext": [
            "France"
           ],
           "ids": [
            "France"
           ],
           "legendgroup": "France",
           "marker": {
            "color": "#19d3f3",
            "size": {
             "bdata": "Eub4Lg==",
             "dtype": "i4"
            },
            "sizemode": "area",
            "sizeref": 5018178.29,
            "symbol": "circle"
           },
           "mode": "markers",
           "name": "France",
           "scene": "scene",
           "showlegend": true,
           "type": "scatter3d",
           "x": {
            "bdata": "Eub4Lg==",
            "dtype": "i4"
           },
           "y": [
            16024986624851
           ],
           "z": {
            "bdata": "uB6F61EIUEA=",
            "dtype": "f8"
           }
          },
          {
           "hovertemplate": "<b>%{hovertext}</b><br><br>Country=Brazil<br>Year=2009<br>Population=%{marker.size}<br>GDP=%{y}<br>LifeExpectancy=%{z}<extra></extra>",
           "hovertext": [
            "Brazil"
           ],
           "ids": [
            "Brazil"
           ],
           "legendgroup": "Brazil",
           "marker": {
            "color": "#FF6692",
            "size": {
             "bdata": "7KlxMQ==",
             "dtype": "i4"
            },
            "sizemode": "area",
            "sizeref": 5018178.29,
            "symbol": "circle"
           },
           "mode": "markers",
           "name": "Brazil",
           "scene": "scene",
           "showlegend": true,
           "type": "scatter3d",
           "x": {
            "bdata": "7KlxMQ==",
            "dtype": "i4"
           },
           "y": [
            7287684052567
           ],
           "z": {
            "bdata": "SOF6FK4nVEA=",
            "dtype": "f8"
           }
          },
          {
           "hovertemplate": "<b>%{hovertext}</b><br><br>Country=Japan<br>Year=2009<br>Population=%{marker.size}<br>GDP=%{y}<br>LifeExpectancy=%{z}<extra></extra>",
           "hovertext": [
            "Japan"
           ],
           "ids": [
            "Japan"
           ],
           "legendgroup": "Japan",
           "marker": {
            "color": "#B6E880",
            "size": {
             "bdata": "M434XA==",
             "dtype": "i4"
            },
            "sizemode": "area",
            "sizeref": 5018178.29,
            "symbol": "circle"
           },
           "mode": "markers",
           "name": "Japan",
           "scene": "scene",
           "showlegend": true,
           "type": "scatter3d",
           "x": {
            "bdata": "M434XA==",
            "dtype": "i4"
           },
           "y": [
            22503611871989
           ],
           "z": {
            "bdata": "exSuR+FqVEA=",
            "dtype": "f8"
           }
          },
          {
           "hovertemplate": "<b>%{hovertext}</b><br><br>Country=Canada<br>Year=2009<br>Population=%{marker.size}<br>GDP=%{y}<br>LifeExpectancy=%{z}<extra></extra>",
           "hovertext": [
            "Canada"
           ],
           "ids": [
            "Canada"
           ],
           "legendgroup": "Canada",
           "marker": {
            "color": "#FF97FF",
            "size": {
             "bdata": "s33GSA==",
             "dtype": "i4"
            },
            "sizemode": "area",
            "sizeref": 5018178.29,
            "symbol": "circle"
           },
           "mode": "markers",
           "name": "Canada",
           "scene": "scene",
           "showlegend": true,
           "type": "scatter3d",
           "x": {
            "bdata": "s33GSA==",
            "dtype": "i4"
           },
           "y": [
            24496137688976
           ],
           "z": {
            "bdata": "ZmZmZma2UkA=",
            "dtype": "f8"
           }
          },
          {
           "hovertemplate": "<b>%{hovertext}</b><br><br>Country=Australia<br>Year=2009<br>Population=%{marker.size}<br>GDP=%{y}<br>LifeExpectancy=%{z}<extra></extra>",
           "hovertext": [
            "Australia"
           ],
           "ids": [
            "Australia"
           ],
           "legendgroup": "Australia",
           "marker": {
            "color": "#FECB52",
            "size": {
             "bdata": "5KqVOg==",
             "dtype": "i4"
            },
            "sizemode": "area",
            "sizeref": 5018178.29,
            "symbol": "circle"
           },
           "mode": "markers",
           "name": "Australia",
           "scene": "scene",
           "showlegend": true,
           "type": "scatter3d",
           "x": {
            "bdata": "5KqVOg==",
            "dtype": "i4"
           },
           "y": [
            17896744582714
           ],
           "z": {
            "bdata": "cT0K16OwT0A=",
            "dtype": "f8"
           }
          }
         ],
         "name": "2009"
        },
        {
         "data": [
          {
           "hovertemplate": "<b>%{hovertext}</b><br><br>Country=USA<br>Year=2010<br>Population=%{marker.size}<br>GDP=%{y}<br>LifeExpectancy=%{z}<extra></extra>",
           "hovertext": [
            "USA"
           ],
           "ids": [
            "USA"
           ],
           "legendgroup": "USA",
           "marker": {
            "color": "#636efa",
            "size": {
             "bdata": "CV6RXA==",
             "dtype": "i4"
            },
            "sizemode": "area",
            "sizeref": 5018178.29,
            "symbol": "circle"
           },
           "mode": "markers",
           "name": "USA",
           "scene": "scene",
           "showlegend": true,
           "type": "scatter3d",
           "x": {
            "bdata": "CV6RXA==",
            "dtype": "i4"
           },
           "y": [
            6120350909675
           ],
           "z": {
            "bdata": "16NwPQp3U0A=",
            "dtype": "f8"
           }
          },
          {
           "hovertemplate": "<b>%{hovertext}</b><br><br>Country=China<br>Year=2010<br>Population=%{marker.size}<br>GDP=%{y}<br>LifeExpectancy=%{z}<extra></extra>",
           "hovertext": [
            "China"
           ],
           "ids": [
            "China"
           ],
           "legendgroup": "China",
           "marker": {
            "color": "#EF553B",
            "size": {
             "bdata": "Xnq5Jw==",
             "dtype": "i4"
            },
            "sizemode": "area",
            "sizeref": 5018178.29,
            "symbol": "circle"
           },
           "mode": "markers",
           "name": "China",
           "scene": "scene",
           "showlegend": true,
           "type": "scatter3d",
           "x": {
            "bdata": "Xnq5Jw==",
            "dtype": "i4"
           },
           "y": [
            26532772326729
           ],
           "z": {
            "bdata": "7FG4HoULT0A=",
            "dtype": "f8"
           }
          },
          {
           "hovertemplate": "<b>%{hovertext}</b><br><br>Country=India<br>Year=2010<br>Population=%{marker.size}<br>GDP=%{y}<br>LifeExpectancy=%{z}<extra></extra>",
           "hovertext": [
            "India"
           ],
           "ids": [
            "India"
           ],
           "legendgroup": "India",
           "marker": {
            "color": "#00cc96",
            "size": {
             "bdata": "BlizTA==",
             "dtype": "i4"
            },
            "sizemode": "area",
            "sizeref": 5018178.29,
            "symbol": "circle"
           },
           "mode": "markers",
           "name": "India",
           "scene": "scene",
           "showlegend": true,
           "type": "scatter3d",
           "x": {
            "bdata": "BlizTA==",
            "dtype": "i4"
           },
           "y": [
            11178523820396
           ],
           "z": {
            "bdata": "j8L1KFzPUEA=",
            "dtype": "f8"
           }
          },
          {
           "hovertemplate": "<b>%{hovertext}</b><br><br>Country=Germany<br>Year=2010<br>Population=%{marker.size}<br>GDP=%{y}<br>LifeExpectancy=%{z}<extra></extra>",
           "hovertext": [
            "Germany"
           ],
           "ids": [
            "Germany"
           ],
           "legendgroup": "Germany",
           "marker": {
            "color": "#ab63fa",
            "size": {
             "bdata": "7lWTUw==",
             "dtype": "i4"
            },
            "sizemode": "area",
            "sizeref": 5018178.29,
            "symbol": "circle"
           },
           "mode": "markers",
           "name": "Germany",
           "scene": "scene",
           "showlegend": true,
           "type": "scatter3d",
           "x": {
            "bdata": "7lWTUw==",
            "dtype": "i4"
           },
           "y": [
            10941719535683
           ],
           "z": {
            "bdata": "4XoUrkchVEA=",
            "dtype": "f8"
           }
          },
          {
           "hovertemplate": "<b>%{hovertext}</b><br><br>Country=UK<br>Year=2010<br>Population=%{marker.size}<br>GDP=%{y}<br>LifeExpectancy=%{z}<extra></extra>",
           "hovertext": [
            "UK"
           ],
           "ids": [
            "UK"
           ],
           "legendgroup": "UK",
           "marker": {
            "color": "#FFA15A",
            "size": {
             "bdata": "W5BHWg==",
             "dtype": "i4"
            },
            "sizemode": "area",
            "sizeref": 5018178.29,
            "symbol": "circle"
           },
           "mode": "markers",
           "name": "UK",
           "scene": "scene",
           "showlegend": true,
           "type": "scatter3d",
           "x": {
            "bdata": "W5BHWg==",
            "dtype": "i4"
           },
           "y": [
            5073267812839
           ],
           "z": {
            "bdata": "XI/C9Si8UkA=",
            "dtype": "f8"
           }
          },
          {
           "hovertemplate": "<b>%{hovertext}</b><br><br>Country=France<br>Year=2010<br>Population=%{marker.size}<br>GDP=%{y}<br>LifeExpectancy=%{z}<extra></extra>",
           "hovertext": [
            "France"
           ],
           "ids": [
            "France"
           ],
           "legendgroup": "France",
           "marker": {
            "color": "#19d3f3",
            "size": {
             "bdata": "jK7NMQ==",
             "dtype": "i4"
            },
            "sizemode": "area",
            "sizeref": 5018178.29,
            "symbol": "circle"
           },
           "mode": "markers",
           "name": "France",
           "scene": "scene",
           "showlegend": true,
           "type": "scatter3d",
           "x": {
            "bdata": "jK7NMQ==",
            "dtype": "i4"
           },
           "y": [
            16222179258182
           ],
           "z": {
            "bdata": "CtejcD1aUEA=",
            "dtype": "f8"
           }
          },
          {
           "hovertemplate": "<b>%{hovertext}</b><br><br>Country=Brazil<br>Year=2010<br>Population=%{marker.size}<br>GDP=%{y}<br>LifeExpectancy=%{z}<extra></extra>",
           "hovertext": [
            "Brazil"
           ],
           "ids": [
            "Brazil"
           ],
           "legendgroup": "Brazil",
           "marker": {
            "color": "#FF6692",
            "size": {
             "bdata": "sWiOMQ==",
             "dtype": "i4"
            },
            "sizemode": "area",
            "sizeref": 5018178.29,
            "symbol": "circle"
           },
           "mode": "markers",
           "name": "Brazil",
           "scene": "scene",
           "showlegend": true,
           "type": "scatter3d",
           "x": {
            "bdata": "sWiOMQ==",
            "dtype": "i4"
           },
           "y": [
            9231306942323
           ],
           "z": {
            "bdata": "XI/C9Sg8VEA=",
            "dtype": "f8"
           }
          },
          {
           "hovertemplate": "<b>%{hovertext}</b><br><br>Country=Japan<br>Year=2010<br>Population=%{marker.size}<br>GDP=%{y}<br>LifeExpectancy=%{z}<extra></extra>",
           "hovertext": [
            "Japan"
           ],
           "ids": [
            "Japan"
           ],
           "legendgroup": "Japan",
           "marker": {
            "color": "#B6E880",
            "size": {
             "bdata": "rzTJVQ==",
             "dtype": "i4"
            },
            "sizemode": "area",
            "sizeref": 5018178.29,
            "symbol": "circle"
           },
           "mode": "markers",
           "name": "Japan",
           "scene": "scene",
           "showlegend": true,
           "type": "scatter3d",
           "x": {
            "bdata": "rzTJVQ==",
            "dtype": "i4"
           },
           "y": [
            24217480667027
           ],
           "z": {
            "bdata": "exSuR+GaVEA=",
            "dtype": "f8"
           }
          },
          {
           "hovertemplate": "<b>%{hovertext}</b><br><br>Country=Canada<br>Year=2010<br>Population=%{marker.size}<br>GDP=%{y}<br>LifeExpectancy=%{z}<extra></extra>",
           "hovertext": [
            "Canada"
           ],
           "ids": [
            "Canada"
           ],
           "legendgroup": "Canada",
           "marker": {
            "color": "#FF97FF",
            "size": {
             "bdata": "PlgMSg==",
             "dtype": "i4"
            },
            "sizemode": "area",
            "sizeref": 5018178.29,
            "symbol": "circle"
           },
           "mode": "markers",
           "name": "Canada",
           "scene": "scene",
           "showlegend": true,
           "type": "scatter3d",
           "x": {
            "bdata": "PlgMSg==",
            "dtype": "i4"
           },
           "y": [
            26169462494450
           ],
           "z": {
            "bdata": "mpmZmZnZUkA=",
            "dtype": "f8"
           }
          },
          {
           "hovertemplate": "<b>%{hovertext}</b><br><br>Country=Australia<br>Year=2010<br>Population=%{marker.size}<br>GDP=%{y}<br>LifeExpectancy=%{z}<extra></extra>",
           "hovertext": [
            "Australia"
           ],
           "ids": [
            "Australia"
           ],
           "legendgroup": "Australia",
           "marker": {
            "color": "#FECB52",
            "size": {
             "bdata": "l/CkPg==",
             "dtype": "i4"
            },
            "sizemode": "area",
            "sizeref": 5018178.29,
            "symbol": "circle"
           },
           "mode": "markers",
           "name": "Australia",
           "scene": "scene",
           "showlegend": true,
           "type": "scatter3d",
           "x": {
            "bdata": "l/CkPg==",
            "dtype": "i4"
           },
           "y": [
            17346119993274
           ],
           "z": {
            "bdata": "KVyPwvUoUEA=",
            "dtype": "f8"
           }
          }
         ],
         "name": "2010"
        },
        {
         "data": [
          {
           "hovertemplate": "<b>%{hovertext}</b><br><br>Country=USA<br>Year=2011<br>Population=%{marker.size}<br>GDP=%{y}<br>LifeExpectancy=%{z}<extra></extra>",
           "hovertext": [
            "USA"
           ],
           "ids": [
            "USA"
           ],
           "legendgroup": "USA",
           "marker": {
            "color": "#636efa",
            "size": {
             "bdata": "lxj2VA==",
             "dtype": "i4"
            },
            "sizemode": "area",
            "sizeref": 5018178.29,
            "symbol": "circle"
           },
           "mode": "markers",
           "name": "USA",
           "scene": "scene",
           "showlegend": true,
           "type": "scatter3d",
           "x": {
            "bdata": "lxj2VA==",
            "dtype": "i4"
           },
           "y": [
            4869179462782
           ],
           "z": {
            "bdata": "4XoUrkdxU0A=",
            "dtype": "f8"
           }
          },
          {
           "hovertemplate": "<b>%{hovertext}</b><br><br>Country=China<br>Year=2011<br>Population=%{marker.size}<br>GDP=%{y}<br>LifeExpectancy=%{z}<extra></extra>",
           "hovertext": [
            "China"
           ],
           "ids": [
            "China"
           ],
           "legendgroup": "China",
           "marker": {
            "color": "#EF553B",
            "size": {
             "bdata": "bFx6Kg==",
             "dtype": "i4"
            },
            "sizemode": "area",
            "sizeref": 5018178.29,
            "symbol": "circle"
           },
           "mode": "markers",
           "name": "China",
           "scene": "scene",
           "showlegend": true,
           "type": "scatter3d",
           "x": {
            "bdata": "bFx6Kg==",
            "dtype": "i4"
           },
           "y": [
            26072561174035
           ],
           "z": {
            "bdata": "zczMzMysTkA=",
            "dtype": "f8"
           }
          },
          {
           "hovertemplate": "<b>%{hovertext}</b><br><br>Country=India<br>Year=2011<br>Population=%{marker.size}<br>GDP=%{y}<br>LifeExpectancy=%{z}<extra></extra>",
           "hovertext": [
            "India"
           ],
           "ids": [
            "India"
           ],
           "legendgroup": "India",
           "marker": {
            "color": "#00cc96",
            "size": {
             "bdata": "vuPwUA==",
             "dtype": "i4"
            },
            "sizemode": "area",
            "sizeref": 5018178.29,
            "symbol": "circle"
           },
           "mode": "markers",
           "name": "India",
           "scene": "scene",
           "showlegend": true,
           "type": "scatter3d",
           "x": {
            "bdata": "vuPwUA==",
            "dtype": "i4"
           },
           "y": [
            13411934044823
           ],
           "z": {
            "bdata": "AAAAAADQUEA=",
            "dtype": "f8"
           }
          },
          {
           "hovertemplate": "<b>%{hovertext}</b><br><br>Country=Germany<br>Year=2011<br>Population=%{marker.size}<br>GDP=%{y}<br>LifeExpectancy=%{z}<extra></extra>",
           "hovertext": [
            "Germany"
           ],
           "ids": [
            "Germany"
           ],
           "legendgroup": "Germany",
           "marker": {
            "color": "#ab63fa",
            "size": {
             "bdata": "0bFATw==",
             "dtype": "i4"
            },
            "sizemode": "area",
            "sizeref": 5018178.29,
            "symbol": "circle"
           },
           "mode": "markers",
           "name": "Germany",
           "scene": "scene",
           "showlegend": true,
           "type": "scatter3d",
           "x": {
            "bdata": "0bFATw==",
            "dtype": "i4"
           },
           "y": [
            10782055124704
           ],
           "z": {
            "bdata": "ZmZmZmb2U0A=",
            "dtype": "f8"
           }
          },
          {
           "hovertemplate": "<b>%{hovertext}</b><br><br>Country=UK<br>Year=2011<br>Population=%{marker.size}<br>GDP=%{y}<br>LifeExpectancy=%{z}<extra></extra>",
           "hovertext": [
            "UK"
           ],
           "ids": [
            "UK"
           ],
           "legendgroup": "UK",
           "marker": {
            "color": "#FFA15A",
            "size": {
             "bdata": "CZmbWA==",
             "dtype": "i4"
            },
            "sizemode": "area",
            "sizeref": 5018178.29,
            "symbol": "circle"
           },
           "mode": "markers",
           "name": "UK",
           "scene": "scene",
           "showlegend": true,
           "type": "scatter3d",
           "x": {
            "bdata": "CZmbWA==",
            "dtype": "i4"
           },
           "y": [
            5118298334401
           ],
           "z": {
            "bdata": "MzMzMzMjU0A=",
            "dtype": "f8"
           }
          },
          {
           "hovertemplate": "<b>%{hovertext}</b><br><br>Country=France<br>Year=2011<br>Population=%{marker.size}<br>GDP=%{y}<br>LifeExpectancy=%{z}<extra></extra>",
           "hovertext": [
            "France"
           ],
           "ids": [
            "France"
           ],
           "legendgroup": "France",
           "marker": {
            "color": "#19d3f3",
            "size": {
             "bdata": "jrV1Mg==",
             "dtype": "i4"
            },
            "sizemode": "area",
            "sizeref": 5018178.29,
            "symbol": "circle"
           },
           "mode": "markers",
           "name": "France",
           "scene": "scene",
           "showlegend": true,
           "type": "scatter3d",
           "x": {
            "bdata": "jrV1Mg==",
            "dtype": "i4"
           },
           "y": [
            15743457384400
           ],
           "z": {
            "bdata": "mpmZmZmZT0A=",
            "dtype": "f8"
           }
          },
          {
           "hovertemplate": "<b>%{hovertext}</b><br><br>Country=Brazil<br>Year=2011<br>Population=%{marker.size}<br>GDP=%{y}<br>LifeExpectancy=%{z}<extra></extra>",
           "hovertext": [
            "Brazil"
           ],
           "ids": [
            "Brazil"
           ],
           "legendgroup": "Brazil",
           "marker": {
            "color": "#FF6692",
            "size": {
             "bdata": "2KvtMQ==",
             "dtype": "i4"
            },
            "sizemode": "area",
            "sizeref": 5018178.29,
            "symbol": "circle"
           },
           "mode": "markers",
           "name": "Brazil",
           "scene": "scene",
           "showlegend": true,
           "type": "scatter3d",
           "x": {
            "bdata": "2KvtMQ==",
            "dtype": "i4"
           },
           "y": [
            7621462618554
           ],
           "z": {
            "bdata": "cT0K16OQVEA=",
            "dtype": "f8"
           }
          },
          {
           "hovertemplate": "<b>%{hovertext}</b><br><br>Country=Japan<br>Year=2011<br>Population=%{marker.size}<br>GDP=%{y}<br>LifeExpectancy=%{z}<extra></extra>",
           "hovertext": [
            "Japan"
           ],
           "ids": [
            "Japan"
           ],
           "legendgroup": "Japan",
           "marker": {
            "color": "#B6E880",
            "size": {
             "bdata": "8GaOVA==",
             "dtype": "i4"
            },
            "sizemode": "area",
            "sizeref": 5018178.29,
            "symbol": "circle"
           },
           "mode": "markers",
           "name": "Japan",
           "scene": "scene",
           "showlegend": true,
           "type": "scatter3d",
           "x": {
            "bdata": "8GaOVA==",
            "dtype": "i4"
           },
           "y": [
            26080250152581
           ],
           "z": {
            "bdata": "H4XrUbjOVEA=",
            "dtype": "f8"
           }
          },
          {
           "hovertemplate": "<b>%{hovertext}</b><br><br>Country=Canada<br>Year=2011<br>Population=%{marker.size}<br>GDP=%{y}<br>LifeExpectancy=%{z}<extra></extra>",
           "hovertext": [
            "Canada"
           ],
           "ids": [
            "Canada"
           ],
           "legendgroup": "Canada",
           "marker": {
            "color": "#FF97FF",
            "size": {
             "bdata": "AzfmUQ==",
             "dtype": "i4"
            },
            "sizemode": "area",
            "sizeref": 5018178.29,
            "symbol": "circle"
           },
           "mode": "markers",
           "name": "Canada",
           "scene": "scene",
           "showlegend": true,
           "type": "scatter3d",
           "x": {
            "bdata": "AzfmUQ==",
            "dtype": "i4"
           },
           "y": [
            23349201957665
           ],
           "z": {
            "bdata": "zczMzMz8UkA=",
            "dtype": "f8"
           }
          },
          {
           "hovertemplate": "<b>%{hovertext}</b><br><br>Country=Australia<br>Year=2011<br>Population=%{marker.size}<br>GDP=%{y}<br>LifeExpectancy=%{z}<extra></extra>",
           "hovertext": [
            "Australia"
           ],
           "ids": [
            "Australia"
           ],
           "legendgroup": "Australia",
           "marker": {
            "color": "#FECB52",
            "size": {
             "bdata": "aPW5QA==",
             "dtype": "i4"
            },
            "sizemode": "area",
            "sizeref": 5018178.29,
            "symbol": "circle"
           },
           "mode": "markers",
           "name": "Australia",
           "scene": "scene",
           "showlegend": true,
           "type": "scatter3d",
           "x": {
            "bdata": "aPW5QA==",
            "dtype": "i4"
           },
           "y": [
            17262287482479
           ],
           "z": {
            "bdata": "4XoUrkcxUEA=",
            "dtype": "f8"
           }
          }
         ],
         "name": "2011"
        },
        {
         "data": [
          {
           "hovertemplate": "<b>%{hovertext}</b><br><br>Country=USA<br>Year=2012<br>Population=%{marker.size}<br>GDP=%{y}<br>LifeExpectancy=%{z}<extra></extra>",
           "hovertext": [
            "USA"
           ],
           "ids": [
            "USA"
           ],
           "legendgroup": "USA",
           "marker": {
            "color": "#636efa",
            "size": {
             "bdata": "1sfeVw==",
             "dtype": "i4"
            },
            "sizemode": "area",
            "sizeref": 5018178.29,
            "symbol": "circle"
           },
           "mode": "markers",
           "name": "USA",
           "scene": "scene",
           "showlegend": true,
           "type": "scatter3d",
           "x": {
            "bdata": "1sfeVw==",
            "dtype": "i4"
           },
           "y": [
            5023710297983
           ],
           "z": {
            "bdata": "ZmZmZmZWU0A=",
            "dtype": "f8"
           }
          },
          {
           "hovertemplate": "<b>%{hovertext}</b><br><br>Country=China<br>Year=2012<br>Population=%{marker.size}<br>GDP=%{y}<br>LifeExpectancy=%{z}<extra></extra>",
           "hovertext": [
            "China"
           ],
           "ids": [
            "China"
           ],
           "legendgroup": "China",
           "marker": {
            "color": "#EF553B",
            "size": {
             "bdata": "kWldKw==",
             "dtype": "i4"
            },
            "sizemode": "area",
            "sizeref": 5018178.29,
            "symbol": "circle"
           },
           "mode": "markers",
           "name": "China",
           "scene": "scene",
           "showlegend": true,
           "type": "scatter3d",
           "x": {
            "bdata": "kWldKw==",
            "dtype": "i4"
           },
           "y": [
            25712369530475
           ],
           "z": {
            "bdata": "UrgehevRTkA=",
            "dtype": "f8"
           }
          },
          {
           "hovertemplate": "<b>%{hovertext}</b><br><br>Country=India<br>Year=2012<br>Population=%{marker.size}<br>GDP=%{y}<br>LifeExpectancy=%{z}<extra></extra>",
           "hovertext": [
            "India"
           ],
           "ids": [
            "India"
           ],
           "legendgroup": "India",
           "marker": {
            "color": "#00cc96",
            "size": {
             "bdata": "wR/sUA==",
             "dtype": "i4"
            },
            "sizemode": "area",
            "sizeref": 5018178.29,
            "symbol": "circle"
           },
           "mode": "markers",
           "name": "India",
           "scene": "scene",
           "showlegend": true,
           "type": "scatter3d",
           "x": {
            "bdata": "wR/sUA==",
            "dtype": "i4"
           },
           "y": [
            11924150674784
           ],
           "z": {
            "bdata": "uB6F61FYUUA=",
            "dtype": "f8"
           }
          },
          {
           "hovertemplate": "<b>%{hovertext}</b><br><br>Country=Germany<br>Year=2012<br>Population=%{marker.size}<br>GDP=%{y}<br>LifeExpectancy=%{z}<extra></extra>",
           "hovertext": [
            "Germany"
           ],
           "ids": [
            "Germany"
           ],
           "legendgroup": "Germany",
           "marker": {
            "color": "#ab63fa",
            "size": {
             "bdata": "wz3zVw==",
             "dtype": "i4"
            },
            "sizemode": "area",
            "sizeref": 5018178.29,
            "symbol": "circle"
           },
           "mode": "markers",
           "name": "Germany",
           "scene": "scene",
           "showlegend": true,
           "type": "scatter3d",
           "x": {
            "bdata": "wz3zVw==",
            "dtype": "i4"
           },
           "y": [
            9513729028118
           ],
           "z": {
            "bdata": "AAAAAABwVEA=",
            "dtype": "f8"
           }
          },
          {
           "hovertemplate": "<b>%{hovertext}</b><br><br>Country=UK<br>Year=2012<br>Population=%{marker.size}<br>GDP=%{y}<br>LifeExpectancy=%{z}<extra></extra>",
           "hovertext": [
            "UK"
           ],
           "ids": [
            "UK"
           ],
           "legendgroup": "UK",
           "marker": {
            "color": "#FFA15A",
            "size": {
             "bdata": "xY/sYg==",
             "dtype": "i4"
            },
            "sizemode": "area",
            "sizeref": 5018178.29,
            "symbol": "circle"
           },
           "mode": "markers",
           "name": "UK",
           "scene": "scene",
           "showlegend": true,
           "type": "scatter3d",
           "x": {
            "bdata": "xY/sYg==",
            "dtype": "i4"
           },
           "y": [
            5672413957649
           ],
           "z": {
            "bdata": "CtejcD2aU0A=",
            "dtype": "f8"
           }
          },
          {
           "hovertemplate": "<b>%{hovertext}</b><br><br>Country=France<br>Year=2012<br>Population=%{marker.size}<br>GDP=%{y}<br>LifeExpectancy=%{z}<extra></extra>",
           "hovertext": [
            "France"
           ],
           "ids": [
            "France"
           ],
           "legendgroup": "France",
           "marker": {
            "color": "#19d3f3",
            "size": {
             "bdata": "HCqMLA==",
             "dtype": "i4"
            },
            "sizemode": "area",
            "sizeref": 5018178.29,
            "symbol": "circle"
           },
           "mode": "markers",
           "name": "France",
           "scene": "scene",
           "showlegend": true,
           "type": "scatter3d",
           "x": {
            "bdata": "HCqMLA==",
            "dtype": "i4"
           },
           "y": [
            15172650680522
           ],
           "z": {
            "bdata": "rkfhehSuT0A=",
            "dtype": "f8"
           }
          },
          {
           "hovertemplate": "<b>%{hovertext}</b><br><br>Country=Brazil<br>Year=2012<br>Population=%{marker.size}<br>GDP=%{y}<br>LifeExpectancy=%{z}<extra></extra>",
           "hovertext": [
            "Brazil"
           ],
           "ids": [
            "Brazil"
           ],
           "legendgroup": "Brazil",
           "marker": {
            "color": "#FF6692",
            "size": {
             "bdata": "iIbvNA==",
             "dtype": "i4"
            },
            "sizemode": "area",
            "sizeref": 5018178.29,
            "symbol": "circle"
           },
           "mode": "markers",
           "name": "Brazil",
           "scene": "scene",
           "showlegend": true,
           "type": "scatter3d",
           "x": {
            "bdata": "iIbvNA==",
            "dtype": "i4"
           },
           "y": [
            8614653147512
           ],
           "z": {
            "bdata": "H4XrUbh+VEA=",
            "dtype": "f8"
           }
          },
          {
           "hovertemplate": "<b>%{hovertext}</b><br><br>Country=Japan<br>Year=2012<br>Population=%{marker.size}<br>GDP=%{y}<br>LifeExpectancy=%{z}<extra></extra>",
           "hovertext": [
            "Japan"
           ],
           "ids": [
            "Japan"
           ],
           "legendgroup": "Japan",
           "marker": {
            "color": "#B6E880",
            "size": {
             "bdata": "Ejr4YQ==",
             "dtype": "i4"
            },
            "sizemode": "area",
            "sizeref": 5018178.29,
            "symbol": "circle"
           },
           "mode": "markers",
           "name": "Japan",
           "scene": "scene",
           "showlegend": true,
           "type": "scatter3d",
           "x": {
            "bdata": "Ejr4YQ==",
            "dtype": "i4"
           },
           "y": [
            25625528310809
           ],
           "z": {
            "bdata": "AAAAAACwVEA=",
            "dtype": "f8"
           }
          },
          {
           "hovertemplate": "<b>%{hovertext}</b><br><br>Country=Canada<br>Year=2012<br>Population=%{marker.size}<br>GDP=%{y}<br>LifeExpectancy=%{z}<extra></extra>",
           "hovertext": [
            "Canada"
           ],
           "ids": [
            "Canada"
           ],
           "legendgroup": "Canada",
           "marker": {
            "color": "#FF97FF",
            "size": {
             "bdata": "XfT5TA==",
             "dtype": "i4"
            },
            "sizemode": "area",
            "sizeref": 5018178.29,
            "symbol": "circle"
           },
           "mode": "markers",
           "name": "Canada",
           "scene": "scene",
           "showlegend": true,
           "type": "scatter3d",
           "x": {
            "bdata": "XfT5TA==",
            "dtype": "i4"
           },
           "y": [
            24870593781434
           ],
           "z": {
            "bdata": "SOF6FK6nUkA=",
            "dtype": "f8"
           }
          },
          {
           "hovertemplate": "<b>%{hovertext}</b><br><br>Country=Australia<br>Year=2012<br>Population=%{marker.size}<br>GDP=%{y}<br>LifeExpectancy=%{z}<extra></extra>",
           "hovertext": [
            "Australia"
           ],
           "ids": [
            "Australia"
           ],
           "legendgroup": "Australia",
           "marker": {
            "color": "#FECB52",
            "size": {
             "bdata": "3XwgOw==",
             "dtype": "i4"
            },
            "sizemode": "area",
            "sizeref": 5018178.29,
            "symbol": "circle"
           },
           "mode": "markers",
           "name": "Australia",
           "scene": "scene",
           "showlegend": true,
           "type": "scatter3d",
           "x": {
            "bdata": "3XwgOw==",
            "dtype": "i4"
           },
           "y": [
            19296642447763
           ],
           "z": {
            "bdata": "UrgehesxUEA=",
            "dtype": "f8"
           }
          }
         ],
         "name": "2012"
        },
        {
         "data": [
          {
           "hovertemplate": "<b>%{hovertext}</b><br><br>Country=USA<br>Year=2013<br>Population=%{marker.size}<br>GDP=%{y}<br>LifeExpectancy=%{z}<extra></extra>",
           "hovertext": [
            "USA"
           ],
           "ids": [
            "USA"
           ],
           "legendgroup": "USA",
           "marker": {
            "color": "#636efa",
            "size": {
             "bdata": "hsAuUg==",
             "dtype": "i4"
            },
            "sizemode": "area",
            "sizeref": 5018178.29,
            "symbol": "circle"
           },
           "mode": "markers",
           "name": "USA",
           "scene": "scene",
           "showlegend": true,
           "type": "scatter3d",
           "x": {
            "bdata": "hsAuUg==",
            "dtype": "i4"
           },
           "y": [
            6917742366275
           ],
           "z": {
            "bdata": "KVyPwvUoU0A=",
            "dtype": "f8"
           }
          },
          {
           "hovertemplate": "<b>%{hovertext}</b><br><br>Country=China<br>Year=2013<br>Population=%{marker.size}<br>GDP=%{y}<br>LifeExpectancy=%{z}<extra></extra>",
           "hovertext": [
            "China"
           ],
           "ids": [
            "China"
           ],
           "legendgroup": "China",
           "marker": {
            "color": "#EF553B",
            "size": {
             "bdata": "B5/sLg==",
             "dtype": "i4"
            },
            "sizemode": "area",
            "sizeref": 5018178.29,
            "symbol": "circle"
           },
           "mode": "markers",
           "name": "China",
           "scene": "scene",
           "showlegend": true,
           "type": "scatter3d",
           "x": {
            "bdata": "B5/sLg==",
            "dtype": "i4"
           },
           "y": [
            27241027738432
           ],
           "z": {
            "bdata": "7FG4HoWrT0A=",
            "dtype": "f8"
           }
          },
          {
           "hovertemplate": "<b>%{hovertext}</b><br><br>Country=India<br>Year=2013<br>Population=%{marker.size}<br>GDP=%{y}<br>LifeExpectancy=%{z}<extra></extra>",
           "hovertext": [
            "India"
           ],
           "ids": [
            "India"
           ],
           "legendgroup": "India",
           "marker": {
            "color": "#00cc96",
            "size": {
             "bdata": "xr7GTA==",
             "dtype": "i4"
            },
            "sizemode": "area",
            "sizeref": 5018178.29,
            "symbol": "circle"
           },
           "mode": "markers",
           "name": "India",
           "scene": "scene",
           "showlegend": true,
           "type": "scatter3d",
           "x": {
            "bdata": "xr7GTA==",
            "dtype": "i4"
           },
           "y": [
            14588410692044
           ],
           "z": {
            "bdata": "zczMzMwsUUA=",
            "dtype": "f8"
           }
          },
          {
           "hovertemplate": "<b>%{hovertext}</b><br><br>Country=Germany<br>Year=2013<br>Population=%{marker.size}<br>GDP=%{y}<br>LifeExpectancy=%{z}<extra></extra>",
           "hovertext": [
            "Germany"
           ],
           "ids": [
            "Germany"
           ],
           "legendgroup": "Germany",
           "marker": {
            "color": "#ab63fa",
            "size": {
             "bdata": "XXNqVA==",
             "dtype": "i4"
            },
            "sizemode": "area",
            "sizeref": 5018178.29,
            "symbol": "circle"
           },
           "mode": "markers",
           "name": "Germany",
           "scene": "scene",
           "showlegend": true,
           "type": "scatter3d",
           "x": {
            "bdata": "XXNqVA==",
            "dtype": "i4"
           },
           "y": [
            10629280483856
           ],
           "z": {
            "bdata": "7FG4HoVrVEA=",
            "dtype": "f8"
           }
          },
          {
           "hovertemplate": "<b>%{hovertext}</b><br><br>Country=UK<br>Year=2013<br>Population=%{marker.size}<br>GDP=%{y}<br>LifeExpectancy=%{z}<extra></extra>",
           "hovertext": [
            "UK"
           ],
           "ids": [
            "UK"
           ],
           "legendgroup": "UK",
           "marker": {
            "color": "#FFA15A",
            "size": {
             "bdata": "XIkNYg==",
             "dtype": "i4"
            },
            "sizemode": "area",
            "sizeref": 5018178.29,
            "symbol": "circle"
           },
           "mode": "markers",
           "name": "UK",
           "scene": "scene",
           "showlegend": true,
           "type": "scatter3d",
           "x": {
            "bdata": "XIkNYg==",
            "dtype": "i4"
           },
           "y": [
            5077141860254
           ],
           "z": {
            "bdata": "pHA9CteDU0A=",
            "dtype": "f8"
           }
          },
          {
           "hovertemplate": "<b>%{hovertext}</b><br><br>Country=France<br>Year=2013<br>Population=%{marker.size}<br>GDP=%{y}<br>LifeExpectancy=%{z}<extra></extra>",
           "hovertext": [
            "France"
           ],
           "ids": [
            "France"
           ],
           "legendgroup": "France",
           "marker": {
            "color": "#19d3f3",
            "size": {
             "bdata": "ocoqMg==",
             "dtype": "i4"
            },
            "sizemode": "area",
            "sizeref": 5018178.29,
            "symbol": "circle"
           },
           "mode": "markers",
           "name": "France",
           "scene": "scene",
           "showlegend": true,
           "type": "scatter3d",
           "x": {
            "bdata": "ocoqMg==",
            "dtype": "i4"
           },
           "y": [
            15800765063213
           ],
           "z": {
            "bdata": "XI/C9SgMUEA=",
            "dtype": "f8"
           }
          },
          {
           "hovertemplate": "<b>%{hovertext}</b><br><br>Country=Brazil<br>Year=2013<br>Population=%{marker.size}<br>GDP=%{y}<br>LifeExpectancy=%{z}<extra></extra>",
           "hovertext": [
            "Brazil"
           ],
           "ids": [
            "Brazil"
           ],
           "legendgroup": "Brazil",
           "marker": {
            "color": "#FF6692",
            "size": {
             "bdata": "YDS5Ow==",
             "dtype": "i4"
            },
            "sizemode": "area",
            "sizeref": 5018178.29,
            "symbol": "circle"
           },
           "mode": "markers",
           "name": "Brazil",
           "scene": "scene",
           "showlegend": true,
           "type": "scatter3d",
           "x": {
            "bdata": "YDS5Ow==",
            "dtype": "i4"
           },
           "y": [
            11187505511005
           ],
           "z": {
            "bdata": "FK5H4XqEVEA=",
            "dtype": "f8"
           }
          },
          {
           "hovertemplate": "<b>%{hovertext}</b><br><br>Country=Japan<br>Year=2013<br>Population=%{marker.size}<br>GDP=%{y}<br>LifeExpectancy=%{z}<extra></extra>",
           "hovertext": [
            "Japan"
           ],
           "ids": [
            "Japan"
           ],
           "legendgroup": "Japan",
           "marker": {
            "color": "#B6E880",
            "size": {
             "bdata": "kuApWg==",
             "dtype": "i4"
            },
            "sizemode": "area",
            "sizeref": 5018178.29,
            "symbol": "circle"
           },
           "mode": "markers",
           "name": "Japan",
           "scene": "scene",
           "showlegend": true,
           "type": "scatter3d",
           "x": {
            "bdata": "kuApWg==",
            "dtype": "i4"
           },
           "y": [
            28840424925766
           ],
           "z": {
            "bdata": "uB6F61EIVUA=",
            "dtype": "f8"
           }
          },
          {
           "hovertemplate": "<b>%{hovertext}</b><br><br>Country=Canada<br>Year=2013<br>Population=%{marker.size}<br>GDP=%{y}<br>LifeExpectancy=%{z}<extra></extra>",
           "hovertext": [
            "Canada"
           ],
           "ids": [
            "Canada"
           ],
           "legendgroup": "Canada",
           "marker": {
            "color": "#FF97FF",
            "size": {
             "bdata": "el2UVQ==",
             "dtype": "i4"
            },
            "sizemode": "area",
            "sizeref": 5018178.29,
            "symbol": "circle"
           },
           "mode": "markers",
           "name": "Canada",
           "scene": "scene",
           "showlegend": true,
           "type": "scatter3d",
           "x": {
            "bdata": "el2UVQ==",
            "dtype": "i4"
           },
           "y": [
            27929698610183
           ],
           "z": {
            "bdata": "FK5H4XqUUkA=",
            "dtype": "f8"
           }
          },
          {
           "hovertemplate": "<b>%{hovertext}</b><br><br>Country=Australia<br>Year=2013<br>Population=%{marker.size}<br>GDP=%{y}<br>LifeExpectancy=%{z}<extra></extra>",
           "hovertext": [
            "Australia"
           ],
           "ids": [
            "Australia"
           ],
           "legendgroup": "Australia",
           "marker": {
            "color": "#FECB52",
            "size": {
             "bdata": "tNMMPQ==",
             "dtype": "i4"
            },
            "sizemode": "area",
            "sizeref": 5018178.29,
            "symbol": "circle"
           },
           "mode": "markers",
           "name": "Australia",
           "scene": "scene",
           "showlegend": true,
           "type": "scatter3d",
           "x": {
            "bdata": "tNMMPQ==",
            "dtype": "i4"
           },
           "y": [
            22310311940168
           ],
           "z": {
            "bdata": "j8L1KFw/UEA=",
            "dtype": "f8"
           }
          }
         ],
         "name": "2013"
        },
        {
         "data": [
          {
           "hovertemplate": "<b>%{hovertext}</b><br><br>Country=USA<br>Year=2014<br>Population=%{marker.size}<br>GDP=%{y}<br>LifeExpectancy=%{z}<extra></extra>",
           "hovertext": [
            "USA"
           ],
           "ids": [
            "USA"
           ],
           "legendgroup": "USA",
           "marker": {
            "color": "#636efa",
            "size": {
             "bdata": "gIIpXg==",
             "dtype": "i4"
            },
            "sizemode": "area",
            "sizeref": 5018178.29,
            "symbol": "circle"
           },
           "mode": "markers",
           "name": "USA",
           "scene": "scene",
           "showlegend": true,
           "type": "scatter3d",
           "x": {
            "bdata": "gIIpXg==",
            "dtype": "i4"
           },
           "y": [
            5689063490014
           ],
           "z": {
            "bdata": "exSuR+F6U0A=",
            "dtype": "f8"
           }
          },
          {
           "hovertemplate": "<b>%{hovertext}</b><br><br>Country=China<br>Year=2014<br>Population=%{marker.size}<br>GDP=%{y}<br>LifeExpectancy=%{z}<extra></extra>",
           "hovertext": [
            "China"
           ],
           "ids": [
            "China"
           ],
           "legendgroup": "China",
           "marker": {
            "color": "#EF553B",
            "size": {
             "bdata": "iSI2Lw==",
             "dtype": "i4"
            },
            "sizemode": "area",
            "sizeref": 5018178.29,
            "symbol": "circle"
           },
           "mode": "markers",
           "name": "China",
           "scene": "scene",
           "showlegend": true,
           "type": "scatter3d",
           "x": {
            "bdata": "iSI2Lw==",
            "dtype": "i4"
           },
           "y": [
            28568280925584
           ],
           "z": {
            "bdata": "16NwPQoXT0A=",
            "dtype": "f8"
           }
          },
          {
           "hovertemplate": "<b>%{hovertext}</b><br><br>Country=India<br>Year=2014<br>Population=%{marker.size}<br>GDP=%{y}<br>LifeExpectancy=%{z}<extra></extra>",
           "hovertext": [
            "India"
           ],
           "ids": [
            "India"
           ],
           "legendgroup": "India",
           "marker": {
            "color": "#00cc96",
            "size": {
             "bdata": "wROaWg==",
             "dtype": "i4"
            },
            "sizemode": "area",
            "sizeref": 5018178.29,
            "symbol": "circle"
           },
           "mode": "markers",
           "name": "India",
           "scene": "scene",
           "showlegend": true,
           "type": "scatter3d",
           "x": {
            "bdata": "wROaWg==",
            "dtype": "i4"
           },
           "y": [
            12121836907834
           ],
           "z": {
            "bdata": "zczMzMwsUUA=",
            "dtype": "f8"
           }
          },
          {
           "hovertemplate": "<b>%{hovertext}</b><br><br>Country=Germany<br>Year=2014<br>Population=%{marker.size}<br>GDP=%{y}<br>LifeExpectancy=%{z}<extra></extra>",
           "hovertext": [
            "Germany"
           ],
           "ids": [
            "Germany"
           ],
           "legendgroup": "Germany",
           "marker": {
            "color": "#ab63fa",
            "size": {
             "bdata": "cbp9Wg==",
             "dtype": "i4"
            },
            "sizemode": "area",
            "sizeref": 5018178.29,
            "symbol": "circle"
           },
           "mode": "markers",
           "name": "Germany",
           "scene": "scene",
           "showlegend": true,
           "type": "scatter3d",
           "x": {
            "bdata": "cbp9Wg==",
            "dtype": "i4"
           },
           "y": [
            14353633613616
           ],
           "z": {
            "bdata": "pHA9CtfjU0A=",
            "dtype": "f8"
           }
          },
          {
           "hovertemplate": "<b>%{hovertext}</b><br><br>Country=UK<br>Year=2014<br>Population=%{marker.size}<br>GDP=%{y}<br>LifeExpectancy=%{z}<extra></extra>",
           "hovertext": [
            "UK"
           ],
           "ids": [
            "UK"
           ],
           "legendgroup": "UK",
           "marker": {
            "color": "#FFA15A",
            "size": {
             "bdata": "yKNdXg==",
             "dtype": "i4"
            },
            "sizemode": "area",
            "sizeref": 5018178.29,
            "symbol": "circle"
           },
           "mode": "markers",
           "name": "UK",
           "scene": "scene",
           "showlegend": true,
           "type": "scatter3d",
           "x": {
            "bdata": "yKNdXg==",
            "dtype": "i4"
           },
           "y": [
            5480775294161
           ],
           "z": {
            "bdata": "pHA9CtfTUkA=",
            "dtype": "f8"
           }
          },
          {
           "hovertemplate": "<b>%{hovertext}</b><br><br>Country=France<br>Year=2014<br>Population=%{marker.size}<br>GDP=%{y}<br>LifeExpectancy=%{z}<extra></extra>",
           "hovertext": [
            "France"
           ],
           "ids": [
            "France"
           ],
           "legendgroup": "France",
           "marker": {
            "color": "#19d3f3",
            "size": {
             "bdata": "eP2pNA==",
             "dtype": "i4"
            },
            "sizemode": "area",
            "sizeref": 5018178.29,
            "symbol": "circle"
           },
           "mode": "markers",
           "name": "France",
           "scene": "scene",
           "showlegend": true,
           "type": "scatter3d",
           "x": {
            "bdata": "eP2pNA==",
            "dtype": "i4"
           },
           "y": [
            15835425308379
           ],
           "z": {
            "bdata": "KVyPwvWIUEA=",
            "dtype": "f8"
           }
          },
          {
           "hovertemplate": "<b>%{hovertext}</b><br><br>Country=Brazil<br>Year=2014<br>Population=%{marker.size}<br>GDP=%{y}<br>LifeExpectancy=%{z}<extra></extra>",
           "hovertext": [
            "Brazil"
           ],
           "ids": [
            "Brazil"
           ],
           "legendgroup": "Brazil",
           "marker": {
            "color": "#FF6692",
            "size": {
             "bdata": "U3IWNg==",
             "dtype": "i4"
            },
            "sizemode": "area",
            "sizeref": 5018178.29,
            "symbol": "circle"
           },
           "mode": "markers",
           "name": "Brazil",
           "scene": "scene",
           "showlegend": true,
           "type": "scatter3d",
           "x": {
            "bdata": "U3IWNg==",
            "dtype": "i4"
           },
           "y": [
            8144178405599
           ],
           "z": {
            "bdata": "cT0K16OgVEA=",
            "dtype": "f8"
           }
          },
          {
           "hovertemplate": "<b>%{hovertext}</b><br><br>Country=Japan<br>Year=2014<br>Population=%{marker.size}<br>GDP=%{y}<br>LifeExpectancy=%{z}<extra></extra>",
           "hovertext": [
            "Japan"
           ],
           "ids": [
            "Japan"
           ],
           "legendgroup": "Japan",
           "marker": {
            "color": "#B6E880",
            "size": {
             "bdata": "RpVdVA==",
             "dtype": "i4"
            },
            "sizemode": "area",
            "sizeref": 5018178.29,
            "symbol": "circle"
           },
           "mode": "markers",
           "name": "Japan",
           "scene": "scene",
           "showlegend": true,
           "type": "scatter3d",
           "x": {
            "bdata": "RpVdVA==",
            "dtype": "i4"
           },
           "y": [
            20917917383922
           ],
           "z": {
            "bdata": "H4XrUbiOVEA=",
            "dtype": "f8"
           }
          },
          {
           "hovertemplate": "<b>%{hovertext}</b><br><br>Country=Canada<br>Year=2014<br>Population=%{marker.size}<br>GDP=%{y}<br>LifeExpectancy=%{z}<extra></extra>",
           "hovertext": [
            "Canada"
           ],
           "ids": [
            "Canada"
           ],
           "legendgroup": "Canada",
           "marker": {
            "color": "#FF97FF",
            "size": {
             "bdata": "6v48UQ==",
             "dtype": "i4"
            },
            "sizemode": "area",
            "sizeref": 5018178.29,
            "symbol": "circle"
           },
           "mode": "markers",
           "name": "Canada",
           "scene": "scene",
           "showlegend": true,
           "type": "scatter3d",
           "x": {
            "bdata": "6v48UQ==",
            "dtype": "i4"
           },
           "y": [
            26076293920485
           ],
           "z": {
            "bdata": "zczMzMxcUkA=",
            "dtype": "f8"
           }
          },
          {
           "hovertemplate": "<b>%{hovertext}</b><br><br>Country=Australia<br>Year=2014<br>Population=%{marker.size}<br>GDP=%{y}<br>LifeExpectancy=%{z}<extra></extra>",
           "hovertext": [
            "Australia"
           ],
           "ids": [
            "Australia"
           ],
           "legendgroup": "Australia",
           "marker": {
            "color": "#FECB52",
            "size": {
             "bdata": "NPmuQA==",
             "dtype": "i4"
            },
            "sizemode": "area",
            "sizeref": 5018178.29,
            "symbol": "circle"
           },
           "mode": "markers",
           "name": "Australia",
           "scene": "scene",
           "showlegend": true,
           "type": "scatter3d",
           "x": {
            "bdata": "NPmuQA==",
            "dtype": "i4"
           },
           "y": [
            24029118964264
           ],
           "z": {
            "bdata": "rkfhehReUEA=",
            "dtype": "f8"
           }
          }
         ],
         "name": "2014"
        },
        {
         "data": [
          {
           "hovertemplate": "<b>%{hovertext}</b><br><br>Country=USA<br>Year=2015<br>Population=%{marker.size}<br>GDP=%{y}<br>LifeExpectancy=%{z}<extra></extra>",
           "hovertext": [
            "USA"
           ],
           "ids": [
            "USA"
           ],
           "legendgroup": "USA",
           "marker": {
            "color": "#636efa",
            "size": {
             "bdata": "F+4kXQ==",
             "dtype": "i4"
            },
            "sizemode": "area",
            "sizeref": 5018178.29,
            "symbol": "circle"
           },
           "mode": "markers",
           "name": "USA",
           "scene": "scene",
           "showlegend": true,
           "type": "scatter3d",
           "x": {
            "bdata": "F+4kXQ==",
            "dtype": "i4"
           },
           "y": [
            5539553943713
           ],
           "z": {
            "bdata": "w/UoXI8SVEA=",
            "dtype": "f8"
           }
          },
          {
           "hovertemplate": "<b>%{hovertext}</b><br><br>Country=China<br>Year=2015<br>Population=%{marker.size}<br>GDP=%{y}<br>LifeExpectancy=%{z}<extra></extra>",
           "hovertext": [
            "China"
           ],
           "ids": [
            "China"
           ],
           "legendgroup": "China",
           "marker": {
            "color": "#EF553B",
            "size": {
             "bdata": "Wht3KA==",
             "dtype": "i4"
            },
            "sizemode": "area",
            "sizeref": 5018178.29,
            "symbol": "circle"
           },
           "mode": "markers",
           "name": "China",
           "scene": "scene",
           "showlegend": true,
           "type": "scatter3d",
           "x": {
            "bdata": "Wht3KA==",
            "dtype": "i4"
           },
           "y": [
            27588989394517
           ],
           "z": {
            "bdata": "pHA9CtcDT0A=",
            "dtype": "f8"
           }
          },
          {
           "hovertemplate": "<b>%{hovertext}</b><br><br>Country=India<br>Year=2015<br>Population=%{marker.size}<br>GDP=%{y}<br>LifeExpectancy=%{z}<extra></extra>",
           "hovertext": [
            "India"
           ],
           "ids": [
            "India"
           ],
           "legendgroup": "India",
           "marker": {
            "color": "#00cc96",
            "size": {
             "bdata": "dJ/lTA==",
             "dtype": "i4"
            },
            "sizemode": "area",
            "sizeref": 5018178.29,
            "symbol": "circle"
           },
           "mode": "markers",
           "name": "India",
           "scene": "scene",
           "showlegend": true,
           "type": "scatter3d",
           "x": {
            "bdata": "dJ/lTA==",
            "dtype": "i4"
           },
           "y": [
            17475557940077
           ],
           "z": {
            "bdata": "ZmZmZmbGUUA=",
            "dtype": "f8"
           }
          },
          {
           "hovertemplate": "<b>%{hovertext}</b><br><br>Country=Germany<br>Year=2015<br>Population=%{marker.size}<br>GDP=%{y}<br>LifeExpectancy=%{z}<extra></extra>",
           "hovertext": [
            "Germany"
           ],
           "ids": [
            "Germany"
           ],
           "legendgroup": "Germany",
           "marker": {
            "color": "#ab63fa",
            "size": {
             "bdata": "Y3ARWA==",
             "dtype": "i4"
            },
            "sizemode": "area",
            "sizeref": 5018178.29,
            "symbol": "circle"
           },
           "mode": "markers",
           "name": "Germany",
           "scene": "scene",
           "showlegend": true,
           "type": "scatter3d",
           "x": {
            "bdata": "Y3ARWA==",
            "dtype": "i4"
           },
           "y": [
            12770587889115
           ],
           "z": {
            "bdata": "mpmZmZm5VEA=",
            "dtype": "f8"
           }
          },
          {
           "hovertemplate": "<b>%{hovertext}</b><br><br>Country=UK<br>Year=2015<br>Population=%{marker.size}<br>GDP=%{y}<br>LifeExpectancy=%{z}<extra></extra>",
           "hovertext": [
            "UK"
           ],
           "ids": [
            "UK"
           ],
           "legendgroup": "UK",
           "marker": {
            "color": "#FFA15A",
            "size": {
             "bdata": "uM8jWg==",
             "dtype": "i4"
            },
            "sizemode": "area",
            "sizeref": 5018178.29,
            "symbol": "circle"
           },
           "mode": "markers",
           "name": "UK",
           "scene": "scene",
           "showlegend": true,
           "type": "scatter3d",
           "x": {
            "bdata": "uM8jWg==",
            "dtype": "i4"
           },
           "y": [
            7101100961627
           ],
           "z": {
            "bdata": "CtejcD26U0A=",
            "dtype": "f8"
           }
          },
          {
           "hovertemplate": "<b>%{hovertext}</b><br><br>Country=France<br>Year=2015<br>Population=%{marker.size}<br>GDP=%{y}<br>LifeExpectancy=%{z}<extra></extra>",
           "hovertext": [
            "France"
           ],
           "ids": [
            "France"
           ],
           "legendgroup": "France",
           "marker": {
            "color": "#19d3f3",
            "size": {
             "bdata": "+RhMLw==",
             "dtype": "i4"
            },
            "sizemode": "area",
            "sizeref": 5018178.29,
            "symbol": "circle"
           },
           "mode": "markers",
           "name": "France",
           "scene": "scene",
           "showlegend": true,
           "type": "scatter3d",
           "x": {
            "bdata": "+RhMLw==",
            "dtype": "i4"
           },
           "y": [
            16852753281023
           ],
           "z": {
            "bdata": "PQrXo3B9UEA=",
            "dtype": "f8"
           }
          },
          {
           "hovertemplate": "<b>%{hovertext}</b><br><br>Country=Brazil<br>Year=2015<br>Population=%{marker.size}<br>GDP=%{y}<br>LifeExpectancy=%{z}<extra></extra>",
           "hovertext": [
            "Brazil"
           ],
           "ids": [
            "Brazil"
           ],
           "legendgroup": "Brazil",
           "marker": {
            "color": "#FF6692",
            "size": {
             "bdata": "nCfsOA==",
             "dtype": "i4"
            },
            "sizemode": "area",
            "sizeref": 5018178.29,
            "symbol": "circle"
           },
           "mode": "markers",
           "name": "Brazil",
           "scene": "scene",
           "showlegend": true,
           "type": "scatter3d",
           "x": {
            "bdata": "nCfsOA==",
            "dtype": "i4"
           },
           "y": [
            9667447353704
           ],
           "z": {
            "bdata": "j8L1KFzfVEA=",
            "dtype": "f8"
           }
          },
          {
           "hovertemplate": "<b>%{hovertext}</b><br><br>Country=Japan<br>Year=2015<br>Population=%{marker.size}<br>GDP=%{y}<br>LifeExpectancy=%{z}<extra></extra>",
           "hovertext": [
            "Japan"
           ],
           "ids": [
            "Japan"
           ],
           "legendgroup": "Japan",
           "marker": {
            "color": "#B6E880",
            "size": {
             "bdata": "U7qXZA==",
             "dtype": "i4"
            },
            "sizemode": "area",
            "sizeref": 5018178.29,
            "symbol": "circle"
           },
           "mode": "markers",
           "name": "Japan",
           "scene": "scene",
           "showlegend": true,
           "type": "scatter3d",
           "x": {
            "bdata": "U7qXZA==",
            "dtype": "i4"
           },
           "y": [
            32424519213226
           ],
           "z": {
            "bdata": "hetRuB5VVEA=",
            "dtype": "f8"
           }
          },
          {
           "hovertemplate": "<b>%{hovertext}</b><br><br>Country=Canada<br>Year=2015<br>Population=%{marker.size}<br>GDP=%{y}<br>LifeExpectancy=%{z}<extra></extra>",
           "hovertext": [
            "Canada"
           ],
           "ids": [
            "Canada"
           ],
           "legendgroup": "Canada",
           "marker": {
            "color": "#FF97FF",
            "size": {
             "bdata": "XiKpSQ==",
             "dtype": "i4"
            },
            "sizemode": "area",
            "sizeref": 5018178.29,
            "symbol": "circle"
           },
           "mode": "markers",
           "name": "Canada",
           "scene": "scene",
           "showlegend": true,
           "type": "scatter3d",
           "x": {
            "bdata": "XiKpSQ==",
            "dtype": "i4"
           },
           "y": [
            25499989500424
           ],
           "z": {
            "bdata": "uB6F61F4UkA=",
            "dtype": "f8"
           }
          },
          {
           "hovertemplate": "<b>%{hovertext}</b><br><br>Country=Australia<br>Year=2015<br>Population=%{marker.size}<br>GDP=%{y}<br>LifeExpectancy=%{z}<extra></extra>",
           "hovertext": [
            "Australia"
           ],
           "ids": [
            "Australia"
           ],
           "legendgroup": "Australia",
           "marker": {
            "color": "#FECB52",
            "size": {
             "bdata": "bZSbQQ==",
             "dtype": "i4"
            },
            "sizemode": "area",
            "sizeref": 5018178.29,
            "symbol": "circle"
           },
           "mode": "markers",
           "name": "Australia",
           "scene": "scene",
           "showlegend": true,
           "type": "scatter3d",
           "x": {
            "bdata": "bZSbQQ==",
            "dtype": "i4"
           },
           "y": [
            23240433448288
           ],
           "z": {
            "bdata": "H4XrUbg+UEA=",
            "dtype": "f8"
           }
          }
         ],
         "name": "2015"
        },
        {
         "data": [
          {
           "hovertemplate": "<b>%{hovertext}</b><br><br>Country=USA<br>Year=2016<br>Population=%{marker.size}<br>GDP=%{y}<br>LifeExpectancy=%{z}<extra></extra>",
           "hovertext": [
            "USA"
           ],
           "ids": [
            "USA"
           ],
           "legendgroup": "USA",
           "marker": {
            "color": "#636efa",
            "size": {
             "bdata": "TJicYw==",
             "dtype": "i4"
            },
            "sizemode": "area",
            "sizeref": 5018178.29,
            "symbol": "circle"
           },
           "mode": "markers",
           "name": "USA",
           "scene": "scene",
           "showlegend": true,
           "type": "scatter3d",
           "x": {
            "bdata": "TJicYw==",
            "dtype": "i4"
           },
           "y": [
            8056692420283
           ],
           "z": {
            "bdata": "MzMzMzMTVEA=",
            "dtype": "f8"
           }
          },
          {
           "hovertemplate": "<b>%{hovertext}</b><br><br>Country=China<br>Year=2016<br>Population=%{marker.size}<br>GDP=%{y}<br>LifeExpectancy=%{z}<extra></extra>",
           "hovertext": [
            "China"
           ],
           "ids": [
            "China"
           ],
           "legendgroup": "China",
           "marker": {
            "color": "#EF553B",
            "size": {
             "bdata": "iAHcKw==",
             "dtype": "i4"
            },
            "sizemode": "area",
            "sizeref": 5018178.29,
            "symbol": "circle"
           },
           "mode": "markers",
           "name": "China",
           "scene": "scene",
           "showlegend": true,
           "type": "scatter3d",
           "x": {
            "bdata": "iAHcKw==",
            "dtype": "i4"
           },
           "y": [
            34726432741131
           ],
           "z": {
            "bdata": "KVyPwvVIT0A=",
            "dtype": "f8"
           }
          },
          {
           "hovertemplate": "<b>%{hovertext}</b><br><br>Country=India<br>Year=2016<br>Population=%{marker.size}<br>GDP=%{y}<br>LifeExpectancy=%{z}<extra></extra>",
           "hovertext": [
            "India"
           ],
           "ids": [
            "India"
           ],
           "legendgroup": "India",
           "marker": {
            "color": "#00cc96",
            "size": {
             "bdata": "SDwfUA==",
             "dtype": "i4"
            },
            "sizemode": "area",
            "sizeref": 5018178.29,
            "symbol": "circle"
           },
           "mode": "markers",
           "name": "India",
           "scene": "scene",
           "showlegend": true,
           "type": "scatter3d",
           "x": {
            "bdata": "SDwfUA==",
            "dtype": "i4"
           },
           "y": [
            16211267316792
           ],
           "z": {
            "bdata": "mpmZmZnJUUA=",
            "dtype": "f8"
           }
          },
          {
           "hovertemplate": "<b>%{hovertext}</b><br><br>Country=Germany<br>Year=2016<br>Population=%{marker.size}<br>GDP=%{y}<br>LifeExpectancy=%{z}<extra></extra>",
           "hovertext": [
            "Germany"
           ],
           "ids": [
            "Germany"
           ],
           "legendgroup": "Germany",
           "marker": {
            "color": "#ab63fa",
            "size": {
             "bdata": "lViqTw==",
             "dtype": "i4"
            },
            "sizemode": "area",
            "sizeref": 5018178.29,
            "symbol": "circle"
           },
           "mode": "markers",
           "name": "Germany",
           "scene": "scene",
           "showlegend": true,
           "type": "scatter3d",
           "x": {
            "bdata": "lViqTw==",
            "dtype": "i4"
           },
           "y": [
            11702251657934
           ],
           "z": {
            "bdata": "rkfhehTOU0A=",
            "dtype": "f8"
           }
          },
          {
           "hovertemplate": "<b>%{hovertext}</b><br><br>Country=UK<br>Year=2016<br>Population=%{marker.size}<br>GDP=%{y}<br>LifeExpectancy=%{z}<extra></extra>",
           "hovertext": [
            "UK"
           ],
           "ids": [
            "UK"
           ],
           "legendgroup": "UK",
           "marker": {
            "color": "#FFA15A",
            "size": {
             "bdata": "oylGag==",
             "dtype": "i4"
            },
            "sizemode": "area",
            "sizeref": 5018178.29,
            "symbol": "circle"
           },
           "mode": "markers",
           "name": "UK",
           "scene": "scene",
           "showlegend": true,
           "type": "scatter3d",
           "x": {
            "bdata": "oylGag==",
            "dtype": "i4"
           },
           "y": [
            5769330461384
           ],
           "z": {
            "bdata": "rkfhehT+UkA=",
            "dtype": "f8"
           }
          },
          {
           "hovertemplate": "<b>%{hovertext}</b><br><br>Country=France<br>Year=2016<br>Population=%{marker.size}<br>GDP=%{y}<br>LifeExpectancy=%{z}<extra></extra>",
           "hovertext": [
            "France"
           ],
           "ids": [
            "France"
           ],
           "legendgroup": "France",
           "marker": {
            "color": "#19d3f3",
            "size": {
             "bdata": "LG3UMw==",
             "dtype": "i4"
            },
            "sizemode": "area",
            "sizeref": 5018178.29,
            "symbol": "circle"
           },
           "mode": "markers",
           "name": "France",
           "scene": "scene",
           "showlegend": true,
           "type": "scatter3d",
           "x": {
            "bdata": "LG3UMw==",
            "dtype": "i4"
           },
           "y": [
            24531672337392
           ],
           "z": {
            "bdata": "SOF6FK6XUEA=",
            "dtype": "f8"
           }
          },
          {
           "hovertemplate": "<b>%{hovertext}</b><br><br>Country=Brazil<br>Year=2016<br>Population=%{marker.size}<br>GDP=%{y}<br>LifeExpectancy=%{z}<extra></extra>",
           "hovertext": [
            "Brazil"
           ],
           "ids": [
            "Brazil"
           ],
           "legendgroup": "Brazil",
           "marker": {
            "color": "#FF6692",
            "size": {
             "bdata": "glneMw==",
             "dtype": "i4"
            },
            "sizemode": "area",
            "sizeref": 5018178.29,
            "symbol": "circle"
           },
           "mode": "markers",
           "name": "Brazil",
           "scene": "scene",
           "showlegend": true,
           "type": "scatter3d",
           "x": {
            "bdata": "glneMw==",
            "dtype": "i4"
           },
           "y": [
            10306021204142
           ],
           "z": {
            "bdata": "rkfhehTOU0A=",
            "dtype": "f8"
           }
          },
          {
           "hovertemplate": "<b>%{hovertext}</b><br><br>Country=Japan<br>Year=2016<br>Population=%{marker.size}<br>GDP=%{y}<br>LifeExpectancy=%{z}<extra></extra>",
           "hovertext": [
            "Japan"
           ],
           "ids": [
            "Japan"
           ],
           "legendgroup": "Japan",
           "marker": {
            "color": "#B6E880",
            "size": {
             "bdata": "Now3YQ==",
             "dtype": "i4"
            },
            "sizemode": "area",
            "sizeref": 5018178.29,
            "symbol": "circle"
           },
           "mode": "markers",
           "name": "Japan",
           "scene": "scene",
           "showlegend": true,
           "type": "scatter3d",
           "x": {
            "bdata": "Now3YQ==",
            "dtype": "i4"
           },
           "y": [
            25728639490967
           ],
           "z": {
            "bdata": "hetRuB51VUA=",
            "dtype": "f8"
           }
          },
          {
           "hovertemplate": "<b>%{hovertext}</b><br><br>Country=Canada<br>Year=2016<br>Population=%{marker.size}<br>GDP=%{y}<br>LifeExpectancy=%{z}<extra></extra>",
           "hovertext": [
            "Canada"
           ],
           "ids": [
            "Canada"
           ],
           "legendgroup": "Canada",
           "marker": {
            "color": "#FF97FF",
            "size": {
             "bdata": "n/FYSg==",
             "dtype": "i4"
            },
            "sizemode": "area",
            "sizeref": 5018178.29,
            "symbol": "circle"
           },
           "mode": "markers",
           "name": "Canada",
           "scene": "scene",
           "showlegend": true,
           "type": "scatter3d",
           "x": {
            "bdata": "n/FYSg==",
            "dtype": "i4"
           },
           "y": [
            33144505063883
           ],
           "z": {
            "bdata": "KVyPwvWIUkA=",
            "dtype": "f8"
           }
          },
          {
           "hovertemplate": "<b>%{hovertext}</b><br><br>Country=Australia<br>Year=2016<br>Population=%{marker.size}<br>GDP=%{y}<br>LifeExpectancy=%{z}<extra></extra>",
           "hovertext": [
            "Australia"
           ],
           "ids": [
            "Australia"
           ],
           "legendgroup": "Australia",
           "marker": {
            "color": "#FECB52",
            "size": {
             "bdata": "4YuyPg==",
             "dtype": "i4"
            },
            "sizemode": "area",
            "sizeref": 5018178.29,
            "symbol": "circle"
           },
           "mode": "markers",
           "name": "Australia",
           "scene": "scene",
           "showlegend": true,
           "type": "scatter3d",
           "x": {
            "bdata": "4YuyPg==",
            "dtype": "i4"
           },
           "y": [
            28122617187136
           ],
           "z": {
            "bdata": "ZmZmZmaGUEA=",
            "dtype": "f8"
           }
          }
         ],
         "name": "2016"
        },
        {
         "data": [
          {
           "hovertemplate": "<b>%{hovertext}</b><br><br>Country=USA<br>Year=2017<br>Population=%{marker.size}<br>GDP=%{y}<br>LifeExpectancy=%{z}<extra></extra>",
           "hovertext": [
            "USA"
           ],
           "ids": [
            "USA"
           ],
           "legendgroup": "USA",
           "marker": {
            "color": "#636efa",
            "size": {
             "bdata": "SOjbYA==",
             "dtype": "i4"
            },
            "sizemode": "area",
            "sizeref": 5018178.29,
            "symbol": "circle"
           },
           "mode": "markers",
           "name": "USA",
           "scene": "scene",
           "showlegend": true,
           "type": "scatter3d",
           "x": {
            "bdata": "SOjbYA==",
            "dtype": "i4"
           },
           "y": [
            8372777007710
           ],
           "z": {
            "bdata": "uB6F61EYU0A=",
            "dtype": "f8"
           }
          },
          {
           "hovertemplate": "<b>%{hovertext}</b><br><br>Country=China<br>Year=2017<br>Population=%{marker.size}<br>GDP=%{y}<br>LifeExpectancy=%{z}<extra></extra>",
           "hovertext": [
            "China"
           ],
           "ids": [
            "China"
           ],
           "legendgroup": "China",
           "marker": {
            "color": "#EF553B",
            "size": {
             "bdata": "EiQsKQ==",
             "dtype": "i4"
            },
            "sizemode": "area",
            "sizeref": 5018178.29,
            "symbol": "circle"
           },
           "mode": "markers",
           "name": "China",
           "scene": "scene",
           "showlegend": true,
           "type": "scatter3d",
           "x": {
            "bdata": "EiQsKQ==",
            "dtype": "i4"
           },
           "y": [
            28055141025438
           ],
           "z": {
            "bdata": "j8L1KFxPUEA=",
            "dtype": "f8"
           }
          },
          {
           "hovertemplate": "<b>%{hovertext}</b><br><br>Country=India<br>Year=2017<br>Population=%{marker.size}<br>GDP=%{y}<br>LifeExpectancy=%{z}<extra></extra>",
           "hovertext": [
            "India"
           ],
           "ids": [
            "India"
           ],
           "legendgroup": "India",
           "marker": {
            "color": "#00cc96",
            "size": {
             "bdata": "CyIgVw==",
             "dtype": "i4"
            },
            "sizemode": "area",
            "sizeref": 5018178.29,
            "symbol": "circle"
           },
           "mode": "markers",
           "name": "India",
           "scene": "scene",
           "showlegend": true,
           "type": "scatter3d",
           "x": {
            "bdata": "CyIgVw==",
            "dtype": "i4"
           },
           "y": [
            15810718506214
           ],
           "z": {
            "bdata": "rkfhehQuUUA=",
            "dtype": "f8"
           }
          },
          {
           "hovertemplate": "<b>%{hovertext}</b><br><br>Country=Germany<br>Year=2017<br>Population=%{marker.size}<br>GDP=%{y}<br>LifeExpectancy=%{z}<extra></extra>",
           "hovertext": [
            "Germany"
           ],
           "ids": [
            "Germany"
           ],
           "legendgroup": "Germany",
           "marker": {
            "color": "#ab63fa",
            "size": {
             "bdata": "IDcrVA==",
             "dtype": "i4"
            },
            "sizemode": "area",
            "sizeref": 5018178.29,
            "symbol": "circle"
           },
           "mode": "markers",
           "name": "Germany",
           "scene": "scene",
           "showlegend": true,
           "type": "scatter3d",
           "x": {
            "bdata": "IDcrVA==",
            "dtype": "i4"
           },
           "y": [
            13161474886818
           ],
           "z": {
            "bdata": "ZmZmZmYWVEA=",
            "dtype": "f8"
           }
          },
          {
           "hovertemplate": "<b>%{hovertext}</b><br><br>Country=UK<br>Year=2017<br>Population=%{marker.size}<br>GDP=%{y}<br>LifeExpectancy=%{z}<extra></extra>",
           "hovertext": [
            "UK"
           ],
           "ids": [
            "UK"
           ],
           "legendgroup": "UK",
           "marker": {
            "color": "#FFA15A",
            "size": {
             "bdata": "tIswXg==",
             "dtype": "i4"
            },
            "sizemode": "area",
            "sizeref": 5018178.29,
            "symbol": "circle"
           },
           "mode": "markers",
           "name": "UK",
           "scene": "scene",
           "showlegend": true,
           "type": "scatter3d",
           "x": {
            "bdata": "tIswXg==",
            "dtype": "i4"
           },
           "y": [
            5505357187741
           ],
           "z": {
            "bdata": "pHA9CteDU0A=",
            "dtype": "f8"
           }
          },
          {
           "hovertemplate": "<b>%{hovertext}</b><br><br>Country=France<br>Year=2017<br>Population=%{marker.size}<br>GDP=%{y}<br>LifeExpectancy=%{z}<extra></extra>",
           "hovertext": [
            "France"
           ],
           "ids": [
            "France"
           ],
           "legendgroup": "France",
           "marker": {
            "color": "#19d3f3",
            "size": {
             "bdata": "PdbuNg==",
             "dtype": "i4"
            },
            "sizemode": "area",
            "sizeref": 5018178.29,
            "symbol": "circle"
           },
           "mode": "markers",
           "name": "France",
           "scene": "scene",
           "showlegend": true,
           "type": "scatter3d",
           "x": {
            "bdata": "PdbuNg==",
            "dtype": "i4"
           },
           "y": [
            19154041898195
           ],
           "z": {
            "bdata": "CtejcD0KUEA=",
            "dtype": "f8"
           }
          },
          {
           "hovertemplate": "<b>%{hovertext}</b><br><br>Country=Brazil<br>Year=2017<br>Population=%{marker.size}<br>GDP=%{y}<br>LifeExpectancy=%{z}<extra></extra>",
           "hovertext": [
            "Brazil"
           ],
           "ids": [
            "Brazil"
           ],
           "legendgroup": "Brazil",
           "marker": {
            "color": "#FF6692",
            "size": {
             "bdata": "ETomOQ==",
             "dtype": "i4"
            },
            "sizemode": "area",
            "sizeref": 5018178.29,
            "symbol": "circle"
           },
           "mode": "markers",
           "name": "Brazil",
           "scene": "scene",
           "showlegend": true,
           "type": "scatter3d",
           "x": {
            "bdata": "ETomOQ==",
            "dtype": "i4"
           },
           "y": [
            8589144215021
           ],
           "z": {
            "bdata": "KVyPwvX4U0A=",
            "dtype": "f8"
           }
          },
          {
           "hovertemplate": "<b>%{hovertext}</b><br><br>Country=Japan<br>Year=2017<br>Population=%{marker.size}<br>GDP=%{y}<br>LifeExpectancy=%{z}<extra></extra>",
           "hovertext": [
            "Japan"
           ],
           "ids": [
            "Japan"
           ],
           "legendgroup": "Japan",
           "marker": {
            "color": "#B6E880",
            "size": {
             "bdata": "aaXmaA==",
             "dtype": "i4"
            },
            "sizemode": "area",
            "sizeref": 5018178.29,
            "symbol": "circle"
           },
           "mode": "markers",
           "name": "Japan",
           "scene": "scene",
           "showlegend": true,
           "type": "scatter3d",
           "x": {
            "bdata": "aaXmaA==",
            "dtype": "i4"
           },
           "y": [
            33222964164366
           ],
           "z": {
            "bdata": "SOF6FK7XVEA=",
            "dtype": "f8"
           }
          },
          {
           "hovertemplate": "<b>%{hovertext}</b><br><br>Country=Canada<br>Year=2017<br>Population=%{marker.size}<br>GDP=%{y}<br>LifeExpectancy=%{z}<extra></extra>",
           "hovertext": [
            "Canada"
           ],
           "ids": [
            "Canada"
           ],
           "legendgroup": "Canada",
           "marker": {
            "color": "#FF97FF",
            "size": {
             "bdata": "eL/kTg==",
             "dtype": "i4"
            },
            "sizemode": "area",
            "sizeref": 5018178.29,
            "symbol": "circle"
           },
           "mode": "markers",
           "name": "Canada",
           "scene": "scene",
           "showlegend": true,
           "type": "scatter3d",
           "x": {
            "bdata": "eL/kTg==",
            "dtype": "i4"
           },
           "y": [
            39035883479803
           ],
           "z": {
            "bdata": "cT0K16PwUkA=",
            "dtype": "f8"
           }
          },
          {
           "hovertemplate": "<b>%{hovertext}</b><br><br>Country=Australia<br>Year=2017<br>Population=%{marker.size}<br>GDP=%{y}<br>LifeExpectancy=%{z}<extra></extra>",
           "hovertext": [
            "Australia"
           ],
           "ids": [
            "Australia"
           ],
           "legendgroup": "Australia",
           "marker": {
            "color": "#FECB52",
            "size": {
             "bdata": "iDTbPQ==",
             "dtype": "i4"
            },
            "sizemode": "area",
            "sizeref": 5018178.29,
            "symbol": "circle"
           },
           "mode": "markers",
           "name": "Australia",
           "scene": "scene",
           "showlegend": true,
           "type": "scatter3d",
           "x": {
            "bdata": "iDTbPQ==",
            "dtype": "i4"
           },
           "y": [
            24187444012854
           ],
           "z": {
            "bdata": "9ihcj8JFUEA=",
            "dtype": "f8"
           }
          }
         ],
         "name": "2017"
        },
        {
         "data": [
          {
           "hovertemplate": "<b>%{hovertext}</b><br><br>Country=USA<br>Year=2018<br>Population=%{marker.size}<br>GDP=%{y}<br>LifeExpectancy=%{z}<extra></extra>",
           "hovertext": [
            "USA"
           ],
           "ids": [
            "USA"
           ],
           "legendgroup": "USA",
           "marker": {
            "color": "#636efa",
            "size": {
             "bdata": "Oz83WA==",
             "dtype": "i4"
            },
            "sizemode": "area",
            "sizeref": 5018178.29,
            "symbol": "circle"
           },
           "mode": "markers",
           "name": "USA",
           "scene": "scene",
           "showlegend": true,
           "type": "scatter3d",
           "x": {
            "bdata": "Oz83WA==",
            "dtype": "i4"
           },
           "y": [
            5550662409725
           ],
           "z": {
            "bdata": "w/UoXI9yU0A=",
            "dtype": "f8"
           }
          },
          {
           "hovertemplate": "<b>%{hovertext}</b><br><br>Country=China<br>Year=2018<br>Population=%{marker.size}<br>GDP=%{y}<br>LifeExpectancy=%{z}<extra></extra>",
           "hovertext": [
            "China"
           ],
           "ids": [
            "China"
           ],
           "legendgroup": "China",
           "marker": {
            "color": "#EF553B",
            "size": {
             "bdata": "T1snKw==",
             "dtype": "i4"
            },
            "sizemode": "area",
            "sizeref": 5018178.29,
            "symbol": "circle"
           },
           "mode": "markers",
           "name": "China",
           "scene": "scene",
           "showlegend": true,
           "type": "scatter3d",
           "x": {
            "bdata": "T1snKw==",
            "dtype": "i4"
           },
           "y": [
            33663771082782
           ],
           "z": {
            "bdata": "FK5H4Xq0TkA=",
            "dtype": "f8"
           }
          },
          {
           "hovertemplate": "<b>%{hovertext}</b><br><br>Country=India<br>Year=2018<br>Population=%{marker.size}<br>GDP=%{y}<br>LifeExpectancy=%{z}<extra></extra>",
           "hovertext": [
            "India"
           ],
           "ids": [
            "India"
           ],
           "legendgroup": "India",
           "marker": {
            "color": "#00cc96",
            "size": {
             "bdata": "5qMGTg==",
             "dtype": "i4"
            },
            "sizemode": "area",
            "sizeref": 5018178.29,
            "symbol": "circle"
           },
           "mode": "markers",
           "name": "India",
           "scene": "scene",
           "showlegend": true,
           "type": "scatter3d",
           "x": {
            "bdata": "5qMGTg==",
            "dtype": "i4"
           },
           "y": [
            19817084221038
           ],
           "z": {
            "bdata": "XI/C9SgMUkA=",
            "dtype": "f8"
           }
          },
          {
           "hovertemplate": "<b>%{hovertext}</b><br><br>Country=Germany<br>Year=2018<br>Population=%{marker.size}<br>GDP=%{y}<br>LifeExpectancy=%{z}<extra></extra>",
           "hovertext": [
            "Germany"
           ],
           "ids": [
            "Germany"
           ],
           "legendgroup": "Germany",
           "marker": {
            "color": "#ab63fa",
            "size": {
             "bdata": "p9nXVw==",
             "dtype": "i4"
            },
            "sizemode": "area",
            "sizeref": 5018178.29,
            "symbol": "circle"
           },
           "mode": "markers",
           "name": "Germany",
           "scene": "scene",
           "showlegend": true,
           "type": "scatter3d",
           "x": {
            "bdata": "p9nXVw==",
            "dtype": "i4"
           },
           "y": [
            16406044649798
           ],
           "z": {
            "bdata": "hetRuB71VEA=",
            "dtype": "f8"
           }
          },
          {
           "hovertemplate": "<b>%{hovertext}</b><br><br>Country=UK<br>Year=2018<br>Population=%{marker.size}<br>GDP=%{y}<br>LifeExpectancy=%{z}<extra></extra>",
           "hovertext": [
            "UK"
           ],
           "ids": [
            "UK"
           ],
           "legendgroup": "UK",
           "marker": {
            "color": "#FFA15A",
            "size": {
             "bdata": "vfofbg==",
             "dtype": "i4"
            },
            "sizemode": "area",
            "sizeref": 5018178.29,
            "symbol": "circle"
           },
           "mode": "markers",
           "name": "UK",
           "scene": "scene",
           "showlegend": true,
           "type": "scatter3d",
           "x": {
            "bdata": "vfofbg==",
            "dtype": "i4"
           },
           "y": [
            7007823819764
           ],
           "z": {
            "bdata": "pHA9CtczU0A=",
            "dtype": "f8"
           }
          },
          {
           "hovertemplate": "<b>%{hovertext}</b><br><br>Country=France<br>Year=2018<br>Population=%{marker.size}<br>GDP=%{y}<br>LifeExpectancy=%{z}<extra></extra>",
           "hovertext": [
            "France"
           ],
           "ids": [
            "France"
           ],
           "legendgroup": "France",
           "marker": {
            "color": "#19d3f3",
            "size": {
             "bdata": "rTsXNw==",
             "dtype": "i4"
            },
            "sizemode": "area",
            "sizeref": 5018178.29,
            "symbol": "circle"
           },
           "mode": "markers",
           "name": "France",
           "scene": "scene",
           "showlegend": true,
           "type": "scatter3d",
           "x": {
            "bdata": "rTsXNw==",
            "dtype": "i4"
           },
           "y": [
            25894721519297
           ],
           "z": {
            "bdata": "uB6F61EIUUA=",
            "dtype": "f8"
           }
          },
          {
           "hovertemplate": "<b>%{hovertext}</b><br><br>Country=Brazil<br>Year=2018<br>Population=%{marker.size}<br>GDP=%{y}<br>LifeExpectancy=%{z}<extra></extra>",
           "hovertext": [
            "Brazil"
           ],
           "ids": [
            "Brazil"
           ],
           "legendgroup": "Brazil",
           "marker": {
            "color": "#FF6692",
            "size": {
             "bdata": "2OCmNA==",
             "dtype": "i4"
            },
            "sizemode": "area",
            "sizeref": 5018178.29,
            "symbol": "circle"
           },
           "mode": "markers",
           "name": "Brazil",
           "scene": "scene",
           "showlegend": true,
           "type": "scatter3d",
           "x": {
            "bdata": "2OCmNA==",
            "dtype": "i4"
           },
           "y": [
            11972744314495
           ],
           "z": {
            "bdata": "XI/C9SjsVEA=",
            "dtype": "f8"
           }
          },
          {
           "hovertemplate": "<b>%{hovertext}</b><br><br>Country=Japan<br>Year=2018<br>Population=%{marker.size}<br>GDP=%{y}<br>LifeExpectancy=%{z}<extra></extra>",
           "hovertext": [
            "Japan"
           ],
           "ids": [
            "Japan"
           ],
           "legendgroup": "Japan",
           "marker": {
            "color": "#B6E880",
            "size": {
             "bdata": "V1NGXw==",
             "dtype": "i4"
            },
            "sizemode": "area",
            "sizeref": 5018178.29,
            "symbol": "circle"
           },
           "mode": "markers",
           "name": "Japan",
           "scene": "scene",
           "showlegend": true,
           "type": "scatter3d",
           "x": {
            "bdata": "V1NGXw==",
            "dtype": "i4"
           },
           "y": [
            25871186445892
           ],
           "z": {
            "bdata": "exSuR+FKVEA=",
            "dtype": "f8"
           }
          },
          {
           "hovertemplate": "<b>%{hovertext}</b><br><br>Country=Canada<br>Year=2018<br>Population=%{marker.size}<br>GDP=%{y}<br>LifeExpectancy=%{z}<extra></extra>",
           "hovertext": [
            "Canada"
           ],
           "ids": [
            "Canada"
           ],
           "legendgroup": "Canada",
           "marker": {
            "color": "#FF97FF",
            "size": {
             "bdata": "lOzWVg==",
             "dtype": "i4"
            },
            "sizemode": "area",
            "sizeref": 5018178.29,
            "symbol": "circle"
           },
           "mode": "markers",
           "name": "Canada",
           "scene": "scene",
           "showlegend": true,
           "type": "scatter3d",
           "x": {
            "bdata": "lOzWVg==",
            "dtype": "i4"
           },
           "y": [
            28013848605103
           ],
           "z": {
            "bdata": "PQrXo3CdUkA=",
            "dtype": "f8"
           }
          },
          {
           "hovertemplate": "<b>%{hovertext}</b><br><br>Country=Australia<br>Year=2018<br>Population=%{marker.size}<br>GDP=%{y}<br>LifeExpectancy=%{z}<extra></extra>",
           "hovertext": [
            "Australia"
           ],
           "ids": [
            "Australia"
           ],
           "legendgroup": "Australia",
           "marker": {
            "color": "#FECB52",
            "size": {
             "bdata": "FBr3Sg==",
             "dtype": "i4"
            },
            "sizemode": "area",
            "sizeref": 5018178.29,
            "symbol": "circle"
           },
           "mode": "markers",
           "name": "Australia",
           "scene": "scene",
           "showlegend": true,
           "type": "scatter3d",
           "x": {
            "bdata": "FBr3Sg==",
            "dtype": "i4"
           },
           "y": [
            19342572718735
           ],
           "z": {
            "bdata": "AAAAAAAwUEA=",
            "dtype": "f8"
           }
          }
         ],
         "name": "2018"
        },
        {
         "data": [
          {
           "hovertemplate": "<b>%{hovertext}</b><br><br>Country=USA<br>Year=2019<br>Population=%{marker.size}<br>GDP=%{y}<br>LifeExpectancy=%{z}<extra></extra>",
           "hovertext": [
            "USA"
           ],
           "ids": [
            "USA"
           ],
           "legendgroup": "USA",
           "marker": {
            "color": "#636efa",
            "size": {
             "bdata": "1U/jXQ==",
             "dtype": "i4"
            },
            "sizemode": "area",
            "sizeref": 5018178.29,
            "symbol": "circle"
           },
           "mode": "markers",
           "name": "USA",
           "scene": "scene",
           "showlegend": true,
           "type": "scatter3d",
           "x": {
            "bdata": "1U/jXQ==",
            "dtype": "i4"
           },
           "y": [
            6429046795735
           ],
           "z": {
            "bdata": "AAAAAABAVEA=",
            "dtype": "f8"
           }
          },
          {
           "hovertemplate": "<b>%{hovertext}</b><br><br>Country=China<br>Year=2019<br>Population=%{marker.size}<br>GDP=%{y}<br>LifeExpectancy=%{z}<extra></extra>",
           "hovertext": [
            "China"
           ],
           "ids": [
            "China"
           ],
           "legendgroup": "China",
           "marker": {
            "color": "#EF553B",
            "size": {
             "bdata": "1q+LLA==",
             "dtype": "i4"
            },
            "sizemode": "area",
            "sizeref": 5018178.29,
            "symbol": "circle"
           },
           "mode": "markers",
           "name": "China",
           "scene": "scene",
           "showlegend": true,
           "type": "scatter3d",
           "x": {
            "bdata": "1q+LLA==",
            "dtype": "i4"
           },
           "y": [
            28965784560498
           ],
           "z": {
            "bdata": "H4XrUbgeT0A=",
            "dtype": "f8"
           }
          },
          {
           "hovertemplate": "<b>%{hovertext}</b><br><br>Country=India<br>Year=2019<br>Population=%{marker.size}<br>GDP=%{y}<br>LifeExpectancy=%{z}<extra></extra>",
           "hovertext": [
            "India"
           ],
           "ids": [
            "India"
           ],
           "legendgroup": "India",
           "marker": {
            "color": "#00cc96",
            "size": {
             "bdata": "ZapxWw==",
             "dtype": "i4"
            },
            "sizemode": "area",
            "sizeref": 5018178.29,
            "symbol": "circle"
           },
           "mode": "markers",
           "name": "India",
           "scene": "scene",
           "showlegend": true,
           "type": "scatter3d",
           "x": {
            "bdata": "ZapxWw==",
            "dtype": "i4"
           },
           "y": [
            15272122031188
           ],
           "z": {
            "bdata": "pHA9CtdjUUA=",
            "dtype": "f8"
           }
          },
          {
           "hovertemplate": "<b>%{hovertext}</b><br><br>Country=Germany<br>Year=2019<br>Population=%{marker.size}<br>GDP=%{y}<br>LifeExpectancy=%{z}<extra></extra>",
           "hovertext": [
            "Germany"
           ],
           "ids": [
            "Germany"
           ],
           "legendgroup": "Germany",
           "marker": {
            "color": "#ab63fa",
            "size": {
             "bdata": "jLkGUQ==",
             "dtype": "i4"
            },
            "sizemode": "area",
            "sizeref": 5018178.29,
            "symbol": "circle"
           },
           "mode": "markers",
           "name": "Germany",
           "scene": "scene",
           "showlegend": true,
           "type": "scatter3d",
           "x": {
            "bdata": "jLkGUQ==",
            "dtype": "i4"
           },
           "y": [
            12089847700582
           ],
           "z": {
            "bdata": "9ihcj8KlVEA=",
            "dtype": "f8"
           }
          },
          {
           "hovertemplate": "<b>%{hovertext}</b><br><br>Country=UK<br>Year=2019<br>Population=%{marker.size}<br>GDP=%{y}<br>LifeExpectancy=%{z}<extra></extra>",
           "hovertext": [
            "UK"
           ],
           "ids": [
            "UK"
           ],
           "legendgroup": "UK",
           "marker": {
            "color": "#FFA15A",
            "size": {
             "bdata": "lIekdw==",
             "dtype": "i4"
            },
            "sizemode": "area",
            "sizeref": 5018178.29,
            "symbol": "circle"
           },
           "mode": "markers",
           "name": "UK",
           "scene": "scene",
           "showlegend": true,
           "type": "scatter3d",
           "x": {
            "bdata": "lIekdw==",
            "dtype": "i4"
           },
           "y": [
            7603486543512
           ],
           "z": {
            "bdata": "9ihcj8KlU0A=",
            "dtype": "f8"
           }
          },
          {
           "hovertemplate": "<b>%{hovertext}</b><br><br>Country=France<br>Year=2019<br>Population=%{marker.size}<br>GDP=%{y}<br>LifeExpectancy=%{z}<extra></extra>",
           "hovertext": [
            "France"
           ],
           "ids": [
            "France"
           ],
           "legendgroup": "France",
           "marker": {
            "color": "#19d3f3",
            "size": {
             "bdata": "wUvpMg==",
             "dtype": "i4"
            },
            "sizemode": "area",
            "sizeref": 5018178.29,
            "symbol": "circle"
           },
           "mode": "markers",
           "name": "France",
           "scene": "scene",
           "showlegend": true,
           "type": "scatter3d",
           "x": {
            "bdata": "wUvpMg==",
            "dtype": "i4"
           },
           "y": [
            21294455428757
           ],
           "z": {
            "bdata": "SOF6FK7XUEA=",
            "dtype": "f8"
           }
          },
          {
           "hovertemplate": "<b>%{hovertext}</b><br><br>Country=Brazil<br>Year=2019<br>Population=%{marker.size}<br>GDP=%{y}<br>LifeExpectancy=%{z}<extra></extra>",
           "hovertext": [
            "Brazil"
           ],
           "ids": [
            "Brazil"
           ],
           "legendgroup": "Brazil",
           "marker": {
            "color": "#FF6692",
            "size": {
             "bdata": "lt1zPA==",
             "dtype": "i4"
            },
            "sizemode": "area",
            "sizeref": 5018178.29,
            "symbol": "circle"
           },
           "mode": "markers",
           "name": "Brazil",
           "scene": "scene",
           "showlegend": true,
           "type": "scatter3d",
           "x": {
            "bdata": "lt1zPA==",
            "dtype": "i4"
           },
           "y": [
            14764020874533
           ],
           "z": {
            "bdata": "XI/C9ShsVEA=",
            "dtype": "f8"
           }
          },
          {
           "hovertemplate": "<b>%{hovertext}</b><br><br>Country=Japan<br>Year=2019<br>Population=%{marker.size}<br>GDP=%{y}<br>LifeExpectancy=%{z}<extra></extra>",
           "hovertext": [
            "Japan"
           ],
           "ids": [
            "Japan"
           ],
           "legendgroup": "Japan",
           "marker": {
            "color": "#B6E880",
            "size": {
             "bdata": "yo9SbQ==",
             "dtype": "i4"
            },
            "sizemode": "area",
            "sizeref": 5018178.29,
            "symbol": "circle"
           },
           "mode": "markers",
           "name": "Japan",
           "scene": "scene",
           "showlegend": true,
           "type": "scatter3d",
           "x": {
            "bdata": "yo9SbQ==",
            "dtype": "i4"
           },
           "y": [
            35790738816036
           ],
           "z": {
            "bdata": "w/UoXI/SVUA=",
            "dtype": "f8"
           }
          },
          {
           "hovertemplate": "<b>%{hovertext}</b><br><br>Country=Canada<br>Year=2019<br>Population=%{marker.size}<br>GDP=%{y}<br>LifeExpectancy=%{z}<extra></extra>",
           "hovertext": [
            "Canada"
           ],
           "ids": [
            "Canada"
           ],
           "legendgroup": "Canada",
           "marker": {
            "color": "#FF97FF",
            "size": {
             "bdata": "00/cSQ==",
             "dtype": "i4"
            },
            "sizemode": "area",
            "sizeref": 5018178.29,
            "symbol": "circle"
           },
           "mode": "markers",
           "name": "Canada",
           "scene": "scene",
           "showlegend": true,
           "type": "scatter3d",
           "x": {
            "bdata": "00/cSQ==",
            "dtype": "i4"
           },
           "y": [
            28664945759139
           ],
           "z": {
            "bdata": "hetRuB7FUkA=",
            "dtype": "f8"
           }
          },
          {
           "hovertemplate": "<b>%{hovertext}</b><br><br>Country=Australia<br>Year=2019<br>Population=%{marker.size}<br>GDP=%{y}<br>LifeExpectancy=%{z}<extra></extra>",
           "hovertext": [
            "Australia"
           ],
           "ids": [
            "Australia"
           ],
           "legendgroup": "Australia",
           "marker": {
            "color": "#FECB52",
            "size": {
             "bdata": "baoeQQ==",
             "dtype": "i4"
            },
            "sizemode": "area",
            "sizeref": 5018178.29,
            "symbol": "circle"
           },
           "mode": "markers",
           "name": "Australia",
           "scene": "scene",
           "showlegend": true,
           "type": "scatter3d",
           "x": {
            "bdata": "baoeQQ==",
            "dtype": "i4"
           },
           "y": [
            25759032834769
           ],
           "z": {
            "bdata": "4XoUrkcBUUA=",
            "dtype": "f8"
           }
          }
         ],
         "name": "2019"
        },
        {
         "data": [
          {
           "hovertemplate": "<b>%{hovertext}</b><br><br>Country=USA<br>Year=2020<br>Population=%{marker.size}<br>GDP=%{y}<br>LifeExpectancy=%{z}<extra></extra>",
           "hovertext": [
            "USA"
           ],
           "ids": [
            "USA"
           ],
           "legendgroup": "USA",
           "marker": {
            "color": "#636efa",
            "size": {
             "bdata": "3XUCXg==",
             "dtype": "i4"
            },
            "sizemode": "area",
            "sizeref": 5018178.29,
            "symbol": "circle"
           },
           "mode": "markers",
           "name": "USA",
           "scene": "scene",
           "showlegend": true,
           "type": "scatter3d",
           "x": {
            "bdata": "3XUCXg==",
            "dtype": "i4"
           },
           "y": [
            6647036903714
           ],
           "z": {
            "bdata": "4XoUrkfhU0A=",
            "dtype": "f8"
           }
          },
          {
           "hovertemplate": "<b>%{hovertext}</b><br><br>Country=China<br>Year=2020<br>Population=%{marker.size}<br>GDP=%{y}<br>LifeExpectancy=%{z}<extra></extra>",
           "hovertext": [
            "China"
           ],
           "ids": [
            "China"
           ],
           "legendgroup": "China",
           "marker": {
            "color": "#EF553B",
            "size": {
             "bdata": "xSx+Lw==",
             "dtype": "i4"
            },
            "sizemode": "area",
            "sizeref": 5018178.29,
            "symbol": "circle"
           },
           "mode": "markers",
           "name": "China",
           "scene": "scene",
           "showlegend": true,
           "type": "scatter3d",
           "x": {
            "bdata": "xSx+Lw==",
            "dtype": "i4"
           },
           "y": [
            33100145082959
           ],
           "z": {
            "bdata": "UrgehetBUEA=",
            "dtype": "f8"
           }
          },
          {
           "hovertemplate": "<b>%{hovertext}</b><br><br>Country=India<br>Year=2020<br>Population=%{marker.size}<br>GDP=%{y}<br>LifeExpectancy=%{z}<extra></extra>",
           "hovertext": [
            "India"
           ],
           "ids": [
            "India"
           ],
           "legendgroup": "India",
           "marker": {
            "color": "#00cc96",
            "size": {
             "bdata": "tbRZXw==",
             "dtype": "i4"
            },
            "sizemode": "area",
            "sizeref": 5018178.29,
            "symbol": "circle"
           },
           "mode": "markers",
           "name": "India",
           "scene": "scene",
           "showlegend": true,
           "type": "scatter3d",
           "x": {
            "bdata": "tbRZXw==",
            "dtype": "i4"
           },
           "y": [
            21718886874637
           ],
           "z": {
            "bdata": "UrgehesxUkA=",
            "dtype": "f8"
           }
          },
          {
           "hovertemplate": "<b>%{hovertext}</b><br><br>Country=Germany<br>Year=2020<br>Population=%{marker.size}<br>GDP=%{y}<br>LifeExpectancy=%{z}<extra></extra>",
           "hovertext": [
            "Germany"
           ],
           "ids": [
            "Germany"
           ],
           "legendgroup": "Germany",
           "marker": {
            "color": "#ab63fa",
            "size": {
             "bdata": "RRrRWA==",
             "dtype": "i4"
            },
            "sizemode": "area",
            "sizeref": 5018178.29,
            "symbol": "circle"
           },
           "mode": "markers",
           "name": "Germany",
           "scene": "scene",
           "showlegend": true,
           "type": "scatter3d",
           "x": {
            "bdata": "RRrRWA==",
            "dtype": "i4"
           },
           "y": [
            12739777813673
           ],
           "z": {
            "bdata": "zczMzMwcVEA=",
            "dtype": "f8"
           }
          },
          {
           "hovertemplate": "<b>%{hovertext}</b><br><br>Country=UK<br>Year=2020<br>Population=%{marker.size}<br>GDP=%{y}<br>LifeExpectancy=%{z}<extra></extra>",
           "hovertext": [
            "UK"
           ],
           "ids": [
            "UK"
           ],
           "legendgroup": "UK",
           "marker": {
            "color": "#FFA15A",
            "size": {
             "bdata": "ryA2bg==",
             "dtype": "i4"
            },
            "sizemode": "area",
            "sizeref": 5018178.29,
            "symbol": "circle"
           },
           "mode": "markers",
           "name": "UK",
           "scene": "scene",
           "showlegend": true,
           "type": "scatter3d",
           "x": {
            "bdata": "ryA2bg==",
            "dtype": "i4"
           },
           "y": [
            6591488698954
           ],
           "z": {
            "bdata": "XI/C9Sg8U0A=",
            "dtype": "f8"
           }
          },
          {
           "hovertemplate": "<b>%{hovertext}</b><br><br>Country=France<br>Year=2020<br>Population=%{marker.size}<br>GDP=%{y}<br>LifeExpectancy=%{z}<extra></extra>",
           "hovertext": [
            "France"
           ],
           "ids": [
            "France"
           ],
           "legendgroup": "France",
           "marker": {
            "color": "#19d3f3",
            "size": {
             "bdata": "+ihlMg==",
             "dtype": "i4"
            },
            "sizemode": "area",
            "sizeref": 5018178.29,
            "symbol": "circle"
           },
           "mode": "markers",
           "name": "France",
           "scene": "scene",
           "showlegend": true,
           "type": "scatter3d",
           "x": {
            "bdata": "+ihlMg==",
            "dtype": "i4"
           },
           "y": [
            30314626610581
           ],
           "z": {
            "bdata": "9ihcj8IFUUA=",
            "dtype": "f8"
           }
          },
          {
           "hovertemplate": "<b>%{hovertext}</b><br><br>Country=Brazil<br>Year=2020<br>Population=%{marker.size}<br>GDP=%{y}<br>LifeExpectancy=%{z}<extra></extra>",
           "hovertext": [
            "Brazil"
           ],
           "ids": [
            "Brazil"
           ],
           "legendgroup": "Brazil",
           "marker": {
            "color": "#FF6692",
            "size": {
             "bdata": "XgobOA==",
             "dtype": "i4"
            },
            "sizemode": "area",
            "sizeref": 5018178.29,
            "symbol": "circle"
           },
           "mode": "markers",
           "name": "Brazil",
           "scene": "scene",
           "showlegend": true,
           "type": "scatter3d",
           "x": {
            "bdata": "XgobOA==",
            "dtype": "i4"
           },
           "y": [
            14677296669617
           ],
           "z": {
            "bdata": "exSuR+E6VEA=",
            "dtype": "f8"
           }
          },
          {
           "hovertemplate": "<b>%{hovertext}</b><br><br>Country=Japan<br>Year=2020<br>Population=%{marker.size}<br>GDP=%{y}<br>LifeExpectancy=%{z}<extra></extra>",
           "hovertext": [
            "Japan"
           ],
           "ids": [
            "Japan"
           ],
           "legendgroup": "Japan",
           "marker": {
            "color": "#B6E880",
            "size": {
             "bdata": "576xcw==",
             "dtype": "i4"
            },
            "sizemode": "area",
            "sizeref": 5018178.29,
            "symbol": "circle"
           },
           "mode": "markers",
           "name": "Japan",
           "scene": "scene",
           "showlegend": true,
           "type": "scatter3d",
           "x": {
            "bdata": "576xcw==",
            "dtype": "i4"
           },
           "y": [
            32222133347640
           ],
           "z": {
            "bdata": "uB6F61GIVUA=",
            "dtype": "f8"
           }
          },
          {
           "hovertemplate": "<b>%{hovertext}</b><br><br>Country=Canada<br>Year=2020<br>Population=%{marker.size}<br>GDP=%{y}<br>LifeExpectancy=%{z}<extra></extra>",
           "hovertext": [
            "Canada"
           ],
           "ids": [
            "Canada"
           ],
           "legendgroup": "Canada",
           "marker": {
            "color": "#FF97FF",
            "size": {
             "bdata": "SMpZTQ==",
             "dtype": "i4"
            },
            "sizemode": "area",
            "sizeref": 5018178.29,
            "symbol": "circle"
           },
           "mode": "markers",
           "name": "Canada",
           "scene": "scene",
           "showlegend": true,
           "type": "scatter3d",
           "x": {
            "bdata": "SMpZTQ==",
            "dtype": "i4"
           },
           "y": [
            28033955971193
           ],
           "z": {
            "bdata": "w/UoXI+SUkA=",
            "dtype": "f8"
           }
          },
          {
           "hovertemplate": "<b>%{hovertext}</b><br><br>Country=Australia<br>Year=2020<br>Population=%{marker.size}<br>GDP=%{y}<br>LifeExpectancy=%{z}<extra></extra>",
           "hovertext": [
            "Australia"
           ],
           "ids": [
            "Australia"
           ],
           "legendgroup": "Australia",
           "marker": {
            "color": "#FECB52",
            "size": {
             "bdata": "da6WPA==",
             "dtype": "i4"
            },
            "sizemode": "area",
            "sizeref": 5018178.29,
            "symbol": "circle"
           },
           "mode": "markers",
           "name": "Australia",
           "scene": "scene",
           "showlegend": true,
           "type": "scatter3d",
           "x": {
            "bdata": "da6WPA==",
            "dtype": "i4"
           },
           "y": [
            32022315105661
           ],
           "z": {
            "bdata": "SOF6FK4HUEA=",
            "dtype": "f8"
           }
          }
         ],
         "name": "2020"
        }
       ],
       "layout": {
        "legend": {
         "itemsizing": "constant",
         "title": {
          "text": "Country"
         },
         "tracegroupgap": 0
        },
        "margin": {
         "t": 60
        },
        "scene": {
         "domain": {
          "x": [
           0,
           1
          ],
          "y": [
           0,
           1
          ]
         },
         "xaxis": {
          "title": {
           "text": "Population"
          }
         },
         "yaxis": {
          "title": {
           "text": "GDP"
          }
         },
         "zaxis": {
          "title": {
           "text": "LifeExpectancy"
          }
         }
        },
        "sliders": [
         {
          "active": 0,
          "currentvalue": {
           "prefix": "Year="
          },
          "len": 0.9,
          "pad": {
           "b": 10,
           "t": 60
          },
          "steps": [
           {
            "args": [
             [
              "2000"
             ],
             {
              "frame": {
               "duration": 0,
               "redraw": true
              },
              "fromcurrent": true,
              "mode": "immediate",
              "transition": {
               "duration": 0,
               "easing": "linear"
              }
             }
            ],
            "label": "2000",
            "method": "animate"
           },
           {
            "args": [
             [
              "2001"
             ],
             {
              "frame": {
               "duration": 0,
               "redraw": true
              },
              "fromcurrent": true,
              "mode": "immediate",
              "transition": {
               "duration": 0,
               "easing": "linear"
              }
             }
            ],
            "label": "2001",
            "method": "animate"
           },
           {
            "args": [
             [
              "2002"
             ],
             {
              "frame": {
               "duration": 0,
               "redraw": true
              },
              "fromcurrent": true,
              "mode": "immediate",
              "transition": {
               "duration": 0,
               "easing": "linear"
              }
             }
            ],
            "label": "2002",
            "method": "animate"
           },
           {
            "args": [
             [
              "2003"
             ],
             {
              "frame": {
               "duration": 0,
               "redraw": true
              },
              "fromcurrent": true,
              "mode": "immediate",
              "transition": {
               "duration": 0,
               "easing": "linear"
              }
             }
            ],
            "label": "2003",
            "method": "animate"
           },
           {
            "args": [
             [
              "2004"
             ],
             {
              "frame": {
               "duration": 0,
               "redraw": true
              },
              "fromcurrent": true,
              "mode": "immediate",
              "transition": {
               "duration": 0,
               "easing": "linear"
              }
             }
            ],
            "label": "2004",
            "method": "animate"
           },
           {
            "args": [
             [
              "2005"
             ],
             {
              "frame": {
               "duration": 0,
               "redraw": true
              },
              "fromcurrent": true,
              "mode": "immediate",
              "transition": {
               "duration": 0,
               "easing": "linear"
              }
             }
            ],
            "label": "2005",
            "method": "animate"
           },
           {
            "args": [
             [
              "2006"
             ],
             {
              "frame": {
               "duration": 0,
               "redraw": true
              },
              "fromcurrent": true,
              "mode": "immediate",
              "transition": {
               "duration": 0,
               "easing": "linear"
              }
             }
            ],
            "label": "2006",
            "method": "animate"
           },
           {
            "args": [
             [
              "2007"
             ],
             {
              "frame": {
               "duration": 0,
               "redraw": true
              },
              "fromcurrent": true,
              "mode": "immediate",
              "transition": {
               "duration": 0,
               "easing": "linear"
              }
             }
            ],
            "label": "2007",
            "method": "animate"
           },
           {
            "args": [
             [
              "2008"
             ],
             {
              "frame": {
               "duration": 0,
               "redraw": true
              },
              "fromcurrent": true,
              "mode": "immediate",
              "transition": {
               "duration": 0,
               "easing": "linear"
              }
             }
            ],
            "label": "2008",
            "method": "animate"
           },
           {
            "args": [
             [
              "2009"
             ],
             {
              "frame": {
               "duration": 0,
               "redraw": true
              },
              "fromcurrent": true,
              "mode": "immediate",
              "transition": {
               "duration": 0,
               "easing": "linear"
              }
             }
            ],
            "label": "2009",
            "method": "animate"
           },
           {
            "args": [
             [
              "2010"
             ],
             {
              "frame": {
               "duration": 0,
               "redraw": true
              },
              "fromcurrent": true,
              "mode": "immediate",
              "transition": {
               "duration": 0,
               "easing": "linear"
              }
             }
            ],
            "label": "2010",
            "method": "animate"
           },
           {
            "args": [
             [
              "2011"
             ],
             {
              "frame": {
               "duration": 0,
               "redraw": true
              },
              "fromcurrent": true,
              "mode": "immediate",
              "transition": {
               "duration": 0,
               "easing": "linear"
              }
             }
            ],
            "label": "2011",
            "method": "animate"
           },
           {
            "args": [
             [
              "2012"
             ],
             {
              "frame": {
               "duration": 0,
               "redraw": true
              },
              "fromcurrent": true,
              "mode": "immediate",
              "transition": {
               "duration": 0,
               "easing": "linear"
              }
             }
            ],
            "label": "2012",
            "method": "animate"
           },
           {
            "args": [
             [
              "2013"
             ],
             {
              "frame": {
               "duration": 0,
               "redraw": true
              },
              "fromcurrent": true,
              "mode": "immediate",
              "transition": {
               "duration": 0,
               "easing": "linear"
              }
             }
            ],
            "label": "2013",
            "method": "animate"
           },
           {
            "args": [
             [
              "2014"
             ],
             {
              "frame": {
               "duration": 0,
               "redraw": true
              },
              "fromcurrent": true,
              "mode": "immediate",
              "transition": {
               "duration": 0,
               "easing": "linear"
              }
             }
            ],
            "label": "2014",
            "method": "animate"
           },
           {
            "args": [
             [
              "2015"
             ],
             {
              "frame": {
               "duration": 0,
               "redraw": true
              },
              "fromcurrent": true,
              "mode": "immediate",
              "transition": {
               "duration": 0,
               "easing": "linear"
              }
             }
            ],
            "label": "2015",
            "method": "animate"
           },
           {
            "args": [
             [
              "2016"
             ],
             {
              "frame": {
               "duration": 0,
               "redraw": true
              },
              "fromcurrent": true,
              "mode": "immediate",
              "transition": {
               "duration": 0,
               "easing": "linear"
              }
             }
            ],
            "label": "2016",
            "method": "animate"
           },
           {
            "args": [
             [
              "2017"
             ],
             {
              "frame": {
               "duration": 0,
               "redraw": true
              },
              "fromcurrent": true,
              "mode": "immediate",
              "transition": {
               "duration": 0,
               "easing": "linear"
              }
             }
            ],
            "label": "2017",
            "method": "animate"
           },
           {
            "args": [
             [
              "2018"
             ],
             {
              "frame": {
               "duration": 0,
               "redraw": true
              },
              "fromcurrent": true,
              "mode": "immediate",
              "transition": {
               "duration": 0,
               "easing": "linear"
              }
             }
            ],
            "label": "2018",
            "method": "animate"
           },
           {
            "args": [
             [
              "2019"
             ],
             {
              "frame": {
               "duration": 0,
               "redraw": true
              },
              "fromcurrent": true,
              "mode": "immediate",
              "transition": {
               "duration": 0,
               "easing": "linear"
              }
             }
            ],
            "label": "2019",
            "method": "animate"
           },
           {
            "args": [
             [
              "2020"
             ],
             {
              "frame": {
               "duration": 0,
               "redraw": true
              },
              "fromcurrent": true,
              "mode": "immediate",
              "transition": {
               "duration": 0,
               "easing": "linear"
              }
             }
            ],
            "label": "2020",
            "method": "animate"
           }
          ],
          "x": 0.1,
          "xanchor": "left",
          "y": 0,
          "yanchor": "top"
         }
        ],
        "template": {
         "data": {
          "bar": [
           {
            "error_x": {
             "color": "#2a3f5f"
            },
            "error_y": {
             "color": "#2a3f5f"
            },
            "marker": {
             "line": {
              "color": "#E5ECF6",
              "width": 0.5
             },
             "pattern": {
              "fillmode": "overlay",
              "size": 10,
              "solidity": 0.2
             }
            },
            "type": "bar"
           }
          ],
          "barpolar": [
           {
            "marker": {
             "line": {
              "color": "#E5ECF6",
              "width": 0.5
             },
             "pattern": {
              "fillmode": "overlay",
              "size": 10,
              "solidity": 0.2
             }
            },
            "type": "barpolar"
           }
          ],
          "carpet": [
           {
            "aaxis": {
             "endlinecolor": "#2a3f5f",
             "gridcolor": "white",
             "linecolor": "white",
             "minorgridcolor": "white",
             "startlinecolor": "#2a3f5f"
            },
            "baxis": {
             "endlinecolor": "#2a3f5f",
             "gridcolor": "white",
             "linecolor": "white",
             "minorgridcolor": "white",
             "startlinecolor": "#2a3f5f"
            },
            "type": "carpet"
           }
          ],
          "choropleth": [
           {
            "colorbar": {
             "outlinewidth": 0,
             "ticks": ""
            },
            "type": "choropleth"
           }
          ],
          "contour": [
           {
            "colorbar": {
             "outlinewidth": 0,
             "ticks": ""
            },
            "colorscale": [
             [
              0,
              "#0d0887"
             ],
             [
              0.1111111111111111,
              "#46039f"
             ],
             [
              0.2222222222222222,
              "#7201a8"
             ],
             [
              0.3333333333333333,
              "#9c179e"
             ],
             [
              0.4444444444444444,
              "#bd3786"
             ],
             [
              0.5555555555555556,
              "#d8576b"
             ],
             [
              0.6666666666666666,
              "#ed7953"
             ],
             [
              0.7777777777777778,
              "#fb9f3a"
             ],
             [
              0.8888888888888888,
              "#fdca26"
             ],
             [
              1,
              "#f0f921"
             ]
            ],
            "type": "contour"
           }
          ],
          "contourcarpet": [
           {
            "colorbar": {
             "outlinewidth": 0,
             "ticks": ""
            },
            "type": "contourcarpet"
           }
          ],
          "heatmap": [
           {
            "colorbar": {
             "outlinewidth": 0,
             "ticks": ""
            },
            "colorscale": [
             [
              0,
              "#0d0887"
             ],
             [
              0.1111111111111111,
              "#46039f"
             ],
             [
              0.2222222222222222,
              "#7201a8"
             ],
             [
              0.3333333333333333,
              "#9c179e"
             ],
             [
              0.4444444444444444,
              "#bd3786"
             ],
             [
              0.5555555555555556,
              "#d8576b"
             ],
             [
              0.6666666666666666,
              "#ed7953"
             ],
             [
              0.7777777777777778,
              "#fb9f3a"
             ],
             [
              0.8888888888888888,
              "#fdca26"
             ],
             [
              1,
              "#f0f921"
             ]
            ],
            "type": "heatmap"
           }
          ],
          "histogram": [
           {
            "marker": {
             "pattern": {
              "fillmode": "overlay",
              "size": 10,
              "solidity": 0.2
             }
            },
            "type": "histogram"
           }
          ],
          "histogram2d": [
           {
            "colorbar": {
             "outlinewidth": 0,
             "ticks": ""
            },
            "colorscale": [
             [
              0,
              "#0d0887"
             ],
             [
              0.1111111111111111,
              "#46039f"
             ],
             [
              0.2222222222222222,
              "#7201a8"
             ],
             [
              0.3333333333333333,
              "#9c179e"
             ],
             [
              0.4444444444444444,
              "#bd3786"
             ],
             [
              0.5555555555555556,
              "#d8576b"
             ],
             [
              0.6666666666666666,
              "#ed7953"
             ],
             [
              0.7777777777777778,
              "#fb9f3a"
             ],
             [
              0.8888888888888888,
              "#fdca26"
             ],
             [
              1,
              "#f0f921"
             ]
            ],
            "type": "histogram2d"
           }
          ],
          "histogram2dcontour": [
           {
            "colorbar": {
             "outlinewidth": 0,
             "ticks": ""
            },
            "colorscale": [
             [
              0,
              "#0d0887"
             ],
             [
              0.1111111111111111,
              "#46039f"
             ],
             [
              0.2222222222222222,
              "#7201a8"
             ],
             [
              0.3333333333333333,
              "#9c179e"
             ],
             [
              0.4444444444444444,
              "#bd3786"
             ],
             [
              0.5555555555555556,
              "#d8576b"
             ],
             [
              0.6666666666666666,
              "#ed7953"
             ],
             [
              0.7777777777777778,
              "#fb9f3a"
             ],
             [
              0.8888888888888888,
              "#fdca26"
             ],
             [
              1,
              "#f0f921"
             ]
            ],
            "type": "histogram2dcontour"
           }
          ],
          "mesh3d": [
           {
            "colorbar": {
             "outlinewidth": 0,
             "ticks": ""
            },
            "type": "mesh3d"
           }
          ],
          "parcoords": [
           {
            "line": {
             "colorbar": {
              "outlinewidth": 0,
              "ticks": ""
             }
            },
            "type": "parcoords"
           }
          ],
          "pie": [
           {
            "automargin": true,
            "type": "pie"
           }
          ],
          "scatter": [
           {
            "fillpattern": {
             "fillmode": "overlay",
             "size": 10,
             "solidity": 0.2
            },
            "type": "scatter"
           }
          ],
          "scatter3d": [
           {
            "line": {
             "colorbar": {
              "outlinewidth": 0,
              "ticks": ""
             }
            },
            "marker": {
             "colorbar": {
              "outlinewidth": 0,
              "ticks": ""
             }
            },
            "type": "scatter3d"
           }
          ],
          "scattercarpet": [
           {
            "marker": {
             "colorbar": {
              "outlinewidth": 0,
              "ticks": ""
             }
            },
            "type": "scattercarpet"
           }
          ],
          "scattergeo": [
           {
            "marker": {
             "colorbar": {
              "outlinewidth": 0,
              "ticks": ""
             }
            },
            "type": "scattergeo"
           }
          ],
          "scattergl": [
           {
            "marker": {
             "colorbar": {
              "outlinewidth": 0,
              "ticks": ""
             }
            },
            "type": "scattergl"
           }
          ],
          "scattermap": [
           {
            "marker": {
             "colorbar": {
              "outlinewidth": 0,
              "ticks": ""
             }
            },
            "type": "scattermap"
           }
          ],
          "scattermapbox": [
           {
            "marker": {
             "colorbar": {
              "outlinewidth": 0,
              "ticks": ""
             }
            },
            "type": "scattermapbox"
           }
          ],
          "scatterpolar": [
           {
            "marker": {
             "colorbar": {
              "outlinewidth": 0,
              "ticks": ""
             }
            },
            "type": "scatterpolar"
           }
          ],
          "scatterpolargl": [
           {
            "marker": {
             "colorbar": {
              "outlinewidth": 0,
              "ticks": ""
             }
            },
            "type": "scatterpolargl"
           }
          ],
          "scatterternary": [
           {
            "marker": {
             "colorbar": {
              "outlinewidth": 0,
              "ticks": ""
             }
            },
            "type": "scatterternary"
           }
          ],
          "surface": [
           {
            "colorbar": {
             "outlinewidth": 0,
             "ticks": ""
            },
            "colorscale": [
             [
              0,
              "#0d0887"
             ],
             [
              0.1111111111111111,
              "#46039f"
             ],
             [
              0.2222222222222222,
              "#7201a8"
             ],
             [
              0.3333333333333333,
              "#9c179e"
             ],
             [
              0.4444444444444444,
              "#bd3786"
             ],
             [
              0.5555555555555556,
              "#d8576b"
             ],
             [
              0.6666666666666666,
              "#ed7953"
             ],
             [
              0.7777777777777778,
              "#fb9f3a"
             ],
             [
              0.8888888888888888,
              "#fdca26"
             ],
             [
              1,
              "#f0f921"
             ]
            ],
            "type": "surface"
           }
          ],
          "table": [
           {
            "cells": {
             "fill": {
              "color": "#EBF0F8"
             },
             "line": {
              "color": "white"
             }
            },
            "header": {
             "fill": {
              "color": "#C8D4E3"
             },
             "line": {
              "color": "white"
             }
            },
            "type": "table"
           }
          ]
         },
         "layout": {
          "annotationdefaults": {
           "arrowcolor": "#2a3f5f",
           "arrowhead": 0,
           "arrowwidth": 1
          },
          "autotypenumbers": "strict",
          "coloraxis": {
           "colorbar": {
            "outlinewidth": 0,
            "ticks": ""
           }
          },
          "colorscale": {
           "diverging": [
            [
             0,
             "#8e0152"
            ],
            [
             0.1,
             "#c51b7d"
            ],
            [
             0.2,
             "#de77ae"
            ],
            [
             0.3,
             "#f1b6da"
            ],
            [
             0.4,
             "#fde0ef"
            ],
            [
             0.5,
             "#f7f7f7"
            ],
            [
             0.6,
             "#e6f5d0"
            ],
            [
             0.7,
             "#b8e186"
            ],
            [
             0.8,
             "#7fbc41"
            ],
            [
             0.9,
             "#4d9221"
            ],
            [
             1,
             "#276419"
            ]
           ],
           "sequential": [
            [
             0,
             "#0d0887"
            ],
            [
             0.1111111111111111,
             "#46039f"
            ],
            [
             0.2222222222222222,
             "#7201a8"
            ],
            [
             0.3333333333333333,
             "#9c179e"
            ],
            [
             0.4444444444444444,
             "#bd3786"
            ],
            [
             0.5555555555555556,
             "#d8576b"
            ],
            [
             0.6666666666666666,
             "#ed7953"
            ],
            [
             0.7777777777777778,
             "#fb9f3a"
            ],
            [
             0.8888888888888888,
             "#fdca26"
            ],
            [
             1,
             "#f0f921"
            ]
           ],
           "sequentialminus": [
            [
             0,
             "#0d0887"
            ],
            [
             0.1111111111111111,
             "#46039f"
            ],
            [
             0.2222222222222222,
             "#7201a8"
            ],
            [
             0.3333333333333333,
             "#9c179e"
            ],
            [
             0.4444444444444444,
             "#bd3786"
            ],
            [
             0.5555555555555556,
             "#d8576b"
            ],
            [
             0.6666666666666666,
             "#ed7953"
            ],
            [
             0.7777777777777778,
             "#fb9f3a"
            ],
            [
             0.8888888888888888,
             "#fdca26"
            ],
            [
             1,
             "#f0f921"
            ]
           ]
          },
          "colorway": [
           "#636efa",
           "#EF553B",
           "#00cc96",
           "#ab63fa",
           "#FFA15A",
           "#19d3f3",
           "#FF6692",
           "#B6E880",
           "#FF97FF",
           "#FECB52"
          ],
          "font": {
           "color": "#2a3f5f"
          },
          "geo": {
           "bgcolor": "white",
           "lakecolor": "white",
           "landcolor": "#E5ECF6",
           "showlakes": true,
           "showland": true,
           "subunitcolor": "white"
          },
          "hoverlabel": {
           "align": "left"
          },
          "hovermode": "closest",
          "mapbox": {
           "style": "light"
          },
          "paper_bgcolor": "white",
          "plot_bgcolor": "#E5ECF6",
          "polar": {
           "angularaxis": {
            "gridcolor": "white",
            "linecolor": "white",
            "ticks": ""
           },
           "bgcolor": "#E5ECF6",
           "radialaxis": {
            "gridcolor": "white",
            "linecolor": "white",
            "ticks": ""
           }
          },
          "scene": {
           "xaxis": {
            "backgroundcolor": "#E5ECF6",
            "gridcolor": "white",
            "gridwidth": 2,
            "linecolor": "white",
            "showbackground": true,
            "ticks": "",
            "zerolinecolor": "white"
           },
           "yaxis": {
            "backgroundcolor": "#E5ECF6",
            "gridcolor": "white",
            "gridwidth": 2,
            "linecolor": "white",
            "showbackground": true,
            "ticks": "",
            "zerolinecolor": "white"
           },
           "zaxis": {
            "backgroundcolor": "#E5ECF6",
            "gridcolor": "white",
            "gridwidth": 2,
            "linecolor": "white",
            "showbackground": true,
            "ticks": "",
            "zerolinecolor": "white"
           }
          },
          "shapedefaults": {
           "line": {
            "color": "#2a3f5f"
           }
          },
          "ternary": {
           "aaxis": {
            "gridcolor": "white",
            "linecolor": "white",
            "ticks": ""
           },
           "baxis": {
            "gridcolor": "white",
            "linecolor": "white",
            "ticks": ""
           },
           "bgcolor": "#E5ECF6",
           "caxis": {
            "gridcolor": "white",
            "linecolor": "white",
            "ticks": ""
           }
          },
          "title": {
           "x": 0.05
          },
          "xaxis": {
           "automargin": true,
           "gridcolor": "white",
           "linecolor": "white",
           "ticks": "",
           "title": {
            "standoff": 15
           },
           "zerolinecolor": "white",
           "zerolinewidth": 2
          },
          "yaxis": {
           "automargin": true,
           "gridcolor": "white",
           "linecolor": "white",
           "ticks": "",
           "title": {
            "standoff": 15
           },
           "zerolinecolor": "white",
           "zerolinewidth": 2
          }
         }
        },
        "updatemenus": [
         {
          "buttons": [
           {
            "args": [
             null,
             {
              "frame": {
               "duration": 500,
               "redraw": true
              },
              "fromcurrent": true,
              "mode": "immediate",
              "transition": {
               "duration": 500,
               "easing": "linear"
              }
             }
            ],
            "label": "&#9654;",
            "method": "animate"
           },
           {
            "args": [
             [
              null
             ],
             {
              "frame": {
               "duration": 0,
               "redraw": true
              },
              "fromcurrent": true,
              "mode": "immediate",
              "transition": {
               "duration": 0,
               "easing": "linear"
              }
             }
            ],
            "label": "&#9724;",
            "method": "animate"
           }
          ],
          "direction": "left",
          "pad": {
           "r": 10,
           "t": 70
          },
          "showactive": false,
          "type": "buttons",
          "x": 0.1,
          "xanchor": "right",
          "y": 0,
          "yanchor": "top"
         }
        ]
       }
      }
     },
     "metadata": {},
     "output_type": "display_data"
    }
   ],
   "source": [
    "# 4. 3D 산점도 작성 및 필터 기능 추가\n",
    "fig = px.scatter_3d(data, x='Population', y='GDP', z='LifeExpectancy',\n",
    "                    color='Country', size='Population', hover_name='Country',\n",
    "                    animation_frame='Year', animation_group='Country')\n",
    "\n",
    "# 3D 그래프 출력\n",
    "fig.show()\n"
   ]
  }
 ],
 "metadata": {
  "kernelspec": {
   "display_name": "Python 3",
   "language": "python",
   "name": "python3"
  },
  "language_info": {
   "codemirror_mode": {
    "name": "ipython",
    "version": 3
   },
   "file_extension": ".py",
   "mimetype": "text/x-python",
   "name": "python",
   "nbconvert_exporter": "python",
   "pygments_lexer": "ipython3",
   "version": "3.11.9"
  }
 },
 "nbformat": 4,
 "nbformat_minor": 5
}
